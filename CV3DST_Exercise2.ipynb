{
  "cells": [
    {
      "cell_type": "markdown",
      "metadata": {
        "id": "xABx3A-soZMM"
      },
      "source": [
        "# Computer Vision III: Detection, Segmentation and Tracking (CV3DST) GNN Exercise\n",
        "\n",
        "In this exercise, we will first develop an extension of the ReID-based tracker we created in the previous exercise that will make it more robust to occlusions by allowing it to recover from missed detections.\n",
        "\n",
        "We will then implement a Message Passing Network from scratch, and we will use to build a model that will learn to combine position information and reid features to directly predict associations between past tracks and detections. We will use this model to create robust tracker.\n",
        "\n",
        "Your tasks are the following:\n",
        "- Adapt the track management scheme of our ReIDTracker allow it to recover from missed detections.\n",
        "- Implement a Message Passing Network from scratch to operate on bipartite graphs\n",
        "- Implement the pairwise feature  computation to obtain features for our Message Passing Network\n",
        "- Train the Message Passing Network and improve your tracker's IDF1 score\n",
        "\n",
        "\n",
        "## Setup\n",
        "\n",
        "### Download and extract project data to your Google Drive\n",
        "\n",
        "1.   **Required**: Please follow all instructions of exercise 0 before running this notebook.\n",
        "2.   Save this notebook to your Google Drive by clicking `Save a copy in Drive` from the `File` menu.\n",
        "3.   Download [this](https://vision.in.tum.de/webshare/u/cetintas/cv3dst_gnn_exercise.zip) zip file to your desktop, extract it and upload it into the `Colab Notebooks` folder in your Google Drive."
      ]
    },
    {
      "cell_type": "markdown",
      "metadata": {
        "id": "DWELy8_1pDm9"
      },
      "source": [
        "#### Connect the notebook to your Google Drive"
      ]
    },
    {
      "cell_type": "code",
      "execution_count": null,
      "metadata": {
        "id": "QY4sb4bP7Wi8",
        "colab": {
          "base_uri": "https://localhost:8080/"
        },
        "outputId": "c97d581d-9ea3-47a9-d728-c09ba6ff2d6a"
      },
      "outputs": [
        {
          "output_type": "stream",
          "name": "stdout",
          "text": [
            "Mounted at /content/gdrive\n"
          ]
        }
      ],
      "source": [
        "from google.colab import drive\n",
        "\n",
        "drive.mount('/content/gdrive')"
      ]
    },
    {
      "cell_type": "code",
      "execution_count": null,
      "metadata": {
        "id": "7CDNCYKuF0VD"
      },
      "outputs": [],
      "source": [
        "root_dir = \"gdrive/My Drive/Colab Notebooks/cv3dst_exercise/\"\n",
        "gnn_root_dir = \"gdrive/My Drive/Colab Notebooks/cv3dst_gnn_exercise/\""
      ]
    },
    {
      "cell_type": "code",
      "source": [
        "%load_ext autoreload\n",
        "%autoreload 2\n",
        "%matplotlib inline\n",
        "\n",
        "!pip install tqdm lap\n",
        "!pip install https://github.com/timmeinhardt/py-motmetrics/archive/fix_pandas_deprecating_warnings.zip"
      ],
      "metadata": {
        "colab": {
          "base_uri": "https://localhost:8080/"
        },
        "id": "xVVHawVUNa90",
        "outputId": "7231638e-d3b0-4b81-a932-735067f244b5"
      },
      "execution_count": null,
      "outputs": [
        {
          "output_type": "stream",
          "name": "stdout",
          "text": [
            "Looking in indexes: https://pypi.org/simple, https://us-python.pkg.dev/colab-wheels/public/simple/\n",
            "Requirement already satisfied: tqdm in /usr/local/lib/python3.7/dist-packages (4.64.0)\n",
            "Collecting lap\n",
            "  Downloading lap-0.4.0.tar.gz (1.5 MB)\n",
            "\u001b[K     |████████████████████████████████| 1.5 MB 8.0 MB/s \n",
            "\u001b[?25hBuilding wheels for collected packages: lap\n",
            "  Building wheel for lap (setup.py) ... \u001b[?25l\u001b[?25hdone\n",
            "  Created wheel for lap: filename=lap-0.4.0-cp37-cp37m-linux_x86_64.whl size=1590229 sha256=2888d0d67e9d4f788ed6ac4ca631c069427678816452fc21851ea966b935ce5f\n",
            "  Stored in directory: /root/.cache/pip/wheels/b1/0b/e3/ef9daf1b5547b56389e42c80c3100f1e6479bf5fd00fd9d6ba\n",
            "Successfully built lap\n",
            "Installing collected packages: lap\n",
            "Successfully installed lap-0.4.0\n",
            "Looking in indexes: https://pypi.org/simple, https://us-python.pkg.dev/colab-wheels/public/simple/\n",
            "Collecting https://github.com/timmeinhardt/py-motmetrics/archive/fix_pandas_deprecating_warnings.zip\n",
            "  Downloading https://github.com/timmeinhardt/py-motmetrics/archive/fix_pandas_deprecating_warnings.zip\n",
            "\u001b[K     \\ 148 kB 4.7 MB/s\n",
            "\u001b[?25hRequirement already satisfied: numpy>=1.12.1 in /usr/local/lib/python3.7/dist-packages (from motmetrics==1.1.3) (1.21.6)\n",
            "Requirement already satisfied: pandas>=0.23.1 in /usr/local/lib/python3.7/dist-packages (from motmetrics==1.1.3) (1.3.5)\n",
            "Requirement already satisfied: scipy>=0.19.0 in /usr/local/lib/python3.7/dist-packages (from motmetrics==1.1.3) (1.7.3)\n",
            "Requirement already satisfied: python-dateutil>=2.7.3 in /usr/local/lib/python3.7/dist-packages (from pandas>=0.23.1->motmetrics==1.1.3) (2.8.2)\n",
            "Requirement already satisfied: pytz>=2017.3 in /usr/local/lib/python3.7/dist-packages (from pandas>=0.23.1->motmetrics==1.1.3) (2022.1)\n",
            "Requirement already satisfied: six>=1.5 in /usr/local/lib/python3.7/dist-packages (from python-dateutil>=2.7.3->pandas>=0.23.1->motmetrics==1.1.3) (1.15.0)\n",
            "Building wheels for collected packages: motmetrics\n",
            "  Building wheel for motmetrics (setup.py) ... \u001b[?25l\u001b[?25hdone\n",
            "  Created wheel for motmetrics: filename=motmetrics-1.1.3-py3-none-any.whl size=134199 sha256=74da72b5f4f8e5004bb504428cddc2683d39b34d321f5d947f669b7b5e861953\n",
            "  Stored in directory: /tmp/pip-ephem-wheel-cache-fby2lsaz/wheels/39/60/bf/90b1b02ff42db1bf7f2d2fa3eef2fe8bc46061182cf4ce7b37\n",
            "Successfully built motmetrics\n",
            "Installing collected packages: motmetrics\n",
            "Successfully installed motmetrics-1.1.3\n"
          ]
        }
      ]
    },
    {
      "cell_type": "markdown",
      "metadata": {
        "id": "3wme28GdFAFY"
      },
      "source": [
        "The `root_dir` path points to the directory and the content in your Google Drive."
      ]
    },
    {
      "cell_type": "markdown",
      "metadata": {
        "id": "LFYSSMiwpxSq"
      },
      "source": [
        "#### Install and import Python libraries"
      ]
    },
    {
      "cell_type": "code",
      "execution_count": null,
      "metadata": {
        "id": "RGOohkAgo-hW"
      },
      "outputs": [],
      "source": [
        "import os\n",
        "import sys\n",
        "sys.path.append(os.path.join(gnn_root_dir, 'src'))\n",
        "\n",
        "\n",
        "import matplotlib.pyplot as plt\n",
        "import numpy as np\n",
        "import time\n",
        "from tqdm.autonotebook import tqdm\n",
        "\n",
        "import torch\n",
        "from torch.utils.data import DataLoader\n",
        "\n",
        "from tracker.data_track import MOT16Sequences\n",
        "from tracker.tracker import Tracker, ReIDTracker\n",
        "from tracker.utils import run_tracker, cosine_distance\n",
        "from scipy.optimize import linear_sum_assignment as linear_assignment\n",
        "import os.path as osp\n",
        "\n",
        "import motmetrics as mm\n",
        "mm.lap.default_solver = 'lap'\n",
        "\n",
        "import sys\n",
        "import os\n",
        "sys.path.append(os.path.join(gnn_root_dir, 'src2'))\n",
        "from tracker.object_detector import FRCNN_FPN\n",
        "import torch\n",
        "from PIL import Image\n",
        "\n",
        "\n",
        "def crop_imgs(img, boxes, transforms):\n",
        "    assert isinstance(img, Image.Image)\n",
        "\n",
        "    crops = []\n",
        "    for box in boxes:\n",
        "        box_crop = img.crop(box)\n",
        "        crops.append(transforms(box_crop))\n",
        "    #return np.stack(crops)\n",
        "    return torch.stack(crops)\n",
        "\n",
        "\n",
        "def load_obj_detect(obj_detect_model_file):\n",
        "    obj_detect_nms_thresh = 0.3\n",
        "\n",
        "    device = torch.device('cuda') if torch.cuda.is_available() else torch.device('cpu')\n",
        "\n",
        "    # object detector\n",
        "    obj_detect = FRCNN_FPN(num_classes=2, nms_thresh=obj_detect_nms_thresh)\n",
        "    obj_detect_state_dict = torch.load(obj_detect_model_file,\n",
        "                                    map_location=lambda storage, loc: storage)\n",
        "    obj_detect.load_state_dict(obj_detect_state_dict)\n",
        "    obj_detect.eval()\n",
        "    obj_detect.cuda()\n",
        "\n",
        "    return obj_detect"
      ]
    },
    {
      "cell_type": "code",
      "source": [
        "! wget https://vision.in.tum.de/webshare/u/brasoand/cv3dst/resnet50_reid.pth"
      ],
      "metadata": {
        "colab": {
          "base_uri": "https://localhost:8080/"
        },
        "id": "ZGNx235vJsOR",
        "outputId": "54a1d546-5ce7-4414-b1b4-8f368660906e"
      },
      "execution_count": null,
      "outputs": [
        {
          "output_type": "stream",
          "name": "stdout",
          "text": [
            "--2022-08-01 16:31:15--  https://vision.in.tum.de/webshare/u/brasoand/cv3dst/resnet50_reid.pth\n",
            "Resolving vision.in.tum.de (vision.in.tum.de)... 131.159.19.110, 2a09:80c0:18::1110\n",
            "Connecting to vision.in.tum.de (vision.in.tum.de)|131.159.19.110|:443... connected.\n",
            "HTTP request sent, awaiting response... 200 OK\n",
            "Length: 86824473 (83M)\n",
            "Saving to: ‘resnet50_reid.pth’\n",
            "\n",
            "resnet50_reid.pth   100%[===================>]  82.80M  17.0MB/s    in 5.9s    \n",
            "\n",
            "2022-08-01 16:31:22 (14.0 MB/s) - ‘resnet50_reid.pth’ saved [86824473/86824473]\n",
            "\n"
          ]
        }
      ]
    },
    {
      "cell_type": "code",
      "source": [
        "from torchvision import transforms as T\n",
        "from market.models import build_model\n",
        "\n",
        "obj_detect= load_obj_detect(os.path.join(root_dir, 'models', 'faster_rcnn_fpn.model'))\n",
        "crop_size = (256, 128)\n",
        "tforms = T.Compose((T.Resize(crop_size), T.ToTensor(), T.Normalize(mean=[0.485, 0.456, 0.406], std=[0.229, 0.224, 0.225])))\n",
        "reid_model = build_model('resnet34', 751, loss='softmax', pretrained=True)\n",
        "\n",
        "\n",
        "reid_ckpt = torch.load('resnet50_reid.pth')\n",
        "reid_model.load_state_dict(reid_ckpt)"
      ],
      "metadata": {
        "colab": {
          "base_uri": "https://localhost:8080/",
          "height": 176,
          "referenced_widgets": [
            "451a3d4355ad4e86880b4bd870259b88",
            "47476337c5aa4cb0aa1602ed30d5dcc2",
            "cdbe4e88240a4d90b3ecb8e6e3648f28",
            "8d140f0ee5d342a99fdd28a4e119bb32",
            "ce179d9903f94cf8800e24a181f55494",
            "57139e9580bf406c98a0e7bf0bb7f2d9",
            "8b77bc4b5339430f99b6a6d75aeaf749",
            "b06def36cee8498b894dfa04fa23f503",
            "a33b51147b6144a09a4eaa4234fa65b9",
            "840141de878a410c99b275859b9cbea5",
            "97836a13babe47d2b94556ec875576d8"
          ]
        },
        "id": "AkRs-YIMKS_R",
        "outputId": "ca070a8f-1fc5-4053-aeea-4fd30ae39d36"
      },
      "execution_count": null,
      "outputs": [
        {
          "output_type": "stream",
          "name": "stderr",
          "text": [
            "/usr/local/lib/python3.7/dist-packages/torchvision/models/_utils.py:136: UserWarning: Using 'backbone_name' and 'weights' as positional parameter(s) is deprecated since 0.13 and will be removed in 0.15. Please use keyword parameter(s) instead.\n",
            "  f\"Using {sequence_to_str(tuple(keyword_only_kwargs.keys()), separate_last='and ')} as positional \"\n",
            "/usr/local/lib/python3.7/dist-packages/torchvision/models/_utils.py:223: UserWarning: Arguments other than a weight enum or `None` for 'weights' are deprecated since 0.13 and will be removed in 0.15. The current behavior is equivalent to passing `weights=None`.\n",
            "  warnings.warn(msg)\n",
            "Downloading: \"https://download.pytorch.org/models/resnet34-333f7ec4.pth\" to /root/.cache/torch/hub/checkpoints/resnet34-333f7ec4.pth\n"
          ]
        },
        {
          "output_type": "display_data",
          "data": {
            "text/plain": [
              "  0%|          | 0.00/83.3M [00:00<?, ?B/s]"
            ],
            "application/vnd.jupyter.widget-view+json": {
              "version_major": 2,
              "version_minor": 0,
              "model_id": "451a3d4355ad4e86880b4bd870259b88"
            }
          },
          "metadata": {}
        },
        {
          "output_type": "execute_result",
          "data": {
            "text/plain": [
              "<All keys matched successfully>"
            ]
          },
          "metadata": {},
          "execution_count": 7
        }
      ]
    },
    {
      "cell_type": "code",
      "execution_count": null,
      "metadata": {
        "id": "hcbme23UQ5p2",
        "colab": {
          "base_uri": "https://localhost:8080/"
        },
        "outputId": "1be83d59-5163-4fd4-add4-0492b4a7deb0"
      },
      "outputs": [
        {
          "output_type": "stream",
          "name": "stdout",
          "text": [
            "MOT16-02  MOT16-04  MOT16-05  MOT16-09\tMOT16-10  MOT16-11  MOT16-13\n",
            "MOT16-01  MOT16-03  MOT16-06  MOT16-07\tMOT16-08  MOT16-12  MOT16-14\n"
          ]
        }
      ],
      "source": [
        "!ls \"gdrive/My Drive/Colab Notebooks/cv3dst_exercise/data/MOT16/train\"\n",
        "!ls \"gdrive/My Drive/Colab Notebooks/cv3dst_exercise/data/MOT16/test\""
      ]
    },
    {
      "cell_type": "code",
      "source": [
        "!ls 'gdrive/My Drive/Colab Notebooks/cv3dst_gnn_exercise/src'"
      ],
      "metadata": {
        "colab": {
          "base_uri": "https://localhost:8080/"
        },
        "id": "_O_fSDYsLXt-",
        "outputId": "954dfa4c-a3bf-4c52-c317-103de18b129a"
      },
      "execution_count": null,
      "outputs": [
        {
          "output_type": "stream",
          "name": "stdout",
          "text": [
            "gnn  market  tracker\n"
          ]
        }
      ]
    },
    {
      "cell_type": "markdown",
      "metadata": {
        "id": "-Qubi7uE6EPd"
      },
      "source": [
        "## Speed-Ups\n",
        "In order to speed up training and inference runtimes, in this exercise we will be working with pre-computed detections and ReID embeddings. We ran the object detector we provided in Exercise 0 and applied to all frames. We also computed reid embeddings for all boxes in every frame of the dataset so that they don't need to be computed every time you run your tracker. This yields over 10x speed improvements. You will not have to work directly with the resulting files, as we have internally adapted the boilerplate code to work with them."
      ]
    },
    {
      "cell_type": "code",
      "execution_count": null,
      "metadata": {
        "id": "tESJ1I1n7ot1",
        "colab": {
          "base_uri": "https://localhost:8080/",
          "height": 516,
          "referenced_widgets": [
            "0e9f18020a224ca4b4c542a337d47671",
            "9e3a2ec149e74514b1035abb21dbeb18",
            "6577109378a94909ae1be371886c2776",
            "a7a4a767493e4baaae0206bb4fd2aed2",
            "bda1fa4096d84209a5e653e2894ba3e0",
            "1b63ec01b489486086bc8ad4c67ac399",
            "3cfe98630248406aae0ed569f1aebc81",
            "d98a497ab9e04625a9cd993945b574ec",
            "3e49b36bae9945c389294f58806c9148",
            "f4a54030bfaf45ccbbbc57be4b801f9b",
            "1a3254853a49475c94720e19a27b791d",
            "d8c216e7d9814d07965a41102cbccb07",
            "b66a006c326a4c3da4378d4347621933",
            "9732c6186e4a4ee897772c52ab002fe6",
            "0953be1de6f44c35b14098e244280503",
            "d116ba208ea54a85b383b765eba14f82",
            "b26e7e16df5044b79b3430cb1b87c8d8",
            "0ca738a1439b45f6bb68748c09588d3d",
            "9a9069b648f64c08b3bf167028c364ac",
            "21d5c310173b4bbca037c062bd45c64e",
            "967331227a0a407a9ea7b18c512ff115",
            "41611c67dc444174ada0b11c9589c479",
            "1ca44a96a2594a46bc7d7eae501919c0",
            "d73a2f6bc5944122ac837ee34363b55a",
            "b58598a51303432e8b64dad0da626726",
            "1f0fe765c26e4e0c8b20aa459559e08c",
            "007a2eeb35104cf8b70639547c47f89c",
            "f100dabc050e4b01aa71f68beec934d2",
            "e45e5e1b09af4262a253c920f467ef02",
            "88d00bf6ed3a4caba227edea321d8e2a",
            "0c8dc65675ae490e94656ce27fa75a2f",
            "7a7634a462b144589ef0fa531f778a19",
            "3d4341803eb842dfb9cc036b8bd9fd4b",
            "c7e8a05beb364d66a78400f80b0f3882",
            "8e3ac76cedfd43199d08361129139b9a",
            "fc402e3cb9e647c29ce7166ac7e8c61b",
            "c98af60de79b4ea98507f4049a64284c",
            "c90a2fedb7d348548b0dd4a5a70898f2",
            "134c8391ce294df18aae00dfdc5ec573",
            "58deea6ed6c9478da47bbd63dde468d7",
            "2978595b57f44e46a8cc596008aaf003",
            "129694261c1149598ba2619431a45ed6",
            "d541df827a504f618a5349ef9ef007bc",
            "740514011f8f4672a3b4af845e757f0e",
            "70e3d78e6e534da2b837903c136f2e7e",
            "39642561d044453f8343ce4694715869",
            "f7d625738851481789049eefbbfdf496",
            "00cd236d966c4141aa725158d454d06e",
            "21d9416c6ebc49db84c6056e536c4de9",
            "d6383ff86a05427d9ce2046e581c5152",
            "3a7df5d0a3a4483c95531c47fdfc8384",
            "cf2ab72714e346ddbe66d1302bb69ca1",
            "0ded78cc46164f45a953a57d52df8e54",
            "1d8701d969444a488c891d3eaf11bfa3",
            "4d6cf24abeb14640b0ab11c14015f3dd",
            "26c1481679f84482ad67188e52876fff",
            "063deb366c804ef9a2e5b64790a5cd58",
            "37301d39c35241ad89f3b12aafc0bf2d",
            "3eaa44a54efb4177b12d1fb72664e3b0",
            "e1ebaa9757424e749d6e54e5a7938afd",
            "2e28fbf85b204334a11b1776161added",
            "935ba3e7a06c4600aafcd566cd767f1d",
            "2da4417d10d340d0a751f39254c475a0",
            "7b0c21226427440e9f1ce8af43083c2d",
            "4dd25d55984c4a5dab1b4ba9d687a356",
            "a134ce3d1e91410f944881131797f899",
            "34d407b640ba46b5a5351663923fb37b",
            "adda4d57d5904508996f81d566a8e9a1",
            "4503fd54661847069dabbda801ca1927",
            "1f3fbcb990044ee68b91646a789e8cda",
            "3108c47fdb904fe6b1ac99f58538d56a",
            "b7c3de961eed46829ebe3440987e2759",
            "b2ae7772f71f408f86b31cee7e208283",
            "e78ae4c98fd9418086c3d058259d54f1",
            "f62a157dffe3443b941248faa7999eea",
            "e507cbea386d4386a4945cda6cd1ccc4",
            "a6ecb2a8289f4969b5a4c25f64c4c1c3",
            "d70200d061364d14bed462c2d72b6409",
            "8bfcc01ef6d044f1bf5358b48512ac6b",
            "1dddef09136341029a8e07cb5e220254",
            "06f182066545406c863f4aa7b0eb4707",
            "d7242be894674cfa89567c54fec94d10",
            "b39cc52e3d614ada98c170e4117a21b2",
            "56b68e46ad5b477994878135b52b5fac",
            "b3191b5c1c2c46fbb92e20aebcff6640",
            "0fb13c7e17264409af1dc3ba14300868",
            "f0c5afcde0e241b7857c1b14e4773306",
            "9910ff146c8c474a8f4e82f676298301",
            "12f45e7960bf4d109b365e6908fab9b7",
            "f4e0f2cfe0ac46219b9094c908121b76",
            "1a17c4c67cbf443d85a6af8c2e5bfdf0",
            "73823a09fab347989b2e5afca6704dd8",
            "90f0286fb9c844508e45e582b82b07e2",
            "c2adb6d4b54b44f0bab6245a62cb232a",
            "66e72ea020124fda8732a4347afad693",
            "e9abb02b81674c7693c29c25bb3c963a",
            "ec535b0b899d439eb463c992309d9db1",
            "f5fc0382cfb34a1e952972a8e22cce96",
            "52ec1ebbaa494d80b471666fd56e4619",
            "1e1e8b4cbf3b41febc2b6adeb5ff961e",
            "18ba938225b0483e9a2aa7f6be15e585",
            "0018ee984e6342789c24927145a8387c",
            "2a7205e84e0f42b8922b3e95bfcd29fd",
            "7143a6ce5a72479aafad358bd69ba13b",
            "821bd975c1734f3faa1d0b7c28ae4faa",
            "f2bb473b386243018adc8538f1b9e3cb",
            "202343787c0d49acb1fec44e20814ef5",
            "f5b076745f48421fabeeae2035c9dfae",
            "6191859aa4df45699b44290cf74ab4b6",
            "f0b69503941e41b29955fd154e4a564b"
          ]
        },
        "outputId": "55b80a27-ceca-4498-999b-d0aed98596b8"
      },
      "outputs": [
        {
          "output_type": "stream",
          "name": "stdout",
          "text": [
            "Processing sequence MOT16-04\n"
          ]
        },
        {
          "output_type": "display_data",
          "data": {
            "text/plain": [
              "0it [00:00, ?it/s]"
            ],
            "application/vnd.jupyter.widget-view+json": {
              "version_major": 2,
              "version_minor": 0,
              "model_id": "0e9f18020a224ca4b4c542a337d47671"
            }
          },
          "metadata": {}
        },
        {
          "output_type": "stream",
          "name": "stdout",
          "text": [
            "Processing sequence MOT16-05\n"
          ]
        },
        {
          "output_type": "display_data",
          "data": {
            "text/plain": [
              "0it [00:00, ?it/s]"
            ],
            "application/vnd.jupyter.widget-view+json": {
              "version_major": 2,
              "version_minor": 0,
              "model_id": "d8c216e7d9814d07965a41102cbccb07"
            }
          },
          "metadata": {}
        },
        {
          "output_type": "stream",
          "name": "stdout",
          "text": [
            "Processing sequence MOT16-09\n"
          ]
        },
        {
          "output_type": "display_data",
          "data": {
            "text/plain": [
              "0it [00:00, ?it/s]"
            ],
            "application/vnd.jupyter.widget-view+json": {
              "version_major": 2,
              "version_minor": 0,
              "model_id": "1ca44a96a2594a46bc7d7eae501919c0"
            }
          },
          "metadata": {}
        },
        {
          "output_type": "stream",
          "name": "stdout",
          "text": [
            "Processing sequence MOT16-11\n"
          ]
        },
        {
          "output_type": "display_data",
          "data": {
            "text/plain": [
              "0it [00:00, ?it/s]"
            ],
            "application/vnd.jupyter.widget-view+json": {
              "version_major": 2,
              "version_minor": 0,
              "model_id": "c7e8a05beb364d66a78400f80b0f3882"
            }
          },
          "metadata": {}
        },
        {
          "output_type": "stream",
          "name": "stdout",
          "text": [
            "Processing sequence MOT16-13\n"
          ]
        },
        {
          "output_type": "display_data",
          "data": {
            "text/plain": [
              "0it [00:00, ?it/s]"
            ],
            "application/vnd.jupyter.widget-view+json": {
              "version_major": 2,
              "version_minor": 0,
              "model_id": "70e3d78e6e534da2b837903c136f2e7e"
            }
          },
          "metadata": {}
        },
        {
          "output_type": "stream",
          "name": "stdout",
          "text": [
            "Processing sequence MOT16-10\n"
          ]
        },
        {
          "output_type": "display_data",
          "data": {
            "text/plain": [
              "0it [00:00, ?it/s]"
            ],
            "application/vnd.jupyter.widget-view+json": {
              "version_major": 2,
              "version_minor": 0,
              "model_id": "26c1481679f84482ad67188e52876fff"
            }
          },
          "metadata": {}
        },
        {
          "output_type": "stream",
          "name": "stdout",
          "text": [
            "Processing sequence MOT16-02\n"
          ]
        },
        {
          "output_type": "display_data",
          "data": {
            "text/plain": [
              "0it [00:00, ?it/s]"
            ],
            "application/vnd.jupyter.widget-view+json": {
              "version_major": 2,
              "version_minor": 0,
              "model_id": "34d407b640ba46b5a5351663923fb37b"
            }
          },
          "metadata": {}
        },
        {
          "output_type": "stream",
          "name": "stdout",
          "text": [
            "Processing sequence MOT16-01\n"
          ]
        },
        {
          "output_type": "display_data",
          "data": {
            "text/plain": [
              "0it [00:00, ?it/s]"
            ],
            "application/vnd.jupyter.widget-view+json": {
              "version_major": 2,
              "version_minor": 0,
              "model_id": "d70200d061364d14bed462c2d72b6409"
            }
          },
          "metadata": {}
        },
        {
          "output_type": "stream",
          "name": "stdout",
          "text": [
            "Processing sequence MOT16-08\n"
          ]
        },
        {
          "output_type": "display_data",
          "data": {
            "text/plain": [
              "0it [00:00, ?it/s]"
            ],
            "application/vnd.jupyter.widget-view+json": {
              "version_major": 2,
              "version_minor": 0,
              "model_id": "12f45e7960bf4d109b365e6908fab9b7"
            }
          },
          "metadata": {}
        },
        {
          "output_type": "stream",
          "name": "stdout",
          "text": [
            "Processing sequence MOT16-12\n"
          ]
        },
        {
          "output_type": "display_data",
          "data": {
            "text/plain": [
              "0it [00:00, ?it/s]"
            ],
            "application/vnd.jupyter.widget-view+json": {
              "version_major": 2,
              "version_minor": 0,
              "model_id": "1e1e8b4cbf3b41febc2b6adeb5ff961e"
            }
          },
          "metadata": {}
        }
      ],
      "source": [
        "from tracker.data_track import MOT16Sequences\n",
        "import os.path as osp\n",
        "from torch.utils.data import DataLoader\n",
        "from tqdm.autonotebook import tqdm\n",
        "\n",
        "stored_data_filename = 'preprocessed_data_{}_.pth'\n",
        "\n",
        "reid_model.eval().cuda()\n",
        "obj_detect.eval().cuda()\n",
        "\n",
        "for train_test in ('train', 'test'):\n",
        "    db = {}\n",
        "    sequences = MOT16Sequences(f'MOT16-{train_test}', osp.join(root_dir,'data/MOT16'), vis_threshold=0.)\n",
        "\n",
        "    for seq in sequences:\n",
        "        print(f\"Processing sequence {seq}\")\n",
        "        data_loader = DataLoader(seq, batch_size=1, shuffle=False)\n",
        "        db[str(seq)]= []\n",
        "        for frame_num, frame in tqdm(enumerate(data_loader)):\n",
        "            with torch.no_grad():\n",
        "                img_path = frame['img_path'][0]\n",
        "                img = Image.open(img_path)\n",
        "\n",
        "                assert frame_num + 1 == int(img_path.split('/')[-1].split('.')[0])\n",
        "\n",
        "                # Store detected boxes\n",
        "                boxes, scores = obj_detect.detect(frame['img'])\n",
        "\n",
        "                # Store ReID embeddings\n",
        "                det_crops = crop_imgs(img, boxes.cpu().numpy(), tforms)\n",
        "                det_reid = reid_model(det_crops.cuda())\n",
        "\n",
        "                det = {'boxes': boxes.cpu(),\n",
        "                      'scores': scores.cpu(),\n",
        "                      'reid': det_reid.cpu()}\n",
        "\n",
        "\n",
        "                # Store ground truth box info\n",
        "                if 'gt' in frame and len(frame['gt']) > 0:\n",
        "                    gt_ids = torch.as_tensor(list(frame['gt'].keys()))\n",
        "                    gt_boxes = torch.cat([frame['gt'][id_.item()] for id_ in gt_ids], dim=0)\n",
        "                    gt_vis = torch.cat([frame['vis'][id_.item()] for id_ in gt_ids], dim=0)\n",
        "                    gt_crops = crop_imgs(img, gt_boxes.cpu().numpy(), tforms)\n",
        "                    gt_reid = reid_model(gt_crops.cuda())\n",
        "\n",
        "                    gt = {'ids': gt_ids.cpu(),\n",
        "                          'boxes': gt_boxes.cpu(),\n",
        "                          'vis': gt_vis.cpu(),\n",
        "                          'reid': gt_reid.cpu()}\n",
        "                else:\n",
        "                    gt = None\n",
        "\n",
        "                db[str(seq)].append({'det': det, 'gt': gt})\n",
        "        assert len(db[str(seq)]) == len(data_loader)\n",
        "\n",
        "    torch.save(db, osp.join(gnn_root_dir, 'data', stored_data_filename.format(train_test)))"
      ]
    },
    {
      "cell_type": "code",
      "source": [
        "train_db = torch.load(osp.join(gnn_root_dir, 'data/preprocessed_data_train_.pth'))"
      ],
      "metadata": {
        "id": "xhUNYIVQlko8"
      },
      "execution_count": null,
      "outputs": []
    },
    {
      "cell_type": "markdown",
      "metadata": {
        "id": "bqQQId537ot2"
      },
      "source": [
        "## Exercise Part 0 - Assignment's 1 ReIDHungarianTracker\n",
        "\n",
        "We start by providing a sample solution of the ``ReIDTracker`` from Exercise 1.\n",
        "It will serve as our baseline.\n",
        "\n",
        "\n",
        "Recall that this tracker works by performing frame-to-frame bipartite matching between newly detected boxes and past tracks based on ReID distance. Whenever a past track cannot be matched, its killed. And whenever, a newly detected box cannot be match, it starts a new trajectory.\n",
        "\n",
        "**NOTE**: We have modified the ``compute_distance`` function in ``data_association`` from last week to include a thresshold on ReID distance (if ReID distance >0.1, matching is not possible). This is important to prevent our tracker from reusing tracks for very dissimilar objects.\n",
        "\n",
        "Results:\n",
        "```\n",
        "          IDF1   IDP   IDR  Rcll  Prcn  GT  MT  PT ML   FP    FN IDs   FM  MOTA  MOTP\n",
        "MOT16-02 40.5% 57.5% 31.3% 52.2% 96.1%  62  12  38 12  390  8873 203  210 49.1% 0.090\n",
        "MOT16-05 54.4% 64.4% 47.1% 68.8% 94.0% 133  54  67 12  305  2156 330  149 59.7% 0.142\n",
        "MOT16-09 49.9% 61.7% 41.9% 66.3% 97.7%  26  13  12  1   82  1793  77   76 63.3% 0.082\n",
        "MOT16-11 61.1% 67.4% 55.9% 80.2% 96.6%  75  44  24  7  266  1871 176   91 75.5% 0.083\n",
        "OVERALL  49.6% 62.3% 41.2% 63.5% 96.1% 296 123 141 32 1043 14693 786  526 59.0% 0.097\n",
        "```\n"
      ]
    },
    {
      "cell_type": "code",
      "execution_count": null,
      "metadata": {
        "id": "S6ZQRUbo7ot2"
      },
      "outputs": [],
      "source": [
        "_UNMATCHED_COST=255\n",
        "class ReIDHungarianTracker(ReIDTracker):\n",
        "    def data_association(self, boxes, scores, pred_features):\n",
        "        \"\"\"Refactored from previous implementation to split it onto distance computation and track management\"\"\"\n",
        "        if self.tracks:\n",
        "            track_boxes = torch.stack([t.box for t in self.tracks], axis=0)\n",
        "            track_features = torch.stack([t.get_feature() for t in self.tracks], axis=0)\n",
        "\n",
        "            distance = self.compute_distance_matrix(track_features, pred_features,\n",
        "                                                    track_boxes, boxes, metric_fn=cosine_distance)\n",
        "\n",
        "            # Perform Hungarian matching.\n",
        "            row_idx, col_idx = linear_assignment(distance)\n",
        "            self.update_tracks(row_idx, col_idx,distance, boxes, scores, pred_features)\n",
        "\n",
        "\n",
        "        else:\n",
        "            # No tracks exist.\n",
        "            self.add(boxes, scores, pred_features)\n",
        "\n",
        "    def update_tracks(self, row_idx, col_idx, distance, boxes, scores, pred_features):\n",
        "        \"\"\"Updates existing tracks and removes unmatched tracks.\n",
        "           Reminder: If the costs are equal to _UNMATCHED_COST, it's not a\n",
        "           match.\n",
        "        \"\"\"\n",
        "        track_ids = [t.id for t in self.tracks]\n",
        "\n",
        "        unmatched_track_ids = []\n",
        "        seen_track_ids = []\n",
        "        seen_box_idx = []\n",
        "        for track_idx, box_idx in zip(row_idx, col_idx):\n",
        "            costs = distance[track_idx, box_idx]\n",
        "            internal_track_id = track_ids[track_idx]\n",
        "            seen_track_ids.append(internal_track_id)\n",
        "            if costs == _UNMATCHED_COST:\n",
        "                unmatched_track_ids.append(internal_track_id)\n",
        "            else:\n",
        "                self.tracks[track_idx].box = boxes[box_idx]\n",
        "                self.tracks[track_idx].add_feature(pred_features[box_idx])\n",
        "                seen_box_idx.append(box_idx)\n",
        "\n",
        "        unseen_track_ids = set(track_ids) - set(seen_track_ids)\n",
        "        unmatched_track_ids.extend(list(unseen_track_ids))\n",
        "        self.tracks = [t for t in self.tracks\n",
        "                       if t.id not in unmatched_track_ids]\n",
        "\n",
        "\n",
        "        # Add new tracks.\n",
        "        new_boxes_idx = set(range(len(boxes))) - set(seen_box_idx)\n",
        "        new_boxes = [boxes[i] for i in new_boxes_idx]\n",
        "        new_scores = [scores[i] for i in new_boxes_idx]\n",
        "        new_features = [pred_features[i] for i in new_boxes_idx]\n",
        "        self.add(new_boxes, new_scores, new_features)\n"
      ]
    },
    {
      "cell_type": "code",
      "execution_count": null,
      "metadata": {
        "id": "dZ1vBklj7ot3"
      },
      "outputs": [],
      "source": [
        "val_sequences = MOT16Sequences('MOT16-reid', root_dir = osp.join(root_dir, 'data/MOT16'), vis_threshold=0.)"
      ]
    },
    {
      "cell_type": "code",
      "execution_count": null,
      "metadata": {
        "id": "x_z2Yl_ypm25",
        "colab": {
          "base_uri": "https://localhost:8080/",
          "height": 662
        },
        "outputId": "926c3ebd-1758-49ce-dd9c-41c9908297f0"
      },
      "outputs": [
        {
          "output_type": "stream",
          "name": "stdout",
          "text": [
            "Tracking: MOT16-02\n",
            "Tracks found: 362\n",
            "Runtime for MOT16-02: 5.7 s.\n",
            "Tracking: MOT16-05\n",
            "Tracks found: 460\n",
            "Runtime for MOT16-05: 2.0 s.\n",
            "Tracking: MOT16-09\n",
            "Tracks found: 97\n",
            "Runtime for MOT16-09: 1.3 s.\n",
            "Tracking: MOT16-11\n",
            "Tracks found: 290\n",
            "Runtime for MOT16-11: 2.9 s.\n",
            "Runtime for all sequences: 11.9 s.\n",
            "          IDF1   IDP   IDR  Rcll  Prcn  GT  MT  PT ML   FP    FN IDs   FM  MOTA  MOTP\n",
            "MOT16-02 40.8% 58.0% 31.5% 52.2% 96.2%  62  12  37 13  383  8875 204  210 49.1% 0.090\n",
            "MOT16-05 54.4% 64.4% 47.1% 68.8% 94.1% 133  55  66 12  299  2160 330  150 59.7% 0.142\n",
            "MOT16-09 49.9% 61.7% 41.9% 66.4% 97.8%  26  13  12  1   81  1791  76   76 63.4% 0.082\n",
            "MOT16-11 61.4% 67.7% 56.2% 80.2% 96.6%  75  43  25  7  266  1869 173   89 75.5% 0.083\n",
            "OVERALL  49.8% 62.6% 41.3% 63.5% 96.1% 296 123 140 33 1029 14695 783  525 59.0% 0.097\n"
          ]
        },
        {
          "output_type": "execute_result",
          "data": {
            "text/plain": [
              "              idf1       idp       idr    recall  precision  \\\n",
              "MOT16-02  0.407883  0.579542  0.314676  0.522362   0.962038   \n",
              "MOT16-05  0.543723  0.643790  0.470580  0.687726   0.940862   \n",
              "MOT16-09  0.499329  0.617427  0.419155  0.663662   0.977593   \n",
              "MOT16-11  0.613817  0.676625  0.561679  0.801929   0.966041   \n",
              "OVERALL   0.497637  0.625503  0.413175  0.634988   0.961306   \n",
              "\n",
              "          num_unique_objects  mostly_tracked  partially_tracked  mostly_lost  \\\n",
              "MOT16-02                  62              12                 37           13   \n",
              "MOT16-05                 133              55                 66           12   \n",
              "MOT16-09                  26              13                 12            1   \n",
              "MOT16-11                  75              43                 25            7   \n",
              "OVERALL                  296             123                140           33   \n",
              "\n",
              "          num_false_positives  num_misses  num_switches  num_fragmentations  \\\n",
              "MOT16-02                  383        8875           204                 210   \n",
              "MOT16-05                  299        2160           330                 150   \n",
              "MOT16-09                   81        1791            76                  76   \n",
              "MOT16-11                  266        1869           173                  89   \n",
              "OVERALL                  1029       14695           783                 525   \n",
              "\n",
              "              mota      motp  \n",
              "MOT16-02  0.490770  0.090317  \n",
              "MOT16-05  0.596791  0.142226  \n",
              "MOT16-09  0.634178  0.082109  \n",
              "MOT16-11  0.755405  0.082556  \n",
              "OVERALL   0.589980  0.096544  "
            ],
            "text/html": [
              "\n",
              "  <div id=\"df-709bb0fc-e650-481e-8ace-8970d53f878f\">\n",
              "    <div class=\"colab-df-container\">\n",
              "      <div>\n",
              "<style scoped>\n",
              "    .dataframe tbody tr th:only-of-type {\n",
              "        vertical-align: middle;\n",
              "    }\n",
              "\n",
              "    .dataframe tbody tr th {\n",
              "        vertical-align: top;\n",
              "    }\n",
              "\n",
              "    .dataframe thead th {\n",
              "        text-align: right;\n",
              "    }\n",
              "</style>\n",
              "<table border=\"1\" class=\"dataframe\">\n",
              "  <thead>\n",
              "    <tr style=\"text-align: right;\">\n",
              "      <th></th>\n",
              "      <th>idf1</th>\n",
              "      <th>idp</th>\n",
              "      <th>idr</th>\n",
              "      <th>recall</th>\n",
              "      <th>precision</th>\n",
              "      <th>num_unique_objects</th>\n",
              "      <th>mostly_tracked</th>\n",
              "      <th>partially_tracked</th>\n",
              "      <th>mostly_lost</th>\n",
              "      <th>num_false_positives</th>\n",
              "      <th>num_misses</th>\n",
              "      <th>num_switches</th>\n",
              "      <th>num_fragmentations</th>\n",
              "      <th>mota</th>\n",
              "      <th>motp</th>\n",
              "    </tr>\n",
              "  </thead>\n",
              "  <tbody>\n",
              "    <tr>\n",
              "      <th>MOT16-02</th>\n",
              "      <td>0.407883</td>\n",
              "      <td>0.579542</td>\n",
              "      <td>0.314676</td>\n",
              "      <td>0.522362</td>\n",
              "      <td>0.962038</td>\n",
              "      <td>62</td>\n",
              "      <td>12</td>\n",
              "      <td>37</td>\n",
              "      <td>13</td>\n",
              "      <td>383</td>\n",
              "      <td>8875</td>\n",
              "      <td>204</td>\n",
              "      <td>210</td>\n",
              "      <td>0.490770</td>\n",
              "      <td>0.090317</td>\n",
              "    </tr>\n",
              "    <tr>\n",
              "      <th>MOT16-05</th>\n",
              "      <td>0.543723</td>\n",
              "      <td>0.643790</td>\n",
              "      <td>0.470580</td>\n",
              "      <td>0.687726</td>\n",
              "      <td>0.940862</td>\n",
              "      <td>133</td>\n",
              "      <td>55</td>\n",
              "      <td>66</td>\n",
              "      <td>12</td>\n",
              "      <td>299</td>\n",
              "      <td>2160</td>\n",
              "      <td>330</td>\n",
              "      <td>150</td>\n",
              "      <td>0.596791</td>\n",
              "      <td>0.142226</td>\n",
              "    </tr>\n",
              "    <tr>\n",
              "      <th>MOT16-09</th>\n",
              "      <td>0.499329</td>\n",
              "      <td>0.617427</td>\n",
              "      <td>0.419155</td>\n",
              "      <td>0.663662</td>\n",
              "      <td>0.977593</td>\n",
              "      <td>26</td>\n",
              "      <td>13</td>\n",
              "      <td>12</td>\n",
              "      <td>1</td>\n",
              "      <td>81</td>\n",
              "      <td>1791</td>\n",
              "      <td>76</td>\n",
              "      <td>76</td>\n",
              "      <td>0.634178</td>\n",
              "      <td>0.082109</td>\n",
              "    </tr>\n",
              "    <tr>\n",
              "      <th>MOT16-11</th>\n",
              "      <td>0.613817</td>\n",
              "      <td>0.676625</td>\n",
              "      <td>0.561679</td>\n",
              "      <td>0.801929</td>\n",
              "      <td>0.966041</td>\n",
              "      <td>75</td>\n",
              "      <td>43</td>\n",
              "      <td>25</td>\n",
              "      <td>7</td>\n",
              "      <td>266</td>\n",
              "      <td>1869</td>\n",
              "      <td>173</td>\n",
              "      <td>89</td>\n",
              "      <td>0.755405</td>\n",
              "      <td>0.082556</td>\n",
              "    </tr>\n",
              "    <tr>\n",
              "      <th>OVERALL</th>\n",
              "      <td>0.497637</td>\n",
              "      <td>0.625503</td>\n",
              "      <td>0.413175</td>\n",
              "      <td>0.634988</td>\n",
              "      <td>0.961306</td>\n",
              "      <td>296</td>\n",
              "      <td>123</td>\n",
              "      <td>140</td>\n",
              "      <td>33</td>\n",
              "      <td>1029</td>\n",
              "      <td>14695</td>\n",
              "      <td>783</td>\n",
              "      <td>525</td>\n",
              "      <td>0.589980</td>\n",
              "      <td>0.096544</td>\n",
              "    </tr>\n",
              "  </tbody>\n",
              "</table>\n",
              "</div>\n",
              "      <button class=\"colab-df-convert\" onclick=\"convertToInteractive('df-709bb0fc-e650-481e-8ace-8970d53f878f')\"\n",
              "              title=\"Convert this dataframe to an interactive table.\"\n",
              "              style=\"display:none;\">\n",
              "        \n",
              "  <svg xmlns=\"http://www.w3.org/2000/svg\" height=\"24px\"viewBox=\"0 0 24 24\"\n",
              "       width=\"24px\">\n",
              "    <path d=\"M0 0h24v24H0V0z\" fill=\"none\"/>\n",
              "    <path d=\"M18.56 5.44l.94 2.06.94-2.06 2.06-.94-2.06-.94-.94-2.06-.94 2.06-2.06.94zm-11 1L8.5 8.5l.94-2.06 2.06-.94-2.06-.94L8.5 2.5l-.94 2.06-2.06.94zm10 10l.94 2.06.94-2.06 2.06-.94-2.06-.94-.94-2.06-.94 2.06-2.06.94z\"/><path d=\"M17.41 7.96l-1.37-1.37c-.4-.4-.92-.59-1.43-.59-.52 0-1.04.2-1.43.59L10.3 9.45l-7.72 7.72c-.78.78-.78 2.05 0 2.83L4 21.41c.39.39.9.59 1.41.59.51 0 1.02-.2 1.41-.59l7.78-7.78 2.81-2.81c.8-.78.8-2.07 0-2.86zM5.41 20L4 18.59l7.72-7.72 1.47 1.35L5.41 20z\"/>\n",
              "  </svg>\n",
              "      </button>\n",
              "      \n",
              "  <style>\n",
              "    .colab-df-container {\n",
              "      display:flex;\n",
              "      flex-wrap:wrap;\n",
              "      gap: 12px;\n",
              "    }\n",
              "\n",
              "    .colab-df-convert {\n",
              "      background-color: #E8F0FE;\n",
              "      border: none;\n",
              "      border-radius: 50%;\n",
              "      cursor: pointer;\n",
              "      display: none;\n",
              "      fill: #1967D2;\n",
              "      height: 32px;\n",
              "      padding: 0 0 0 0;\n",
              "      width: 32px;\n",
              "    }\n",
              "\n",
              "    .colab-df-convert:hover {\n",
              "      background-color: #E2EBFA;\n",
              "      box-shadow: 0px 1px 2px rgba(60, 64, 67, 0.3), 0px 1px 3px 1px rgba(60, 64, 67, 0.15);\n",
              "      fill: #174EA6;\n",
              "    }\n",
              "\n",
              "    [theme=dark] .colab-df-convert {\n",
              "      background-color: #3B4455;\n",
              "      fill: #D2E3FC;\n",
              "    }\n",
              "\n",
              "    [theme=dark] .colab-df-convert:hover {\n",
              "      background-color: #434B5C;\n",
              "      box-shadow: 0px 1px 3px 1px rgba(0, 0, 0, 0.15);\n",
              "      filter: drop-shadow(0px 1px 2px rgba(0, 0, 0, 0.3));\n",
              "      fill: #FFFFFF;\n",
              "    }\n",
              "  </style>\n",
              "\n",
              "      <script>\n",
              "        const buttonEl =\n",
              "          document.querySelector('#df-709bb0fc-e650-481e-8ace-8970d53f878f button.colab-df-convert');\n",
              "        buttonEl.style.display =\n",
              "          google.colab.kernel.accessAllowed ? 'block' : 'none';\n",
              "\n",
              "        async function convertToInteractive(key) {\n",
              "          const element = document.querySelector('#df-709bb0fc-e650-481e-8ace-8970d53f878f');\n",
              "          const dataTable =\n",
              "            await google.colab.kernel.invokeFunction('convertToInteractive',\n",
              "                                                     [key], {});\n",
              "          if (!dataTable) return;\n",
              "\n",
              "          const docLinkHtml = 'Like what you see? Visit the ' +\n",
              "            '<a target=\"_blank\" href=https://colab.research.google.com/notebooks/data_table.ipynb>data table notebook</a>'\n",
              "            + ' to learn more about interactive tables.';\n",
              "          element.innerHTML = '';\n",
              "          dataTable['output_type'] = 'display_data';\n",
              "          await google.colab.output.renderOutput(dataTable, element);\n",
              "          const docLink = document.createElement('div');\n",
              "          docLink.innerHTML = docLinkHtml;\n",
              "          element.appendChild(docLink);\n",
              "        }\n",
              "      </script>\n",
              "    </div>\n",
              "  </div>\n",
              "  "
            ]
          },
          "metadata": {},
          "execution_count": 16
        }
      ],
      "source": [
        "tracker = ReIDHungarianTracker(None)\n",
        "run_tracker(val_sequences, db=train_db, tracker=tracker, output_dir=None)"
      ]
    },
    {
      "cell_type": "markdown",
      "metadata": {
        "id": "1NgkrWTy7ot4"
      },
      "source": [
        "## Exercise Part I - Long-Term ReID Tracker\n"
      ]
    },
    {
      "cell_type": "markdown",
      "metadata": {
        "id": "9R8udP5I7ot4"
      },
      "source": [
        "The tracker above has an obvious limitation: whenever a track cannot be matched with the detections of a given frame the track will be killed. This means that if our detector misses an object in a single frame (due to e.g. occlusion), we will not be able to recover that track, and we will start a new one.\n",
        "\n",
        "To fix this issue, we would like to allow our tracker to maintain tracks that are not matched during data association. We will refer to these tracks as **inactive**. During data association, we will try to match the detected boxes for the current frame to both tracks that are active (i.e. tracks that we were able to match in the previous frame) as well as those that are inactive. Therefore, if a detector misses an object in a frame and the object reappears after a few frames, we will still be able to match it to its corresponding track, instead of creating a new one.\n",
        "\n",
        "In order to adapt our tracker to have this behavior, we will use the `inactive` attribute from the `track` class (see `tracker/tracker.py`. This attribute will be assigned an integer indicating for how many frames a track has remained unmatched. Whenever we are able to match the track `t`, we will set `t.inactive=0` and, naturally, when tracks are initialized, the class constructor sets `inactive=0`.\n",
        "\n",
        "Your job is to maintain the `inactive` attribute of all tracks being kept by tracker so that its value represents the number of frames for which the track has been unmatched. Additionally, we introduce a `patience` parameter. Whenever a track has been inactive for more than `inactive` frames. it will need to be killed.\n",
        "\n",
        "Results should approximately be around:\n",
        "\n",
        "```\n",
        "          IDF1   IDP   IDR  Rcll  Prcn  GT  MT  PT ML   FP    FN IDs   FM  MOTA  MOTP\n",
        "MOT16-02 45.9% 65.1% 35.4% 52.2% 96.1%  62  12  37 13  390  8873 130  210 49.4% 0.090\n",
        "MOT16-05 63.4% 75.0% 54.9% 68.8% 94.0% 133  54  67 12  305  2156 283  149 60.3% 0.142\n",
        "MOT16-09 52.5% 64.9% 44.1% 66.3% 97.7%  26  13  12  1   82  1793  49   76 63.9% 0.083\n",
        "MOT16-11 68.3% 75.3% 62.5% 80.2% 96.6%  75  44  24  7  266  1871 136   90 75.9% 0.083\n",
        "OVERALL  55.7% 70.0% 46.2% 63.5% 96.1% 296 123 140 33 1043 14693 598  525 59.4% 0.097\n",
        "```\n"
      ]
    },
    {
      "cell_type": "code",
      "execution_count": null,
      "metadata": {
        "id": "H84RSsmK7ot5"
      },
      "outputs": [],
      "source": [
        "class LongTermReIDHungarianTracker(ReIDHungarianTracker):\n",
        "    def __init__(self, patience, *args, **kwargs):\n",
        "        \"\"\" Add a patience parameter\"\"\"\n",
        "        self.patience=patience\n",
        "        super().__init__(*args, **kwargs)\n",
        "\n",
        "    def update_results(self):\n",
        "        \"\"\"Only store boxes for tracks that are active\"\"\"\n",
        "        for t in self.tracks:\n",
        "            if t.id not in self.results.keys():\n",
        "                self.results[t.id] = {}\n",
        "            if t.inactive == 0: # Only change\n",
        "                self.results[t.id][self.im_index] = np.concatenate([t.box.cpu().numpy(), np.array([t.score])])\n",
        "\n",
        "        self.im_index += 1\n",
        "\n",
        "    def update_tracks(self, row_idx, col_idx, distance, boxes, scores, pred_features):\n",
        "        track_ids = [t.id for t in self.tracks]\n",
        "\n",
        "        unmatched_track_ids = []\n",
        "        seen_track_ids = []\n",
        "        seen_box_idx = []\n",
        "        for track_idx, box_idx in zip(row_idx, col_idx):\n",
        "            costs = distance[track_idx, box_idx]\n",
        "            internal_track_id = track_ids[track_idx]\n",
        "            seen_track_ids.append(internal_track_id)\n",
        "            if costs == _UNMATCHED_COST:\n",
        "                unmatched_track_ids.append(internal_track_id)\n",
        "\n",
        "            else:\n",
        "                self.tracks[track_idx].box = boxes[box_idx]\n",
        "                self.tracks[track_idx].add_feature(pred_features[box_idx])\n",
        "\n",
        "                # Note: the track is matched, therefore, inactive is set to 0\n",
        "                self.tracks[track_idx].inactive=0\n",
        "                seen_box_idx.append(box_idx)\n",
        "\n",
        "\n",
        "        unseen_track_ids = set(track_ids) - set(seen_track_ids)\n",
        "        unmatched_track_ids.extend(list(unseen_track_ids))\n",
        "        ##################\n",
        "        ### TODO starts\n",
        "        ##################\n",
        "\n",
        "        # Update the `inactive` attribute for those tracks that have been\n",
        "        # not been matched. kill those for which the inactive parameter\n",
        "        # is > self.patience\n",
        "\n",
        "        selected_tracks = []\n",
        "        for track_idx, i in enumerate(self.tracks):\n",
        "            if i.id in unmatched_track_ids:\n",
        "                self.tracks[track_idx].inactive += 1\n",
        "\n",
        "            if i.inactive > self.patience:\n",
        "                selected_tracks.append(i.id)\n",
        "\n",
        "        # <-- Needs to be updated\n",
        "        self.tracks = [i for i in self.tracks\n",
        "                       if i.id not in selected_tracks]\n",
        "\n",
        "        ##################\n",
        "        ### TODO ends\n",
        "        ##################\n",
        "\n",
        "        new_boxes_idx = set(range(len(boxes))) - set(seen_box_idx)\n",
        "        new_boxes = [boxes[i] for i in new_boxes_idx]\n",
        "        new_scores = [scores[i] for i in new_boxes_idx]\n",
        "        new_features = [pred_features[i] for i in new_boxes_idx]\n",
        "        self.add(new_boxes, new_scores, new_features)"
      ]
    },
    {
      "cell_type": "code",
      "execution_count": null,
      "metadata": {
        "id": "E-COcYAu7ot6",
        "colab": {
          "base_uri": "https://localhost:8080/",
          "height": 662
        },
        "outputId": "8633698a-5416-4ade-8b1c-af6b77cfa4ad"
      },
      "outputs": [
        {
          "output_type": "stream",
          "name": "stdout",
          "text": [
            "Tracking: MOT16-02\n",
            "Tracks found: 203\n",
            "Runtime for MOT16-02: 6.2 s.\n",
            "Tracking: MOT16-05\n",
            "Tracks found: 352\n",
            "Runtime for MOT16-05: 2.1 s.\n",
            "Tracking: MOT16-09\n",
            "Tracks found: 65\n",
            "Runtime for MOT16-09: 1.4 s.\n",
            "Tracking: MOT16-11\n",
            "Tracks found: 220\n",
            "Runtime for MOT16-11: 3.2 s.\n",
            "Runtime for all sequences: 13.0 s.\n",
            "          IDF1   IDP   IDR  Rcll  Prcn  GT  MT  PT ML   FP    FN IDs   FM  MOTA  MOTP\n",
            "MOT16-02 45.3% 64.4% 35.0% 52.2% 96.2%  62  12  37 13  383  8875 131  210 49.5% 0.090\n",
            "MOT16-05 63.5% 75.2% 54.9% 68.8% 94.1% 133  55  66 12  299  2160 281  150 60.4% 0.142\n",
            "MOT16-09 50.6% 62.5% 42.4% 66.4% 97.8%  26  13  12  1   81  1791  49   76 63.9% 0.082\n",
            "MOT16-11 67.6% 74.6% 61.9% 80.2% 96.6%  75  43  25  7  266  1869 137   88 75.9% 0.083\n",
            "OVERALL  55.0% 69.2% 45.7% 63.5% 96.1% 296 123 140 33 1029 14695 598  524 59.5% 0.097\n"
          ]
        },
        {
          "output_type": "execute_result",
          "data": {
            "text/plain": [
              "              idf1       idp       idr    recall  precision  \\\n",
              "MOT16-02  0.453296  0.644068  0.349712  0.522362   0.962038   \n",
              "MOT16-05  0.634762  0.751582  0.549371  0.687726   0.940862   \n",
              "MOT16-09  0.505593  0.625173  0.424413  0.663662   0.977593   \n",
              "MOT16-11  0.676472  0.745691  0.619012  0.801929   0.966041   \n",
              "OVERALL   0.550440  0.691874  0.457016  0.634988   0.961306   \n",
              "\n",
              "          num_unique_objects  mostly_tracked  partially_tracked  mostly_lost  \\\n",
              "MOT16-02                  62              12                 37           13   \n",
              "MOT16-05                 133              55                 66           12   \n",
              "MOT16-09                  26              13                 12            1   \n",
              "MOT16-11                  75              43                 25            7   \n",
              "OVERALL                  296             123                140           33   \n",
              "\n",
              "          num_false_positives  num_misses  num_switches  num_fragmentations  \\\n",
              "MOT16-02                  383        8875           131                 210   \n",
              "MOT16-05                  299        2160           281                 150   \n",
              "MOT16-09                   81        1791            49                  76   \n",
              "MOT16-11                  266        1869           137                  88   \n",
              "OVERALL                  1029       14695           598                 524   \n",
              "\n",
              "              mota      motp  \n",
              "MOT16-02  0.494699  0.090315  \n",
              "MOT16-05  0.603875  0.142168  \n",
              "MOT16-09  0.639249  0.082153  \n",
              "MOT16-11  0.759220  0.082573  \n",
              "OVERALL   0.594575  0.096544  "
            ],
            "text/html": [
              "\n",
              "  <div id=\"df-93d169ef-1538-4cdc-9e56-e1ff87c96980\">\n",
              "    <div class=\"colab-df-container\">\n",
              "      <div>\n",
              "<style scoped>\n",
              "    .dataframe tbody tr th:only-of-type {\n",
              "        vertical-align: middle;\n",
              "    }\n",
              "\n",
              "    .dataframe tbody tr th {\n",
              "        vertical-align: top;\n",
              "    }\n",
              "\n",
              "    .dataframe thead th {\n",
              "        text-align: right;\n",
              "    }\n",
              "</style>\n",
              "<table border=\"1\" class=\"dataframe\">\n",
              "  <thead>\n",
              "    <tr style=\"text-align: right;\">\n",
              "      <th></th>\n",
              "      <th>idf1</th>\n",
              "      <th>idp</th>\n",
              "      <th>idr</th>\n",
              "      <th>recall</th>\n",
              "      <th>precision</th>\n",
              "      <th>num_unique_objects</th>\n",
              "      <th>mostly_tracked</th>\n",
              "      <th>partially_tracked</th>\n",
              "      <th>mostly_lost</th>\n",
              "      <th>num_false_positives</th>\n",
              "      <th>num_misses</th>\n",
              "      <th>num_switches</th>\n",
              "      <th>num_fragmentations</th>\n",
              "      <th>mota</th>\n",
              "      <th>motp</th>\n",
              "    </tr>\n",
              "  </thead>\n",
              "  <tbody>\n",
              "    <tr>\n",
              "      <th>MOT16-02</th>\n",
              "      <td>0.453296</td>\n",
              "      <td>0.644068</td>\n",
              "      <td>0.349712</td>\n",
              "      <td>0.522362</td>\n",
              "      <td>0.962038</td>\n",
              "      <td>62</td>\n",
              "      <td>12</td>\n",
              "      <td>37</td>\n",
              "      <td>13</td>\n",
              "      <td>383</td>\n",
              "      <td>8875</td>\n",
              "      <td>131</td>\n",
              "      <td>210</td>\n",
              "      <td>0.494699</td>\n",
              "      <td>0.090315</td>\n",
              "    </tr>\n",
              "    <tr>\n",
              "      <th>MOT16-05</th>\n",
              "      <td>0.634762</td>\n",
              "      <td>0.751582</td>\n",
              "      <td>0.549371</td>\n",
              "      <td>0.687726</td>\n",
              "      <td>0.940862</td>\n",
              "      <td>133</td>\n",
              "      <td>55</td>\n",
              "      <td>66</td>\n",
              "      <td>12</td>\n",
              "      <td>299</td>\n",
              "      <td>2160</td>\n",
              "      <td>281</td>\n",
              "      <td>150</td>\n",
              "      <td>0.603875</td>\n",
              "      <td>0.142168</td>\n",
              "    </tr>\n",
              "    <tr>\n",
              "      <th>MOT16-09</th>\n",
              "      <td>0.505593</td>\n",
              "      <td>0.625173</td>\n",
              "      <td>0.424413</td>\n",
              "      <td>0.663662</td>\n",
              "      <td>0.977593</td>\n",
              "      <td>26</td>\n",
              "      <td>13</td>\n",
              "      <td>12</td>\n",
              "      <td>1</td>\n",
              "      <td>81</td>\n",
              "      <td>1791</td>\n",
              "      <td>49</td>\n",
              "      <td>76</td>\n",
              "      <td>0.639249</td>\n",
              "      <td>0.082153</td>\n",
              "    </tr>\n",
              "    <tr>\n",
              "      <th>MOT16-11</th>\n",
              "      <td>0.676472</td>\n",
              "      <td>0.745691</td>\n",
              "      <td>0.619012</td>\n",
              "      <td>0.801929</td>\n",
              "      <td>0.966041</td>\n",
              "      <td>75</td>\n",
              "      <td>43</td>\n",
              "      <td>25</td>\n",
              "      <td>7</td>\n",
              "      <td>266</td>\n",
              "      <td>1869</td>\n",
              "      <td>137</td>\n",
              "      <td>88</td>\n",
              "      <td>0.759220</td>\n",
              "      <td>0.082573</td>\n",
              "    </tr>\n",
              "    <tr>\n",
              "      <th>OVERALL</th>\n",
              "      <td>0.550440</td>\n",
              "      <td>0.691874</td>\n",
              "      <td>0.457016</td>\n",
              "      <td>0.634988</td>\n",
              "      <td>0.961306</td>\n",
              "      <td>296</td>\n",
              "      <td>123</td>\n",
              "      <td>140</td>\n",
              "      <td>33</td>\n",
              "      <td>1029</td>\n",
              "      <td>14695</td>\n",
              "      <td>598</td>\n",
              "      <td>524</td>\n",
              "      <td>0.594575</td>\n",
              "      <td>0.096544</td>\n",
              "    </tr>\n",
              "  </tbody>\n",
              "</table>\n",
              "</div>\n",
              "      <button class=\"colab-df-convert\" onclick=\"convertToInteractive('df-93d169ef-1538-4cdc-9e56-e1ff87c96980')\"\n",
              "              title=\"Convert this dataframe to an interactive table.\"\n",
              "              style=\"display:none;\">\n",
              "        \n",
              "  <svg xmlns=\"http://www.w3.org/2000/svg\" height=\"24px\"viewBox=\"0 0 24 24\"\n",
              "       width=\"24px\">\n",
              "    <path d=\"M0 0h24v24H0V0z\" fill=\"none\"/>\n",
              "    <path d=\"M18.56 5.44l.94 2.06.94-2.06 2.06-.94-2.06-.94-.94-2.06-.94 2.06-2.06.94zm-11 1L8.5 8.5l.94-2.06 2.06-.94-2.06-.94L8.5 2.5l-.94 2.06-2.06.94zm10 10l.94 2.06.94-2.06 2.06-.94-2.06-.94-.94-2.06-.94 2.06-2.06.94z\"/><path d=\"M17.41 7.96l-1.37-1.37c-.4-.4-.92-.59-1.43-.59-.52 0-1.04.2-1.43.59L10.3 9.45l-7.72 7.72c-.78.78-.78 2.05 0 2.83L4 21.41c.39.39.9.59 1.41.59.51 0 1.02-.2 1.41-.59l7.78-7.78 2.81-2.81c.8-.78.8-2.07 0-2.86zM5.41 20L4 18.59l7.72-7.72 1.47 1.35L5.41 20z\"/>\n",
              "  </svg>\n",
              "      </button>\n",
              "      \n",
              "  <style>\n",
              "    .colab-df-container {\n",
              "      display:flex;\n",
              "      flex-wrap:wrap;\n",
              "      gap: 12px;\n",
              "    }\n",
              "\n",
              "    .colab-df-convert {\n",
              "      background-color: #E8F0FE;\n",
              "      border: none;\n",
              "      border-radius: 50%;\n",
              "      cursor: pointer;\n",
              "      display: none;\n",
              "      fill: #1967D2;\n",
              "      height: 32px;\n",
              "      padding: 0 0 0 0;\n",
              "      width: 32px;\n",
              "    }\n",
              "\n",
              "    .colab-df-convert:hover {\n",
              "      background-color: #E2EBFA;\n",
              "      box-shadow: 0px 1px 2px rgba(60, 64, 67, 0.3), 0px 1px 3px 1px rgba(60, 64, 67, 0.15);\n",
              "      fill: #174EA6;\n",
              "    }\n",
              "\n",
              "    [theme=dark] .colab-df-convert {\n",
              "      background-color: #3B4455;\n",
              "      fill: #D2E3FC;\n",
              "    }\n",
              "\n",
              "    [theme=dark] .colab-df-convert:hover {\n",
              "      background-color: #434B5C;\n",
              "      box-shadow: 0px 1px 3px 1px rgba(0, 0, 0, 0.15);\n",
              "      filter: drop-shadow(0px 1px 2px rgba(0, 0, 0, 0.3));\n",
              "      fill: #FFFFFF;\n",
              "    }\n",
              "  </style>\n",
              "\n",
              "      <script>\n",
              "        const buttonEl =\n",
              "          document.querySelector('#df-93d169ef-1538-4cdc-9e56-e1ff87c96980 button.colab-df-convert');\n",
              "        buttonEl.style.display =\n",
              "          google.colab.kernel.accessAllowed ? 'block' : 'none';\n",
              "\n",
              "        async function convertToInteractive(key) {\n",
              "          const element = document.querySelector('#df-93d169ef-1538-4cdc-9e56-e1ff87c96980');\n",
              "          const dataTable =\n",
              "            await google.colab.kernel.invokeFunction('convertToInteractive',\n",
              "                                                     [key], {});\n",
              "          if (!dataTable) return;\n",
              "\n",
              "          const docLinkHtml = 'Like what you see? Visit the ' +\n",
              "            '<a target=\"_blank\" href=https://colab.research.google.com/notebooks/data_table.ipynb>data table notebook</a>'\n",
              "            + ' to learn more about interactive tables.';\n",
              "          element.innerHTML = '';\n",
              "          dataTable['output_type'] = 'display_data';\n",
              "          await google.colab.output.renderOutput(dataTable, element);\n",
              "          const docLink = document.createElement('div');\n",
              "          docLink.innerHTML = docLinkHtml;\n",
              "          element.appendChild(docLink);\n",
              "        }\n",
              "      </script>\n",
              "    </div>\n",
              "  </div>\n",
              "  "
            ]
          },
          "metadata": {},
          "execution_count": 18
        }
      ],
      "source": [
        "tracker = LongTermReIDHungarianTracker(patience=20, obj_detect=None)\n",
        "run_tracker(val_sequences, db=train_db, tracker=tracker, output_dir=None)"
      ]
    },
    {
      "cell_type": "markdown",
      "metadata": {
        "id": "CBeSJrY87ot7"
      },
      "source": [
        "## Exercise Part II - Building a tracker based on Neural Message Passing\n",
        "\n",
        "Our ``LongTermReIDHungarianTracker`` is still limited when compared to current modern trackers.\n",
        "\n",
        "Firstly, it relies solely on appearance to predict similarity scores between objectes. This can be problematic whenever appearance alone may not discriminative, and it'd be best to also take into account object position and size attributes. Secondly, our tracker can only account for pairwise similarities among objects. Ideally, we would like it to also consider higher-order information.\n",
        "\n",
        "To address these limitations. We will now build a tracker that will combine both apperance and position information with a Message Passing Neural Network, inspired by the approach presented in [Learning a Neural Solver for Multiple Object Tracking, CVPR 2020](https://arxiv.org/abs/1912.07515)\n",
        "\n",
        "The overall idea will be to build, for every tracking step, a bipartite graph containing two sets of nodes: past tracks, and detections in the current frame. We will initialize node features with ReID embeddings, and edge features with relative position features and ReID distance. We will use an MPN to refine these edge embeddings. The learning task will be to classify the edge embeddings in this graph, which is equivalent to predicting the entries of our data association similarity matrix.\n"
      ]
    },
    {
      "cell_type": "markdown",
      "metadata": {
        "id": "eVbnOrlPqWRB"
      },
      "source": [
        "### Building an MPN for Bipartite Graphs\n",
        "\n",
        "We will first build a Neural Message Passing layer based on the Graph Networks framework introduced in [Relational inductive biases, deep learning, and graph networks, arXiv 2020](https://arxiv.org/abs/1806.01261), as explained in the *A More General Framework* slides of [Lecture 5](https://www.moodle.tum.de/pluginfile.php/2928927/mod_resource/content/1/5.MOT2.pdf) (slides 70 to 75).\n",
        "\n",
        "We will be using a bipartite graph, i.e., we will have two sets of nodes $A$ (past tracks), and $B$ (detections), and our set of edges will be $A\\times B$. That is, we will connect every pair of past tracks and detections.\n",
        "\n",
        "We will have initial node features (i.e. reid embeddings) matrices: $X_A$ and $X_B$ and an initial edge features tensor $E$.\n",
        "\n",
        "$X_A$ and $X_B$ have shape $|A|\\times \\text{node\\_dim}$ and $|B|\\times \\text{node\\_dim}$, respectively.\n",
        "\n",
        "$E$ has shape $|A| \\times |B| \\times \\text{edge\\_dim}$. Its $(i, j)$ entry contains the edge features of node $i$ in $A$ and node $j$ in $B$.\n",
        "\n",
        "With the given layer, we will produce new node feature matrices $X_A'$ and $X_B'$ and edge features $E'$ with the same dimensions.\n",
        "Please refer to the formulas in the slides and figure how to apply them in this setting.\n",
        "\n",
        "You are asked to implement both the node and edge update steps in the class below\n",
        "\n",
        "**NOTE 1**: Working with a bipartite graph allows us to vectorize all operations in the formulas in a straightforward manner (keep in mind that we store edge features in a matrix). Given a node in $A$, it is connected to all nodes in $B$.\n",
        "\n",
        "**NOTE 2**: You do not need to care about batching several graphs. This implementation will only work with a single graph at a time."
      ]
    },
    {
      "cell_type": "code",
      "execution_count": null,
      "metadata": {
        "id": "4q2I6Luo7ot7"
      },
      "outputs": [],
      "source": [
        "from torch import nn\n",
        "\n",
        "class BipartiteNeuralMessagePassingLayer(nn.Module):\n",
        "    def __init__(self, node_dim, edge_dim, dropout=0.):\n",
        "        super().__init__()\n",
        "\n",
        "        edge_in_dim  = 2*node_dim + 2*edge_dim # 2*edge_dim since we always concatenate initial edge features\n",
        "        self.edge_mlp = nn.Sequential(*[nn.Linear(edge_in_dim, edge_dim), nn.ReLU(), nn.Dropout(dropout),\n",
        "                                    nn.Linear(edge_dim, edge_dim), nn.ReLU(), nn.Dropout(dropout)])\n",
        "\n",
        "        node_in_dim  = node_dim + edge_dim\n",
        "        self.node_mlp = nn.Sequential(*[nn.Linear(node_in_dim, node_dim), nn.ReLU(), nn.Dropout(dropout),\n",
        "                                        nn.Linear(node_dim, node_dim), nn.ReLU(), nn.Dropout(dropout)])\n",
        "\n",
        "    def edge_update(self, edge_embeds, nodes_a_embeds, nodes_b_embeds):\n",
        "        \"\"\"\n",
        "        Node-to-edge updates, as descibed in slide 71, lecture 5.\n",
        "        Args:\n",
        "            edge_embeds: torch.Tensor with shape (|A|, |B|, 2 x edge_dim)\n",
        "            nodes_a_embeds: torch.Tensor with shape (|A|, node_dim)\n",
        "            nodes_a_embeds: torch.Tensor with shape (|B|, node_dim)\n",
        "\n",
        "        returns:\n",
        "            updated_edge_feats = torch.Tensor with shape (|A|, |B|, edge_dim)\n",
        "        \"\"\"\n",
        "\n",
        "        n_nodes_a, n_nodes_b, _  = edge_embeds.shape\n",
        "\n",
        "        ########################\n",
        "        #### TODO starts\n",
        "        ########################\n",
        "\n",
        "        nodes_a = nodes_a_embeds.unsqueeze(1).expand(-1, n_nodes_b, -1)\n",
        "        nodes_b = nodes_b_embeds.unsqueeze(0).expand(n_nodes_a, -1, -1)\n",
        "\n",
        "        edge_in = torch.cat((edge_embeds, nodes_a, nodes_b), dim=-1) # has shape (|A|, |B|, 2*node_dim + 2*edge_dim)\n",
        "\n",
        "        ########################\n",
        "        #### TODO ends\n",
        "        ########################\n",
        "\n",
        "\n",
        "        return self.edge_mlp(edge_in)\n",
        "\n",
        "    def node_update(self, edge_embeds, nodes_a_embeds, nodes_b_embeds):\n",
        "        \"\"\"\n",
        "        Edge-to-node updates, as descibed in slide 75, lecture 5.\n",
        "\n",
        "        Args:\n",
        "            edge_embeds: torch.Tensor with shape (|A|, |B|, edge_dim)\n",
        "            nodes_a_embeds: torch.Tensor with shape (|A|, node_dim)\n",
        "            nodes_b_embeds: torch.Tensor with shape (|B|, node_dim)\n",
        "\n",
        "        returns:\n",
        "            tuple(\n",
        "                updated_nodes_a_embeds: torch.Tensor with shape (|A|, node_dim),\n",
        "                updated_nodes_b_embeds: torch.Tensor with shape (|B|, node_dim)\n",
        "                )\n",
        "        \"\"\"\n",
        "\n",
        "        ########################\n",
        "        #### TODO starts\n",
        "        ########################\n",
        "\n",
        "        # NOTE: Use 'sum' as aggregation function\n",
        "\n",
        "        edge_a = edge_embeds.sum(dim=1)\n",
        "        nodes_a_in = torch.cat((nodes_a_embeds, edge_a), dim=-1)\n",
        "        # Has shape (|A|, node_dim + edge_dim)\n",
        "\n",
        "        edge_b = edge_embeds.sum(dim=0)\n",
        "        nodes_b_in = torch.cat((nodes_b_embeds, edge_b), dim=-1)\n",
        "        # Has shape (|B|, node_dim + edge_dim)\n",
        "\n",
        "        ########################\n",
        "        #### TODO ends\n",
        "        ########################\n",
        "\n",
        "\n",
        "\n",
        "        nodes_a = self.node_mlp(nodes_a_in)\n",
        "        nodes_b = self.node_mlp(nodes_b_in)\n",
        "\n",
        "        return nodes_a, nodes_b\n",
        "\n",
        "    def forward(self, edge_embeds, nodes_a_embeds, nodes_b_embeds):\n",
        "        edge_embeds_latent = self.edge_update(edge_embeds, nodes_a_embeds, nodes_b_embeds)\n",
        "        nodes_a_latent, nodes_b_latent = self.node_update(edge_embeds_latent, nodes_a_embeds, nodes_b_embeds)\n",
        "\n",
        "        return edge_embeds_latent, nodes_a_latent, nodes_b_latent"
      ]
    },
    {
      "cell_type": "markdown",
      "metadata": {
        "id": "F2sPoUo07ot8"
      },
      "source": [
        "## Building the entire network to predict similarities\n",
        "We now build the network that generates initial node and edge features, performs neural message passing, and classifies edges in order to produce the final costs that we will use for data association.\n",
        "\n",
        "You need to implement the method that computes the initial edge features. You can can follow [1] and, given a two bounding boxes $(x_i, y_i, w_i, h_i)$ and  $(x_j, y_j, w_j, h_j)$ and timestamps $t_i$ and $t_j$, compute an initial 5-dimensional edge feature vector as:\n",
        "$$ E_(i, j) = \\left (\\frac{2(x_j - x_i)}{h_i + h_j}, \\frac{2(y_j - y_i)}{h_i + h_j}, \\log{\\frac{h_i}{h_j}}, \\log{\\frac{w_i}{w_j}}, t_j - t_i \\right )$$\n",
        "\n",
        "\n",
        "Feel free to engineer your own features (e.g. use IoU, etc.)"
      ]
    },
    {
      "cell_type": "code",
      "execution_count": null,
      "metadata": {
        "id": "nF7apF9C7ot8"
      },
      "outputs": [],
      "source": [
        "from torch.nn import functional as F\n",
        "class AssignmentSimilarityNet(nn.Module):\n",
        "    def __init__(self, reid_network, node_dim, edge_dim, reid_dim, edges_in_dim, num_steps, dropout=0.):\n",
        "        super().__init__()\n",
        "        self.reid_network = reid_network\n",
        "        self.graph_net = BipartiteNeuralMessagePassingLayer(node_dim=node_dim, edge_dim=edge_dim, dropout=dropout)\n",
        "        self.num_steps = num_steps\n",
        "        self.cnn_linear = nn.Linear(reid_dim, node_dim)\n",
        "        self.edge_in_mlp = nn.Sequential(*[nn.Linear(edges_in_dim, edge_dim), nn.ReLU(), nn.Dropout(dropout), nn.Linear(edge_dim, edge_dim), nn.ReLU(),nn.Dropout(dropout)])\n",
        "        self.classifier = nn.Sequential(*[nn.Linear(edge_dim, edge_dim), nn.ReLU(), nn.Linear(edge_dim, 1)])\n",
        "\n",
        "\n",
        "    def compute_edge_feats(self, track_coords, current_coords, track_t, curr_t):\n",
        "        \"\"\"\n",
        "        Computes initial edge feature tensor\n",
        "\n",
        "        Args:\n",
        "            track_coords: track's frame box coordinates, given by top-left and bottom-right coordinates\n",
        "                          torch.Tensor with shape (num_tracks, 4)\n",
        "            current_coords: current frame box coordinates, given by top-left and bottom-right coordinates\n",
        "                            has shape (num_boxes, 4)\n",
        "\n",
        "            track_t: track's timestamps, torch.Tensor with with shape (num_tracks, )\n",
        "            curr_t: current frame's timestamps, torch.Tensor withwith shape (num_boxes,)\n",
        "\n",
        "\n",
        "        Returns:\n",
        "            tensor with shape (num_trakcs, num_boxes, 5) containing pairwise\n",
        "            position and time difference features\n",
        "        \"\"\"\n",
        "\n",
        "        ########################\n",
        "        #### TODO starts\n",
        "        ########################\n",
        "\n",
        "        # NOTE 1: we recommend you to use box centers to compute distances\n",
        "        # in the x and y coordinates.\n",
        "\n",
        "        # NOTE 2: Check out the  code inside train_one_epoch function and\n",
        "        # LongTrackTrainingDataset class a few cells below to debug this\n",
        "\n",
        "        track_centers = track_coords.view(-1, 2, 2).mean(-2)\n",
        "        curr_centers = current_coords.view(-1, 2, 2).mean(-2)\n",
        "\n",
        "        track_w = track_coords[..., 2] - track_coords[..., 0]\n",
        "        track_h = track_coords[..., 3] - track_coords[..., 1]\n",
        "\n",
        "        curr_w = current_coords[..., 2] - current_coords[..., 0]\n",
        "        curr_h = current_coords[..., 3] - current_coords[..., 1]\n",
        "\n",
        "        assert (track_w >0).all() and (track_h >0).all()\n",
        "\n",
        "        denom = (track_w.unsqueeze(1) + curr_w.unsqueeze(0)) / 2\n",
        "        dist_x = (track_centers[..., 0].unsqueeze(1) - curr_centers[..., 0].unsqueeze(0))\n",
        "        dist_y = (track_centers[..., 1].unsqueeze(1) - curr_centers[..., 1].unsqueeze(0))\n",
        "\n",
        "        dist_x = dist_x / denom\n",
        "        dist_y = dist_y / denom\n",
        "\n",
        "        dist_w = torch.log(track_w.unsqueeze(1) / curr_w.unsqueeze(0))\n",
        "        dist_h = torch.log(track_h.unsqueeze(1) / curr_h.unsqueeze(0))\n",
        "\n",
        "        dist_t = (track_t.unsqueeze(1) - curr_t.unsqueeze(0)).type(dist_h.dtype).to(dist_h.device)\n",
        "\n",
        "        edge_feats = torch.stack([dist_x, dist_y, dist_w, dist_h, dist_t])\n",
        "        edge_feats = edge_feats.permute(1, 2, 0)\n",
        "\n",
        "        ########################\n",
        "        #### TODO ends\n",
        "        ########################\n",
        "\n",
        "        return edge_feats # has shape (num_trakcs, num_boxes, 5)\n",
        "\n",
        "\n",
        "    def forward(self, track_app, current_app, track_coords, current_coords, track_t, curr_t):\n",
        "        \"\"\"\n",
        "        Args:\n",
        "            track_app: track's reid embeddings, torch.Tensor with shape (num_tracks, 512)\n",
        "            current_app: current frame detections' reid embeddings, torch.Tensor with shape (num_boxes, 512)\n",
        "            track_coords: track's frame box coordinates, given by top-left and bottom-right coordinates\n",
        "                          torch.Tensor with shape (num_tracks, 4)\n",
        "            current_coords: current frame box coordinates, given by top-left and bottom-right coordinates\n",
        "                            has shape (num_boxes, 4)\n",
        "\n",
        "            track_t: track's timestamps, torch.Tensor with with shape (num_tracks, )\n",
        "            curr_t: current frame's timestamps, torch.Tensor withwith shape (num_boxes,)\n",
        "\n",
        "        Returns:\n",
        "            classified edges: torch.Tensor with shape (num_steps, num_tracks, num_boxes),\n",
        "                             containing at entry (step, i, j) the unnormalized probability that track i and\n",
        "                             detection j are a match, according to the classifier at the given neural message passing step\n",
        "        \"\"\"\n",
        "\n",
        "        # Get initial edge embeddings to\n",
        "        dist_reid = cosine_distance(track_app, current_app)\n",
        "        pos_edge_feats = self.compute_edge_feats(track_coords, current_coords, track_t, curr_t)\n",
        "        edge_feats = torch.cat((pos_edge_feats, dist_reid.unsqueeze(-1)), dim=-1)\n",
        "        edge_embeds = self.edge_in_mlp(edge_feats)\n",
        "        initial_edge_embeds = edge_embeds.clone()\n",
        "\n",
        "        # Get initial node embeddings, reduce dimensionality from 512 to node_dim\n",
        "        track_embeds = F.relu(self.cnn_linear(track_app))\n",
        "        curr_embeds =F.relu(self.cnn_linear(current_app))\n",
        "\n",
        "        classified_edges = []\n",
        "        for _ in range(self.num_steps):\n",
        "            edge_embeds = torch.cat((edge_embeds, initial_edge_embeds), dim=-1)\n",
        "            edge_embeds, track_embeds, curr_embeds = self.graph_net(edge_embeds=edge_embeds,\n",
        "                                                                    nodes_a_embeds=track_embeds,\n",
        "                                                                    nodes_b_embeds=curr_embeds)\n",
        "\n",
        "            classified_edges.append(self.classifier(edge_embeds))\n",
        "\n",
        "        return torch.stack(classified_edges).squeeze(-1)"
      ]
    },
    {
      "cell_type": "markdown",
      "metadata": {
        "id": "7Cdr6YDY7ot8"
      },
      "source": [
        "## Putting everything together"
      ]
    },
    {
      "cell_type": "markdown",
      "metadata": {
        "id": "Xp3cC6j57ot9"
      },
      "source": [
        "Finally, we incorporate our ``AssignmentSimilarityNet`` into our tracker. We can keep everything as in ``LongTermReIDHungarianTracker`` except for the distance computation, which is now directly obtained via a forward pass through AssignmentSimilarityNet."
      ]
    },
    {
      "cell_type": "code",
      "execution_count": null,
      "metadata": {
        "id": "6GA99XOv7ot9"
      },
      "outputs": [],
      "source": [
        "_UNMATCHED_COST=255\n",
        "class MPNTracker(LongTermReIDHungarianTracker):\n",
        "    def __init__(self, assign_net, *args, **kwargs):\n",
        "        self.assign_net = assign_net\n",
        "        super().__init__(*args, **kwargs)\n",
        "\n",
        "    def data_association(self, boxes, scores, pred_features):\n",
        "        if self.tracks:\n",
        "            track_boxes = torch.stack([t.box for t in self.tracks], axis=0).cuda()\n",
        "            track_features = torch.stack([t.get_feature() for t in self.tracks], axis=0).cuda()\n",
        "\n",
        "            # Hacky way to recover the timestamps of boxes and tracks\n",
        "            curr_t = self.im_index * torch.ones((pred_features.shape[0],)).cuda()\n",
        "            track_t = torch.as_tensor([self.im_index - t.inactive - 1 for t in self.tracks]).cuda()\n",
        "\n",
        "            ########################\n",
        "            #### TODO starts\n",
        "            ########################\n",
        "\n",
        "            # Do a forward pass through self.assign_net to obtain our costs.\n",
        "            # Note: self.assign_net will return unnormalized probabilities.\n",
        "            # Make sure to apply the sigmoid function to them!\n",
        "            pred_sim = torch.sigmoid(self.assign_net.forward(track_app = track_features.cuda(),\n",
        "                                                             current_app = pred_features.cuda(),\n",
        "                                                             track_coords = track_boxes.cuda(),\n",
        "                                                             current_coords=boxes.cuda(),\n",
        "                                                             track_t = track_t,\n",
        "                                                             curr_t = curr_t)).detach().cpu().numpy()\n",
        "\n",
        "\n",
        "            ########################\n",
        "            #### TODO ends\n",
        "            ########################\n",
        "\n",
        "            pred_sim = pred_sim[-1]  # Use predictions at last message passing step\n",
        "            distance = (1- pred_sim)\n",
        "\n",
        "            # Do not allow mataches when sim < 0.5, to avoid low-confident associations\n",
        "            distance = np.where(pred_sim < 0.5, _UNMATCHED_COST, distance)\n",
        "\n",
        "            # Perform Hungarian matching.\n",
        "            row_idx, col_idx = linear_assignment(distance)\n",
        "            self.update_tracks(row_idx, col_idx,distance, boxes, scores, pred_features)\n",
        "\n",
        "\n",
        "        else:\n",
        "            # No tracks exist.\n",
        "            self.add(boxes, scores, pred_features)"
      ]
    },
    {
      "cell_type": "markdown",
      "metadata": {
        "id": "cyzMUfYE7ot9"
      },
      "source": [
        "## Training and evaluating our model\n",
        "\n",
        "We provide all boilerplate code for training our neural message passing based\n",
        "tracker, as well as evaluating.\n",
        "\n",
        "Under the hood, we are sampling frames randomly from our training sequences, and then sampling boxes from past frames as past_tracks to generate our\n",
        "training\n",
        "data. Check out `LongTrackTrainingDataset` for details.\n",
        "\n",
        "We train the model with a weighted cross-entropy loss\n",
        "to account for the class imbalance. Check out `train_one_epoch` if you're\n",
        "interested.\n",
        "\n",
        "No need to write any code from your side here!\n"
      ]
    },
    {
      "cell_type": "code",
      "execution_count": null,
      "metadata": {
        "id": "kuYy1IMK7ot9"
      },
      "outputs": [],
      "source": [
        "from gnn.dataset import LongTrackTrainingDataset\n",
        "from torch.utils.data import DataLoader\n",
        "from gnn.trainer import train_one_epoch\n",
        "\n",
        "MAX_PATIENCE = 20\n",
        "MAX_EPOCHS = 20\n",
        "EVAL_FREQ = 1\n",
        "\n",
        "\n",
        "# Define our model, and init\n",
        "assign_net = AssignmentSimilarityNet(reid_network=None, # Not needed since we work with precomputed features\n",
        "                                     node_dim=32,\n",
        "                                     edge_dim=64,\n",
        "                                     reid_dim=512,\n",
        "                                     edges_in_dim=6,\n",
        "                                     num_steps=10).cuda()\n",
        "\n",
        "# We only keep two sequences for validation. You can\n",
        "dataset = LongTrackTrainingDataset(dataset='MOT16-train_wo_val2',\n",
        "                                   db=train_db,\n",
        "                                   root_dir= osp.join(root_dir, 'data/MOT16'),\n",
        "                                   max_past_frames = MAX_PATIENCE,\n",
        "                                   vis_threshold=0.25)\n",
        "\n",
        "data_loader = DataLoader(dataset, batch_size=8, collate_fn = lambda x: x,\n",
        "                         shuffle=True, num_workers=2, drop_last=True)\n",
        "device = torch.device('cuda')\n",
        "optimizer = torch.optim.Adam(assign_net.parameters(), lr=0.001)\n",
        "scheduler = torch.optim.lr_scheduler.StepLR(optimizer, step_size=5)"
      ]
    },
    {
      "cell_type": "markdown",
      "metadata": {
        "id": "FxiIUDGn2_Nq"
      },
      "source": [
        "We only leave 2 sequences for validation in order to maximize\n",
        "the amount of training data. For your convenience, here are the\n",
        " LongTermReIDTracker results on them. Your validation IDF1 scores should show an improvement over them.\n",
        "```\n",
        "\n",
        "          IDF1   IDP   IDR  Rcll  Prcn  GT MT PT ML  FP    FN IDs   FM  MOTA  MOTP\n",
        "MOT16-02 45.9% 65.1% 35.4% 52.2% 96.1%  62 12 37 13 390  8873 130  210 49.4% 0.090\n",
        "MOT16-11 68.3% 75.3% 62.5% 80.2% 96.6%  75 44 24  7 266  1871 136   90 75.9% 0.083\n",
        "OVERALL  54.3% 69.6% 44.5% 61.7% 96.3% 137 56 61 20 656 10744 266  300 58.4% 0.087\n",
        "```\n",
        "\n"
      ]
    },
    {
      "cell_type": "markdown",
      "metadata": {
        "id": "V7tCJJ3V3Oaa"
      },
      "source": [
        "Let's start training!\n",
        "\n",
        "Note that we have observed quite a lot of noise in validation scores among epochs and runs. This can be explained due to the small size of our training and\n",
        "validation sets, that's why we perform early stopping to obtain the best performing model on validation. In addition, changing the experiment seed and/or relaunching the training might help in case you are suspecting that noise might be influencing your scores."
      ]
    },
    {
      "cell_type": "code",
      "execution_count": null,
      "metadata": {
        "id": "oQHiwbVr7ot9",
        "scrolled": false,
        "colab": {
          "base_uri": "https://localhost:8080/"
        },
        "outputId": "7a0fb30b-056b-4b10-82d8-a853d91c28d2"
      },
      "outputs": [
        {
          "output_type": "stream",
          "name": "stdout",
          "text": [
            "-------- EPOCH  1 --------\n"
          ]
        },
        {
          "output_type": "stream",
          "name": "stderr",
          "text": [
            "100it [00:25,  4.09it/s]"
          ]
        },
        {
          "output_type": "stream",
          "name": "stdout",
          "text": [
            "Iter 100. Loss: 0.593. Accuracy: 0.953. Recall: 0.769. Precision: 0.560\n"
          ]
        },
        {
          "output_type": "stream",
          "name": "stderr",
          "text": [
            "200it [00:51,  4.01it/s]"
          ]
        },
        {
          "output_type": "stream",
          "name": "stdout",
          "text": [
            "Iter 200. Loss: 0.100. Accuracy: 0.989. Recall: 0.987. Precision: 0.871\n"
          ]
        },
        {
          "output_type": "stream",
          "name": "stderr",
          "text": [
            "300it [01:16,  3.99it/s]"
          ]
        },
        {
          "output_type": "stream",
          "name": "stdout",
          "text": [
            "Iter 300. Loss: 0.075. Accuracy: 0.992. Recall: 0.989. Precision: 0.912\n"
          ]
        },
        {
          "output_type": "stream",
          "name": "stderr",
          "text": [
            "400it [01:41,  4.03it/s]"
          ]
        },
        {
          "output_type": "stream",
          "name": "stdout",
          "text": [
            "Iter 400. Loss: 0.062. Accuracy: 0.994. Recall: 0.991. Precision: 0.917\n"
          ]
        },
        {
          "output_type": "stream",
          "name": "stderr",
          "text": [
            "476it [02:00,  3.95it/s]\n"
          ]
        },
        {
          "output_type": "stream",
          "name": "stdout",
          "text": [
            "Tracking: MOT16-02\n",
            "Tracks found: 175\n",
            "Runtime for MOT16-02: 9.0 s.\n",
            "Tracking: MOT16-11\n",
            "Tracks found: 106\n",
            "Runtime for MOT16-11: 7.9 s.\n",
            "Runtime for all sequences: 16.9 s.\n",
            "          IDF1   IDP   IDR  Rcll  Prcn  GT MT PT ML  FP    FN IDs   FM  MOTA  MOTP\n",
            "MOT16-02 47.8% 67.9% 36.9% 52.2% 96.2%  62 12 37 13 383  8875 114  215 49.6% 0.090\n",
            "MOT16-11 70.1% 77.2% 64.1% 80.2% 96.6%  75 43 25  7 266  1869  46   88 76.9% 0.083\n",
            "OVERALL  56.2% 72.0% 46.1% 61.7% 96.4% 137 55 62 20 649 10744 160  303 58.8% 0.087\n",
            "-------- EPOCH  2 --------\n"
          ]
        },
        {
          "output_type": "stream",
          "name": "stderr",
          "text": [
            "100it [00:25,  3.96it/s]"
          ]
        },
        {
          "output_type": "stream",
          "name": "stdout",
          "text": [
            "Iter 100. Loss: 0.021. Accuracy: 0.999. Recall: 0.997. Precision: 0.991\n"
          ]
        },
        {
          "output_type": "stream",
          "name": "stderr",
          "text": [
            "200it [00:50,  3.95it/s]"
          ]
        },
        {
          "output_type": "stream",
          "name": "stdout",
          "text": [
            "Iter 200. Loss: 0.041. Accuracy: 0.999. Recall: 0.992. Precision: 0.983\n"
          ]
        },
        {
          "output_type": "stream",
          "name": "stderr",
          "text": [
            "300it [01:15,  3.99it/s]"
          ]
        },
        {
          "output_type": "stream",
          "name": "stdout",
          "text": [
            "Iter 300. Loss: 0.015. Accuracy: 0.999. Recall: 0.998. Precision: 0.991\n"
          ]
        },
        {
          "output_type": "stream",
          "name": "stderr",
          "text": [
            "400it [01:41,  3.92it/s]"
          ]
        },
        {
          "output_type": "stream",
          "name": "stdout",
          "text": [
            "Iter 400. Loss: 0.017. Accuracy: 0.999. Recall: 0.997. Precision: 0.991\n"
          ]
        },
        {
          "output_type": "stream",
          "name": "stderr",
          "text": [
            "476it [02:00,  3.94it/s]\n"
          ]
        },
        {
          "output_type": "stream",
          "name": "stdout",
          "text": [
            "Tracking: MOT16-02\n",
            "Tracks found: 125\n",
            "Runtime for MOT16-02: 8.9 s.\n",
            "Tracking: MOT16-11\n",
            "Tracks found: 97\n",
            "Runtime for MOT16-11: 7.8 s.\n",
            "Runtime for all sequences: 16.7 s.\n",
            "          IDF1   IDP   IDR  Rcll  Prcn  GT MT PT ML  FP    FN IDs   FM  MOTA  MOTP\n",
            "MOT16-02 48.3% 68.7% 37.3% 52.2% 96.2%  62 11 38 13 383  8875 103  219 49.6% 0.095\n",
            "MOT16-11 70.2% 77.4% 64.2% 80.2% 96.6%  75 43 25  7 266  1869  39   88 77.0% 0.083\n",
            "OVERALL  56.6% 72.5% 46.4% 61.7% 96.4% 137 54 63 20 649 10744 142  307 58.8% 0.090\n",
            "-------- EPOCH  3 --------\n"
          ]
        },
        {
          "output_type": "stream",
          "name": "stderr",
          "text": [
            "100it [00:25,  3.99it/s]"
          ]
        },
        {
          "output_type": "stream",
          "name": "stdout",
          "text": [
            "Iter 100. Loss: 0.010. Accuracy: 0.999. Recall: 0.998. Precision: 0.993\n"
          ]
        },
        {
          "output_type": "stream",
          "name": "stderr",
          "text": [
            "200it [00:50,  3.99it/s]"
          ]
        },
        {
          "output_type": "stream",
          "name": "stdout",
          "text": [
            "Iter 200. Loss: 0.012. Accuracy: 0.999. Recall: 0.999. Precision: 0.990\n"
          ]
        },
        {
          "output_type": "stream",
          "name": "stderr",
          "text": [
            "300it [01:16,  3.91it/s]"
          ]
        },
        {
          "output_type": "stream",
          "name": "stdout",
          "text": [
            "Iter 300. Loss: 0.022. Accuracy: 0.999. Recall: 0.997. Precision: 0.985\n"
          ]
        },
        {
          "output_type": "stream",
          "name": "stderr",
          "text": [
            "400it [01:42,  4.03it/s]"
          ]
        },
        {
          "output_type": "stream",
          "name": "stdout",
          "text": [
            "Iter 400. Loss: 0.012. Accuracy: 0.999. Recall: 1.000. Precision: 0.989\n"
          ]
        },
        {
          "output_type": "stream",
          "name": "stderr",
          "text": [
            "476it [02:00,  3.93it/s]\n"
          ]
        },
        {
          "output_type": "stream",
          "name": "stdout",
          "text": [
            "Tracking: MOT16-02\n",
            "Tracks found: 237\n",
            "Runtime for MOT16-02: 8.9 s.\n",
            "Tracking: MOT16-11\n",
            "Tracks found: 138\n",
            "Runtime for MOT16-11: 7.7 s.\n",
            "Runtime for all sequences: 16.6 s.\n",
            "          IDF1   IDP   IDR  Rcll  Prcn  GT MT PT ML  FP    FN IDs   FM  MOTA  MOTP\n",
            "MOT16-02 43.3% 61.6% 33.4% 52.2% 96.2%  62 12 37 13 383  8875 143  207 49.4% 0.089\n",
            "MOT16-11 68.1% 75.1% 62.3% 80.2% 96.6%  75 43 25  7 266  1869  51   87 76.8% 0.083\n",
            "OVERALL  52.6% 67.5% 43.2% 61.7% 96.4% 137 55 62 20 649 10744 194  294 58.6% 0.086\n",
            "-------- EPOCH  4 --------\n"
          ]
        },
        {
          "output_type": "stream",
          "name": "stderr",
          "text": [
            "100it [00:26,  3.90it/s]"
          ]
        },
        {
          "output_type": "stream",
          "name": "stdout",
          "text": [
            "Iter 100. Loss: 0.015. Accuracy: 0.999. Recall: 0.998. Precision: 0.992\n"
          ]
        },
        {
          "output_type": "stream",
          "name": "stderr",
          "text": [
            "200it [00:52,  4.03it/s]"
          ]
        },
        {
          "output_type": "stream",
          "name": "stdout",
          "text": [
            "Iter 200. Loss: 0.179. Accuracy: 0.998. Recall: 0.991. Precision: 0.977\n"
          ]
        },
        {
          "output_type": "stream",
          "name": "stderr",
          "text": [
            "300it [01:17,  4.04it/s]"
          ]
        },
        {
          "output_type": "stream",
          "name": "stdout",
          "text": [
            "Iter 300. Loss: 0.061. Accuracy: 0.999. Recall: 0.991. Precision: 0.993\n"
          ]
        },
        {
          "output_type": "stream",
          "name": "stderr",
          "text": [
            "400it [01:42,  3.90it/s]"
          ]
        },
        {
          "output_type": "stream",
          "name": "stdout",
          "text": [
            "Iter 400. Loss: 0.026. Accuracy: 0.999. Recall: 0.995. Precision: 0.992\n"
          ]
        },
        {
          "output_type": "stream",
          "name": "stderr",
          "text": [
            "476it [02:02,  3.87it/s]\n"
          ]
        },
        {
          "output_type": "stream",
          "name": "stdout",
          "text": [
            "Tracking: MOT16-02\n",
            "Tracks found: 92\n",
            "Runtime for MOT16-02: 9.0 s.\n",
            "Tracking: MOT16-11\n",
            "Tracks found: 78\n",
            "Runtime for MOT16-11: 7.8 s.\n",
            "Runtime for all sequences: 16.8 s.\n",
            "          IDF1   IDP   IDR  Rcll  Prcn  GT MT PT ML  FP    FN IDs   FM  MOTA  MOTP\n",
            "MOT16-02 46.8% 66.5% 36.1% 52.2% 96.2%  62 11 38 13 383  8875 105  218 49.6% 0.094\n",
            "MOT16-11 69.1% 76.1% 63.2% 80.2% 96.6%  75 43 25  7 266  1869  40   88 76.9% 0.083\n",
            "OVERALL  55.2% 70.7% 45.2% 61.7% 96.4% 137 54 63 20 649 10744 145  306 58.8% 0.089\n",
            "-------- EPOCH  5 --------\n"
          ]
        },
        {
          "output_type": "stream",
          "name": "stderr",
          "text": [
            "100it [00:25,  3.97it/s]"
          ]
        },
        {
          "output_type": "stream",
          "name": "stdout",
          "text": [
            "Iter 100. Loss: 0.012. Accuracy: 0.999. Recall: 0.999. Precision: 0.987\n"
          ]
        },
        {
          "output_type": "stream",
          "name": "stderr",
          "text": [
            "200it [00:50,  3.98it/s]"
          ]
        },
        {
          "output_type": "stream",
          "name": "stdout",
          "text": [
            "Iter 200. Loss: 0.015. Accuracy: 0.999. Recall: 0.999. Precision: 0.987\n"
          ]
        },
        {
          "output_type": "stream",
          "name": "stderr",
          "text": [
            "300it [01:16,  3.89it/s]"
          ]
        },
        {
          "output_type": "stream",
          "name": "stdout",
          "text": [
            "Iter 300. Loss: 0.017. Accuracy: 0.999. Recall: 0.999. Precision: 0.987\n"
          ]
        },
        {
          "output_type": "stream",
          "name": "stderr",
          "text": [
            "400it [01:41,  3.98it/s]"
          ]
        },
        {
          "output_type": "stream",
          "name": "stdout",
          "text": [
            "Iter 400. Loss: 0.017. Accuracy: 0.999. Recall: 0.998. Precision: 0.984\n"
          ]
        },
        {
          "output_type": "stream",
          "name": "stderr",
          "text": [
            "476it [02:00,  3.94it/s]\n"
          ]
        },
        {
          "output_type": "stream",
          "name": "stdout",
          "text": [
            "Tracking: MOT16-02\n",
            "Tracks found: 115\n",
            "Runtime for MOT16-02: 9.0 s.\n",
            "Tracking: MOT16-11\n",
            "Tracks found: 83\n",
            "Runtime for MOT16-11: 7.6 s.\n",
            "Runtime for all sequences: 16.5 s.\n",
            "          IDF1   IDP   IDR  Rcll  Prcn  GT MT PT ML  FP    FN IDs   FM  MOTA  MOTP\n",
            "MOT16-02 46.9% 66.6% 36.2% 52.2% 96.2%  62 11 38 13 383  8875 106  216 49.6% 0.094\n",
            "MOT16-11 68.9% 76.0% 63.1% 80.2% 96.6%  75 43 25  7 266  1869  36   88 77.0% 0.083\n",
            "OVERALL  55.2% 70.7% 45.2% 61.7% 96.4% 137 54 63 20 649 10744 142  304 58.8% 0.089\n",
            "-------- EPOCH  6 --------\n"
          ]
        },
        {
          "output_type": "stream",
          "name": "stderr",
          "text": [
            "100it [00:25,  3.97it/s]"
          ]
        },
        {
          "output_type": "stream",
          "name": "stdout",
          "text": [
            "Iter 100. Loss: 0.013. Accuracy: 0.999. Recall: 0.999. Precision: 0.989\n"
          ]
        },
        {
          "output_type": "stream",
          "name": "stderr",
          "text": [
            "200it [00:51,  3.97it/s]"
          ]
        },
        {
          "output_type": "stream",
          "name": "stdout",
          "text": [
            "Iter 200. Loss: 0.013. Accuracy: 0.999. Recall: 0.999. Precision: 0.988\n"
          ]
        },
        {
          "output_type": "stream",
          "name": "stderr",
          "text": [
            "300it [01:17,  3.97it/s]"
          ]
        },
        {
          "output_type": "stream",
          "name": "stdout",
          "text": [
            "Iter 300. Loss: 0.013. Accuracy: 0.999. Recall: 0.998. Precision: 0.990\n"
          ]
        },
        {
          "output_type": "stream",
          "name": "stderr",
          "text": [
            "400it [01:42,  4.01it/s]"
          ]
        },
        {
          "output_type": "stream",
          "name": "stdout",
          "text": [
            "Iter 400. Loss: 0.013. Accuracy: 0.999. Recall: 0.998. Precision: 0.986\n"
          ]
        },
        {
          "output_type": "stream",
          "name": "stderr",
          "text": [
            "476it [02:00,  3.94it/s]\n"
          ]
        },
        {
          "output_type": "stream",
          "name": "stdout",
          "text": [
            "Tracking: MOT16-02\n",
            "Tracks found: 107\n",
            "Runtime for MOT16-02: 8.9 s.\n",
            "Tracking: MOT16-11\n",
            "Tracks found: 79\n",
            "Runtime for MOT16-11: 7.6 s.\n",
            "Runtime for all sequences: 16.6 s.\n",
            "          IDF1   IDP   IDR  Rcll  Prcn  GT MT PT ML  FP    FN IDs   FM  MOTA  MOTP\n",
            "MOT16-02 47.2% 67.0% 36.4% 52.2% 96.2%  62 11 38 13 383  8875 103  219 49.6% 0.095\n",
            "MOT16-11 70.2% 77.4% 64.3% 80.2% 96.6%  75 43 25  7 266  1869  34   88 77.0% 0.083\n",
            "OVERALL  55.8% 71.5% 45.8% 61.7% 96.4% 137 54 63 20 649 10744 137  307 58.8% 0.090\n",
            "-------- EPOCH  7 --------\n"
          ]
        },
        {
          "output_type": "stream",
          "name": "stderr",
          "text": [
            "100it [00:25,  4.00it/s]"
          ]
        },
        {
          "output_type": "stream",
          "name": "stdout",
          "text": [
            "Iter 100. Loss: 0.010. Accuracy: 0.999. Recall: 0.999. Precision: 0.988\n"
          ]
        },
        {
          "output_type": "stream",
          "name": "stderr",
          "text": [
            "200it [00:50,  3.93it/s]"
          ]
        },
        {
          "output_type": "stream",
          "name": "stdout",
          "text": [
            "Iter 200. Loss: 0.010. Accuracy: 0.999. Recall: 0.999. Precision: 0.989\n"
          ]
        },
        {
          "output_type": "stream",
          "name": "stderr",
          "text": [
            "300it [01:16,  3.89it/s]"
          ]
        },
        {
          "output_type": "stream",
          "name": "stdout",
          "text": [
            "Iter 300. Loss: 0.015. Accuracy: 0.999. Recall: 0.998. Precision: 0.986\n"
          ]
        },
        {
          "output_type": "stream",
          "name": "stderr",
          "text": [
            "400it [01:41,  2.99it/s]"
          ]
        },
        {
          "output_type": "stream",
          "name": "stdout",
          "text": [
            "Iter 400. Loss: 0.015. Accuracy: 0.999. Recall: 0.998. Precision: 0.984\n"
          ]
        },
        {
          "output_type": "stream",
          "name": "stderr",
          "text": [
            "476it [02:01,  3.93it/s]\n"
          ]
        },
        {
          "output_type": "stream",
          "name": "stdout",
          "text": [
            "Tracking: MOT16-02\n",
            "Tracks found: 108\n",
            "Runtime for MOT16-02: 9.0 s.\n",
            "Tracking: MOT16-11\n",
            "Tracks found: 80\n",
            "Runtime for MOT16-11: 7.5 s.\n",
            "Runtime for all sequences: 16.6 s.\n",
            "          IDF1   IDP   IDR  Rcll  Prcn  GT MT PT ML  FP    FN IDs   FM  MOTA  MOTP\n",
            "MOT16-02 47.2% 67.0% 36.4% 52.2% 96.2%  62 11 38 13 383  8875 103  219 49.6% 0.095\n",
            "MOT16-11 69.9% 77.1% 64.0% 80.2% 96.6%  75 43 25  7 266  1869  35   88 77.0% 0.083\n",
            "OVERALL  55.7% 71.4% 45.7% 61.7% 96.4% 137 54 63 20 649 10744 138  307 58.8% 0.090\n",
            "-------- EPOCH  8 --------\n"
          ]
        },
        {
          "output_type": "stream",
          "name": "stderr",
          "text": [
            "100it [00:25,  4.01it/s]"
          ]
        },
        {
          "output_type": "stream",
          "name": "stdout",
          "text": [
            "Iter 100. Loss: 0.011. Accuracy: 0.999. Recall: 0.999. Precision: 0.988\n"
          ]
        },
        {
          "output_type": "stream",
          "name": "stderr",
          "text": [
            "200it [00:50,  3.91it/s]"
          ]
        },
        {
          "output_type": "stream",
          "name": "stdout",
          "text": [
            "Iter 200. Loss: 0.010. Accuracy: 0.999. Recall: 0.999. Precision: 0.987\n"
          ]
        },
        {
          "output_type": "stream",
          "name": "stderr",
          "text": [
            "300it [01:16,  3.96it/s]"
          ]
        },
        {
          "output_type": "stream",
          "name": "stdout",
          "text": [
            "Iter 300. Loss: 0.012. Accuracy: 0.999. Recall: 0.999. Precision: 0.989\n"
          ]
        },
        {
          "output_type": "stream",
          "name": "stderr",
          "text": [
            "400it [01:41,  4.06it/s]"
          ]
        },
        {
          "output_type": "stream",
          "name": "stdout",
          "text": [
            "Iter 400. Loss: 0.010. Accuracy: 0.999. Recall: 0.999. Precision: 0.989\n"
          ]
        },
        {
          "output_type": "stream",
          "name": "stderr",
          "text": [
            "476it [02:00,  3.94it/s]\n"
          ]
        },
        {
          "output_type": "stream",
          "name": "stdout",
          "text": [
            "Tracking: MOT16-02\n",
            "Tracks found: 105\n",
            "Runtime for MOT16-02: 8.8 s.\n",
            "Tracking: MOT16-11\n",
            "Tracks found: 80\n",
            "Runtime for MOT16-11: 7.7 s.\n",
            "Runtime for all sequences: 16.5 s.\n",
            "          IDF1   IDP   IDR  Rcll  Prcn  GT MT PT ML  FP    FN IDs   FM  MOTA  MOTP\n",
            "MOT16-02 47.2% 67.0% 36.4% 52.2% 96.2%  62 11 38 13 383  8875 102  219 49.6% 0.095\n",
            "MOT16-11 69.9% 77.1% 64.0% 80.2% 96.6%  75 43 25  7 266  1869  34   88 77.0% 0.083\n",
            "OVERALL  55.7% 71.4% 45.7% 61.7% 96.4% 137 54 63 20 649 10744 136  307 58.8% 0.090\n",
            "-------- EPOCH  9 --------\n"
          ]
        },
        {
          "output_type": "stream",
          "name": "stderr",
          "text": [
            "100it [00:26,  4.02it/s]"
          ]
        },
        {
          "output_type": "stream",
          "name": "stdout",
          "text": [
            "Iter 100. Loss: 0.010. Accuracy: 0.999. Recall: 0.999. Precision: 0.990\n"
          ]
        },
        {
          "output_type": "stream",
          "name": "stderr",
          "text": [
            "200it [00:51,  4.01it/s]"
          ]
        },
        {
          "output_type": "stream",
          "name": "stdout",
          "text": [
            "Iter 200. Loss: 0.009. Accuracy: 0.999. Recall: 0.999. Precision: 0.989\n"
          ]
        },
        {
          "output_type": "stream",
          "name": "stderr",
          "text": [
            "300it [01:16,  4.10it/s]"
          ]
        },
        {
          "output_type": "stream",
          "name": "stdout",
          "text": [
            "Iter 300. Loss: 0.013. Accuracy: 0.999. Recall: 0.998. Precision: 0.990\n"
          ]
        },
        {
          "output_type": "stream",
          "name": "stderr",
          "text": [
            "400it [01:41,  4.02it/s]"
          ]
        },
        {
          "output_type": "stream",
          "name": "stdout",
          "text": [
            "Iter 400. Loss: 0.011. Accuracy: 0.999. Recall: 0.999. Precision: 0.986\n"
          ]
        },
        {
          "output_type": "stream",
          "name": "stderr",
          "text": [
            "476it [02:00,  3.95it/s]\n"
          ]
        },
        {
          "output_type": "stream",
          "name": "stdout",
          "text": [
            "Tracking: MOT16-02\n",
            "Tracks found: 109\n",
            "Runtime for MOT16-02: 10.4 s.\n",
            "Tracking: MOT16-11\n",
            "Tracks found: 81\n",
            "Runtime for MOT16-11: 7.8 s.\n",
            "Runtime for all sequences: 18.2 s.\n",
            "          IDF1   IDP   IDR  Rcll  Prcn  GT MT PT ML  FP    FN IDs   FM  MOTA  MOTP\n",
            "MOT16-02 47.2% 67.0% 36.4% 52.2% 96.2%  62 11 38 13 383  8875 103  219 49.6% 0.095\n",
            "MOT16-11 69.9% 77.1% 64.0% 80.2% 96.6%  75 43 25  7 266  1869  34   88 77.0% 0.083\n",
            "OVERALL  55.7% 71.4% 45.7% 61.7% 96.4% 137 54 63 20 649 10744 137  307 58.8% 0.090\n",
            "-------- EPOCH 10 --------\n"
          ]
        },
        {
          "output_type": "stream",
          "name": "stderr",
          "text": [
            "100it [00:25,  3.99it/s]"
          ]
        },
        {
          "output_type": "stream",
          "name": "stdout",
          "text": [
            "Iter 100. Loss: 0.011. Accuracy: 0.999. Recall: 0.999. Precision: 0.991\n"
          ]
        },
        {
          "output_type": "stream",
          "name": "stderr",
          "text": [
            "200it [00:50,  3.98it/s]"
          ]
        },
        {
          "output_type": "stream",
          "name": "stdout",
          "text": [
            "Iter 200. Loss: 0.011. Accuracy: 0.999. Recall: 0.999. Precision: 0.990\n"
          ]
        },
        {
          "output_type": "stream",
          "name": "stderr",
          "text": [
            "300it [01:15,  4.11it/s]"
          ]
        },
        {
          "output_type": "stream",
          "name": "stdout",
          "text": [
            "Iter 300. Loss: 0.010. Accuracy: 0.999. Recall: 0.999. Precision: 0.988\n"
          ]
        },
        {
          "output_type": "stream",
          "name": "stderr",
          "text": [
            "400it [01:41,  3.96it/s]"
          ]
        },
        {
          "output_type": "stream",
          "name": "stdout",
          "text": [
            "Iter 400. Loss: 0.009. Accuracy: 0.999. Recall: 0.999. Precision: 0.990\n"
          ]
        },
        {
          "output_type": "stream",
          "name": "stderr",
          "text": [
            "476it [02:00,  3.94it/s]\n"
          ]
        },
        {
          "output_type": "stream",
          "name": "stdout",
          "text": [
            "Tracking: MOT16-02\n",
            "Tracks found: 105\n",
            "Runtime for MOT16-02: 9.0 s.\n",
            "Tracking: MOT16-11\n",
            "Tracks found: 80\n",
            "Runtime for MOT16-11: 7.6 s.\n",
            "Runtime for all sequences: 16.6 s.\n",
            "          IDF1   IDP   IDR  Rcll  Prcn  GT MT PT ML  FP    FN IDs   FM  MOTA  MOTP\n",
            "MOT16-02 47.2% 67.0% 36.4% 52.2% 96.2%  62 11 38 13 383  8875 102  219 49.6% 0.095\n",
            "MOT16-11 69.9% 77.1% 64.0% 80.2% 96.6%  75 43 25  7 266  1869  34   88 77.0% 0.083\n",
            "OVERALL  55.7% 71.4% 45.7% 61.7% 96.4% 137 54 63 20 649 10744 136  307 58.8% 0.090\n",
            "-------- EPOCH 11 --------\n"
          ]
        },
        {
          "output_type": "stream",
          "name": "stderr",
          "text": [
            "100it [00:25,  4.06it/s]"
          ]
        },
        {
          "output_type": "stream",
          "name": "stdout",
          "text": [
            "Iter 100. Loss: 0.011. Accuracy: 0.999. Recall: 0.999. Precision: 0.989\n"
          ]
        },
        {
          "output_type": "stream",
          "name": "stderr",
          "text": [
            "200it [00:51,  4.03it/s]"
          ]
        },
        {
          "output_type": "stream",
          "name": "stdout",
          "text": [
            "Iter 200. Loss: 0.009. Accuracy: 0.999. Recall: 0.999. Precision: 0.989\n"
          ]
        },
        {
          "output_type": "stream",
          "name": "stderr",
          "text": [
            "300it [01:16,  3.95it/s]"
          ]
        },
        {
          "output_type": "stream",
          "name": "stdout",
          "text": [
            "Iter 300. Loss: 0.010. Accuracy: 0.999. Recall: 0.999. Precision: 0.987\n"
          ]
        },
        {
          "output_type": "stream",
          "name": "stderr",
          "text": [
            "400it [01:41,  4.00it/s]"
          ]
        },
        {
          "output_type": "stream",
          "name": "stdout",
          "text": [
            "Iter 400. Loss: 0.014. Accuracy: 0.999. Recall: 0.998. Precision: 0.988\n"
          ]
        },
        {
          "output_type": "stream",
          "name": "stderr",
          "text": [
            "476it [02:00,  3.95it/s]\n"
          ]
        },
        {
          "output_type": "stream",
          "name": "stdout",
          "text": [
            "Tracking: MOT16-02\n",
            "Tracks found: 108\n",
            "Runtime for MOT16-02: 8.8 s.\n",
            "Tracking: MOT16-11\n",
            "Tracks found: 81\n",
            "Runtime for MOT16-11: 7.8 s.\n",
            "Runtime for all sequences: 16.6 s.\n",
            "          IDF1   IDP   IDR  Rcll  Prcn  GT MT PT ML  FP    FN IDs   FM  MOTA  MOTP\n",
            "MOT16-02 47.3% 67.3% 36.5% 52.2% 96.2%  62 11 38 13 383  8875 102  217 49.6% 0.095\n",
            "MOT16-11 69.9% 77.1% 64.0% 80.2% 96.6%  75 43 25  7 266  1869  34   88 77.0% 0.083\n",
            "OVERALL  55.8% 71.6% 45.8% 61.7% 96.4% 137 54 63 20 649 10744 136  305 58.8% 0.090\n",
            "-------- EPOCH 12 --------\n"
          ]
        },
        {
          "output_type": "stream",
          "name": "stderr",
          "text": [
            "100it [00:25,  3.99it/s]"
          ]
        },
        {
          "output_type": "stream",
          "name": "stdout",
          "text": [
            "Iter 100. Loss: 0.010. Accuracy: 0.999. Recall: 0.999. Precision: 0.988\n"
          ]
        },
        {
          "output_type": "stream",
          "name": "stderr",
          "text": [
            "200it [00:50,  4.07it/s]"
          ]
        },
        {
          "output_type": "stream",
          "name": "stdout",
          "text": [
            "Iter 200. Loss: 0.009. Accuracy: 0.999. Recall: 1.000. Precision: 0.989\n"
          ]
        },
        {
          "output_type": "stream",
          "name": "stderr",
          "text": [
            "300it [01:15,  3.96it/s]"
          ]
        },
        {
          "output_type": "stream",
          "name": "stdout",
          "text": [
            "Iter 300. Loss: 0.009. Accuracy: 0.999. Recall: 0.999. Precision: 0.990\n"
          ]
        },
        {
          "output_type": "stream",
          "name": "stderr",
          "text": [
            "400it [01:40,  3.98it/s]"
          ]
        },
        {
          "output_type": "stream",
          "name": "stdout",
          "text": [
            "Iter 400. Loss: 0.013. Accuracy: 0.999. Recall: 0.998. Precision: 0.990\n"
          ]
        },
        {
          "output_type": "stream",
          "name": "stderr",
          "text": [
            "476it [02:00,  3.96it/s]\n"
          ]
        },
        {
          "output_type": "stream",
          "name": "stdout",
          "text": [
            "Tracking: MOT16-02\n",
            "Tracks found: 109\n",
            "Runtime for MOT16-02: 8.8 s.\n",
            "Tracking: MOT16-11\n",
            "Tracks found: 81\n",
            "Runtime for MOT16-11: 7.8 s.\n",
            "Runtime for all sequences: 16.6 s.\n",
            "          IDF1   IDP   IDR  Rcll  Prcn  GT MT PT ML  FP    FN IDs   FM  MOTA  MOTP\n",
            "MOT16-02 47.3% 67.3% 36.5% 52.2% 96.2%  62 11 38 13 383  8875 102  217 49.6% 0.095\n",
            "MOT16-11 69.9% 77.1% 64.0% 80.2% 96.6%  75 43 25  7 266  1869  34   88 77.0% 0.083\n",
            "OVERALL  55.8% 71.6% 45.8% 61.7% 96.4% 137 54 63 20 649 10744 136  305 58.8% 0.090\n",
            "-------- EPOCH 13 --------\n"
          ]
        },
        {
          "output_type": "stream",
          "name": "stderr",
          "text": [
            "100it [00:25,  3.87it/s]"
          ]
        },
        {
          "output_type": "stream",
          "name": "stdout",
          "text": [
            "Iter 100. Loss: 0.011. Accuracy: 0.999. Recall: 0.999. Precision: 0.989\n"
          ]
        },
        {
          "output_type": "stream",
          "name": "stderr",
          "text": [
            "200it [00:50,  4.07it/s]"
          ]
        },
        {
          "output_type": "stream",
          "name": "stdout",
          "text": [
            "Iter 200. Loss: 0.011. Accuracy: 0.999. Recall: 0.999. Precision: 0.988\n"
          ]
        },
        {
          "output_type": "stream",
          "name": "stderr",
          "text": [
            "300it [01:16,  3.95it/s]"
          ]
        },
        {
          "output_type": "stream",
          "name": "stdout",
          "text": [
            "Iter 300. Loss: 0.009. Accuracy: 0.999. Recall: 0.999. Precision: 0.990\n"
          ]
        },
        {
          "output_type": "stream",
          "name": "stderr",
          "text": [
            "400it [01:41,  3.98it/s]"
          ]
        },
        {
          "output_type": "stream",
          "name": "stdout",
          "text": [
            "Iter 400. Loss: 0.009. Accuracy: 0.999. Recall: 0.999. Precision: 0.990\n"
          ]
        },
        {
          "output_type": "stream",
          "name": "stderr",
          "text": [
            "476it [02:00,  3.95it/s]\n"
          ]
        },
        {
          "output_type": "stream",
          "name": "stdout",
          "text": [
            "Tracking: MOT16-02\n",
            "Tracks found: 108\n",
            "Runtime for MOT16-02: 9.1 s.\n",
            "Tracking: MOT16-11\n",
            "Tracks found: 81\n",
            "Runtime for MOT16-11: 7.6 s.\n",
            "Runtime for all sequences: 16.7 s.\n",
            "          IDF1   IDP   IDR  Rcll  Prcn  GT MT PT ML  FP    FN IDs   FM  MOTA  MOTP\n",
            "MOT16-02 47.3% 67.3% 36.5% 52.2% 96.2%  62 11 38 13 383  8875 102  217 49.6% 0.095\n",
            "MOT16-11 69.9% 77.1% 64.0% 80.2% 96.6%  75 43 25  7 266  1869  34   88 77.0% 0.083\n",
            "OVERALL  55.8% 71.6% 45.8% 61.7% 96.4% 137 54 63 20 649 10744 136  305 58.8% 0.090\n",
            "-------- EPOCH 14 --------\n"
          ]
        },
        {
          "output_type": "stream",
          "name": "stderr",
          "text": [
            "100it [00:28,  3.72it/s]"
          ]
        },
        {
          "output_type": "stream",
          "name": "stdout",
          "text": [
            "Iter 100. Loss: 0.009. Accuracy: 0.999. Recall: 0.999. Precision: 0.990\n"
          ]
        },
        {
          "output_type": "stream",
          "name": "stderr",
          "text": [
            "200it [00:54,  3.73it/s]"
          ]
        },
        {
          "output_type": "stream",
          "name": "stdout",
          "text": [
            "Iter 200. Loss: 0.012. Accuracy: 0.999. Recall: 0.998. Precision: 0.988\n"
          ]
        },
        {
          "output_type": "stream",
          "name": "stderr",
          "text": [
            "300it [01:22,  3.68it/s]"
          ]
        },
        {
          "output_type": "stream",
          "name": "stdout",
          "text": [
            "Iter 300. Loss: 0.010. Accuracy: 0.999. Recall: 0.999. Precision: 0.991\n"
          ]
        },
        {
          "output_type": "stream",
          "name": "stderr",
          "text": [
            "400it [01:48,  3.67it/s]"
          ]
        },
        {
          "output_type": "stream",
          "name": "stdout",
          "text": [
            "Iter 400. Loss: 0.010. Accuracy: 0.999. Recall: 0.998. Precision: 0.988\n"
          ]
        },
        {
          "output_type": "stream",
          "name": "stderr",
          "text": [
            "476it [02:10,  3.65it/s]\n"
          ]
        },
        {
          "output_type": "stream",
          "name": "stdout",
          "text": [
            "Tracking: MOT16-02\n",
            "Tracks found: 109\n",
            "Runtime for MOT16-02: 9.5 s.\n",
            "Tracking: MOT16-11\n",
            "Tracks found: 81\n",
            "Runtime for MOT16-11: 8.3 s.\n",
            "Runtime for all sequences: 17.8 s.\n",
            "          IDF1   IDP   IDR  Rcll  Prcn  GT MT PT ML  FP    FN IDs   FM  MOTA  MOTP\n",
            "MOT16-02 48.1% 68.3% 37.1% 52.2% 96.2%  62 11 38 13 383  8875  97  220 49.7% 0.095\n",
            "MOT16-11 69.9% 77.1% 64.0% 80.2% 96.6%  75 43 25  7 266  1869  34   88 77.0% 0.083\n",
            "OVERALL  56.3% 72.2% 46.2% 61.7% 96.4% 137 54 63 20 649 10744 131  308 58.9% 0.090\n",
            "-------- EPOCH 15 --------\n"
          ]
        },
        {
          "output_type": "stream",
          "name": "stderr",
          "text": [
            "100it [00:25,  3.79it/s]"
          ]
        },
        {
          "output_type": "stream",
          "name": "stdout",
          "text": [
            "Iter 100. Loss: 0.009. Accuracy: 0.999. Recall: 0.999. Precision: 0.990\n"
          ]
        },
        {
          "output_type": "stream",
          "name": "stderr",
          "text": [
            "200it [00:51,  3.97it/s]"
          ]
        },
        {
          "output_type": "stream",
          "name": "stdout",
          "text": [
            "Iter 200. Loss: 0.011. Accuracy: 0.999. Recall: 0.998. Precision: 0.987\n"
          ]
        },
        {
          "output_type": "stream",
          "name": "stderr",
          "text": [
            "300it [01:17,  3.95it/s]"
          ]
        },
        {
          "output_type": "stream",
          "name": "stdout",
          "text": [
            "Iter 300. Loss: 0.013. Accuracy: 0.999. Recall: 0.998. Precision: 0.987\n"
          ]
        },
        {
          "output_type": "stream",
          "name": "stderr",
          "text": [
            "400it [01:43,  3.97it/s]"
          ]
        },
        {
          "output_type": "stream",
          "name": "stdout",
          "text": [
            "Iter 400. Loss: 0.009. Accuracy: 0.999. Recall: 0.999. Precision: 0.988\n"
          ]
        },
        {
          "output_type": "stream",
          "name": "stderr",
          "text": [
            "476it [02:02,  3.89it/s]\n"
          ]
        },
        {
          "output_type": "stream",
          "name": "stdout",
          "text": [
            "Tracking: MOT16-02\n",
            "Tracks found: 108\n",
            "Runtime for MOT16-02: 8.9 s.\n",
            "Tracking: MOT16-11\n",
            "Tracks found: 81\n",
            "Runtime for MOT16-11: 7.6 s.\n",
            "Runtime for all sequences: 16.6 s.\n",
            "          IDF1   IDP   IDR  Rcll  Prcn  GT MT PT ML  FP    FN IDs   FM  MOTA  MOTP\n",
            "MOT16-02 47.3% 67.3% 36.5% 52.2% 96.2%  62 11 38 13 383  8875 102  217 49.6% 0.095\n",
            "MOT16-11 69.9% 77.1% 64.0% 80.2% 96.6%  75 43 25  7 266  1869  34   88 77.0% 0.083\n",
            "OVERALL  55.8% 71.6% 45.8% 61.7% 96.4% 137 54 63 20 649 10744 136  305 58.8% 0.090\n",
            "-------- EPOCH 16 --------\n"
          ]
        },
        {
          "output_type": "stream",
          "name": "stderr",
          "text": [
            "100it [00:27,  3.95it/s]"
          ]
        },
        {
          "output_type": "stream",
          "name": "stdout",
          "text": [
            "Iter 100. Loss: 0.011. Accuracy: 0.999. Recall: 0.999. Precision: 0.989\n"
          ]
        },
        {
          "output_type": "stream",
          "name": "stderr",
          "text": [
            "200it [00:52,  3.98it/s]"
          ]
        },
        {
          "output_type": "stream",
          "name": "stdout",
          "text": [
            "Iter 200. Loss: 0.012. Accuracy: 0.999. Recall: 0.999. Precision: 0.986\n"
          ]
        },
        {
          "output_type": "stream",
          "name": "stderr",
          "text": [
            "300it [01:17,  3.85it/s]"
          ]
        },
        {
          "output_type": "stream",
          "name": "stdout",
          "text": [
            "Iter 300. Loss: 0.009. Accuracy: 0.999. Recall: 0.999. Precision: 0.991\n"
          ]
        },
        {
          "output_type": "stream",
          "name": "stderr",
          "text": [
            "400it [01:43,  3.99it/s]"
          ]
        },
        {
          "output_type": "stream",
          "name": "stdout",
          "text": [
            "Iter 400. Loss: 0.010. Accuracy: 0.999. Recall: 0.999. Precision: 0.990\n"
          ]
        },
        {
          "output_type": "stream",
          "name": "stderr",
          "text": [
            "476it [02:03,  3.86it/s]\n"
          ]
        },
        {
          "output_type": "stream",
          "name": "stdout",
          "text": [
            "Tracking: MOT16-02\n",
            "Tracks found: 108\n",
            "Runtime for MOT16-02: 9.0 s.\n",
            "Tracking: MOT16-11\n",
            "Tracks found: 81\n",
            "Runtime for MOT16-11: 7.9 s.\n",
            "Runtime for all sequences: 16.9 s.\n",
            "          IDF1   IDP   IDR  Rcll  Prcn  GT MT PT ML  FP    FN IDs   FM  MOTA  MOTP\n",
            "MOT16-02 47.3% 67.3% 36.5% 52.2% 96.2%  62 11 38 13 383  8875 102  217 49.6% 0.095\n",
            "MOT16-11 69.9% 77.1% 64.0% 80.2% 96.6%  75 43 25  7 266  1869  34   88 77.0% 0.083\n",
            "OVERALL  55.8% 71.6% 45.8% 61.7% 96.4% 137 54 63 20 649 10744 136  305 58.8% 0.090\n",
            "-------- EPOCH 17 --------\n"
          ]
        },
        {
          "output_type": "stream",
          "name": "stderr",
          "text": [
            "100it [00:25,  3.96it/s]"
          ]
        },
        {
          "output_type": "stream",
          "name": "stdout",
          "text": [
            "Iter 100. Loss: 0.009. Accuracy: 0.999. Recall: 0.999. Precision: 0.989\n"
          ]
        },
        {
          "output_type": "stream",
          "name": "stderr",
          "text": [
            "200it [00:50,  4.00it/s]"
          ]
        },
        {
          "output_type": "stream",
          "name": "stdout",
          "text": [
            "Iter 200. Loss: 0.011. Accuracy: 0.999. Recall: 0.999. Precision: 0.988\n"
          ]
        },
        {
          "output_type": "stream",
          "name": "stderr",
          "text": [
            "300it [01:17,  3.98it/s]"
          ]
        },
        {
          "output_type": "stream",
          "name": "stdout",
          "text": [
            "Iter 300. Loss: 0.012. Accuracy: 0.999. Recall: 0.999. Precision: 0.987\n"
          ]
        },
        {
          "output_type": "stream",
          "name": "stderr",
          "text": [
            "400it [01:42,  4.03it/s]"
          ]
        },
        {
          "output_type": "stream",
          "name": "stdout",
          "text": [
            "Iter 400. Loss: 0.009. Accuracy: 0.999. Recall: 0.999. Precision: 0.993\n"
          ]
        },
        {
          "output_type": "stream",
          "name": "stderr",
          "text": [
            "476it [02:01,  3.92it/s]\n"
          ]
        },
        {
          "output_type": "stream",
          "name": "stdout",
          "text": [
            "Tracking: MOT16-02\n",
            "Tracks found: 108\n",
            "Runtime for MOT16-02: 9.1 s.\n",
            "Tracking: MOT16-11\n",
            "Tracks found: 81\n",
            "Runtime for MOT16-11: 7.5 s.\n",
            "Runtime for all sequences: 16.5 s.\n",
            "          IDF1   IDP   IDR  Rcll  Prcn  GT MT PT ML  FP    FN IDs   FM  MOTA  MOTP\n",
            "MOT16-02 47.3% 67.3% 36.5% 52.2% 96.2%  62 11 38 13 383  8875 102  217 49.6% 0.095\n",
            "MOT16-11 69.9% 77.1% 64.0% 80.2% 96.6%  75 43 25  7 266  1869  34   88 77.0% 0.083\n",
            "OVERALL  55.8% 71.6% 45.8% 61.7% 96.4% 137 54 63 20 649 10744 136  305 58.8% 0.090\n",
            "-------- EPOCH 18 --------\n"
          ]
        },
        {
          "output_type": "stream",
          "name": "stderr",
          "text": [
            "100it [00:26,  3.89it/s]"
          ]
        },
        {
          "output_type": "stream",
          "name": "stdout",
          "text": [
            "Iter 100. Loss: 0.013. Accuracy: 0.999. Recall: 0.999. Precision: 0.989\n"
          ]
        },
        {
          "output_type": "stream",
          "name": "stderr",
          "text": [
            "200it [00:51,  4.07it/s]"
          ]
        },
        {
          "output_type": "stream",
          "name": "stdout",
          "text": [
            "Iter 200. Loss: 0.010. Accuracy: 0.999. Recall: 0.999. Precision: 0.988\n"
          ]
        },
        {
          "output_type": "stream",
          "name": "stderr",
          "text": [
            "300it [01:16,  4.10it/s]"
          ]
        },
        {
          "output_type": "stream",
          "name": "stdout",
          "text": [
            "Iter 300. Loss: 0.012. Accuracy: 0.999. Recall: 0.999. Precision: 0.988\n"
          ]
        },
        {
          "output_type": "stream",
          "name": "stderr",
          "text": [
            "400it [01:41,  3.84it/s]"
          ]
        },
        {
          "output_type": "stream",
          "name": "stdout",
          "text": [
            "Iter 400. Loss: 0.009. Accuracy: 0.999. Recall: 0.999. Precision: 0.989\n"
          ]
        },
        {
          "output_type": "stream",
          "name": "stderr",
          "text": [
            "476it [02:00,  3.95it/s]\n"
          ]
        },
        {
          "output_type": "stream",
          "name": "stdout",
          "text": [
            "Tracking: MOT16-02\n",
            "Tracks found: 108\n",
            "Runtime for MOT16-02: 10.5 s.\n",
            "Tracking: MOT16-11\n",
            "Tracks found: 81\n",
            "Runtime for MOT16-11: 7.8 s.\n",
            "Runtime for all sequences: 18.3 s.\n",
            "          IDF1   IDP   IDR  Rcll  Prcn  GT MT PT ML  FP    FN IDs   FM  MOTA  MOTP\n",
            "MOT16-02 47.3% 67.3% 36.5% 52.2% 96.2%  62 11 38 13 383  8875 102  217 49.6% 0.095\n",
            "MOT16-11 69.9% 77.1% 64.0% 80.2% 96.6%  75 43 25  7 266  1869  34   88 77.0% 0.083\n",
            "OVERALL  55.8% 71.6% 45.8% 61.7% 96.4% 137 54 63 20 649 10744 136  305 58.8% 0.090\n",
            "-------- EPOCH 19 --------\n"
          ]
        },
        {
          "output_type": "stream",
          "name": "stderr",
          "text": [
            "100it [00:25,  3.98it/s]"
          ]
        },
        {
          "output_type": "stream",
          "name": "stdout",
          "text": [
            "Iter 100. Loss: 0.012. Accuracy: 0.999. Recall: 0.999. Precision: 0.990\n"
          ]
        },
        {
          "output_type": "stream",
          "name": "stderr",
          "text": [
            "200it [00:50,  4.00it/s]"
          ]
        },
        {
          "output_type": "stream",
          "name": "stdout",
          "text": [
            "Iter 200. Loss: 0.010. Accuracy: 0.999. Recall: 0.999. Precision: 0.990\n"
          ]
        },
        {
          "output_type": "stream",
          "name": "stderr",
          "text": [
            "300it [01:15,  3.96it/s]"
          ]
        },
        {
          "output_type": "stream",
          "name": "stdout",
          "text": [
            "Iter 300. Loss: 0.010. Accuracy: 0.999. Recall: 0.998. Precision: 0.991\n"
          ]
        },
        {
          "output_type": "stream",
          "name": "stderr",
          "text": [
            "400it [01:41,  4.16it/s]"
          ]
        },
        {
          "output_type": "stream",
          "name": "stdout",
          "text": [
            "Iter 400. Loss: 0.008. Accuracy: 0.999. Recall: 1.000. Precision: 0.989\n"
          ]
        },
        {
          "output_type": "stream",
          "name": "stderr",
          "text": [
            "476it [02:00,  3.96it/s]\n"
          ]
        },
        {
          "output_type": "stream",
          "name": "stdout",
          "text": [
            "Tracking: MOT16-02\n",
            "Tracks found: 109\n",
            "Runtime for MOT16-02: 8.9 s.\n",
            "Tracking: MOT16-11\n",
            "Tracks found: 81\n",
            "Runtime for MOT16-11: 7.7 s.\n",
            "Runtime for all sequences: 16.6 s.\n",
            "          IDF1   IDP   IDR  Rcll  Prcn  GT MT PT ML  FP    FN IDs   FM  MOTA  MOTP\n",
            "MOT16-02 47.3% 67.3% 36.5% 52.2% 96.2%  62 11 38 13 383  8875 102  217 49.6% 0.095\n",
            "MOT16-11 69.9% 77.1% 64.0% 80.2% 96.6%  75 43 25  7 266  1869  34   88 77.0% 0.083\n",
            "OVERALL  55.8% 71.6% 45.8% 61.7% 96.4% 137 54 63 20 649 10744 136  305 58.8% 0.090\n",
            "-------- EPOCH 20 --------\n"
          ]
        },
        {
          "output_type": "stream",
          "name": "stderr",
          "text": [
            "100it [00:25,  4.01it/s]"
          ]
        },
        {
          "output_type": "stream",
          "name": "stdout",
          "text": [
            "Iter 100. Loss: 0.012. Accuracy: 0.999. Recall: 0.998. Precision: 0.989\n"
          ]
        },
        {
          "output_type": "stream",
          "name": "stderr",
          "text": [
            "200it [00:51,  3.90it/s]"
          ]
        },
        {
          "output_type": "stream",
          "name": "stdout",
          "text": [
            "Iter 200. Loss: 0.010. Accuracy: 0.999. Recall: 0.999. Precision: 0.988\n"
          ]
        },
        {
          "output_type": "stream",
          "name": "stderr",
          "text": [
            "300it [01:16,  4.01it/s]"
          ]
        },
        {
          "output_type": "stream",
          "name": "stdout",
          "text": [
            "Iter 300. Loss: 0.011. Accuracy: 0.999. Recall: 0.998. Precision: 0.988\n"
          ]
        },
        {
          "output_type": "stream",
          "name": "stderr",
          "text": [
            "400it [01:41,  3.96it/s]"
          ]
        },
        {
          "output_type": "stream",
          "name": "stdout",
          "text": [
            "Iter 400. Loss: 0.010. Accuracy: 0.999. Recall: 0.999. Precision: 0.991\n"
          ]
        },
        {
          "output_type": "stream",
          "name": "stderr",
          "text": [
            "476it [02:00,  3.96it/s]\n"
          ]
        },
        {
          "output_type": "stream",
          "name": "stdout",
          "text": [
            "Tracking: MOT16-02\n",
            "Tracks found: 108\n",
            "Runtime for MOT16-02: 8.9 s.\n",
            "Tracking: MOT16-11\n",
            "Tracks found: 81\n",
            "Runtime for MOT16-11: 8.8 s.\n",
            "Runtime for all sequences: 17.6 s.\n",
            "          IDF1   IDP   IDR  Rcll  Prcn  GT MT PT ML  FP    FN IDs   FM  MOTA  MOTP\n",
            "MOT16-02 47.3% 67.3% 36.5% 52.2% 96.2%  62 11 38 13 383  8875 102  217 49.6% 0.095\n",
            "MOT16-11 69.9% 77.1% 64.0% 80.2% 96.6%  75 43 25  7 266  1869  34   88 77.0% 0.083\n",
            "OVERALL  55.8% 71.6% 45.8% 61.7% 96.4% 137 54 63 20 649 10744 136  305 58.8% 0.090\n"
          ]
        }
      ],
      "source": [
        "best_idf1 = 0.\n",
        "for epoch in range(1, MAX_EPOCHS + 1):\n",
        "    print(f\"-------- EPOCH {epoch:2d} --------\")\n",
        "    train_one_epoch(model = assign_net, data_loader=data_loader, optimizer=optimizer, print_freq=100)\n",
        "    scheduler.step()\n",
        "\n",
        "    if epoch % EVAL_FREQ == 0:\n",
        "        tracker =  MPNTracker(assign_net=assign_net.eval(), obj_detect=None, patience=MAX_PATIENCE)\n",
        "        val_sequences = MOT16Sequences('MOT16-val2', osp.join(root_dir, 'data/MOT16'), vis_threshold=0.)\n",
        "        res = run_tracker(val_sequences, db=train_db, tracker=tracker, output_dir=None)\n",
        "        idf1 = res.loc['OVERALL']['idf1']\n",
        "        if idf1 > best_idf1:\n",
        "            best_idf1 = idf1\n",
        "            torch.save(assign_net.state_dict(), osp.join(root_dir, 'output', 'best_ckpt.pth'))\n",
        ""
      ]
    },
    {
      "cell_type": "markdown",
      "metadata": {
        "id": "I5Vbe4g27ot-"
      },
      "source": [
        "# Exercise submission\n",
        "\n",
        "After executing the followinc cell the `Colab Notebooks/cv3dst_exercise/output` directory in your Google Drive should contain multiple `MOT16-XY.txt` files.\n",
        "\n",
        "For the final submission you have to process the test sequences and upload the zipped prediction files to our server. See moodle for a guide how to upload the results.\n",
        "\n",
        "Note that this time, you only have to evaluate three sequences!"
      ]
    },
    {
      "cell_type": "code",
      "execution_count": null,
      "metadata": {
        "id": "8kJsbbMM7ot_",
        "colab": {
          "base_uri": "https://localhost:8080/"
        },
        "outputId": "6d13a079-262a-4bd4-922d-8a6b2fd21028"
      },
      "outputs": [
        {
          "output_type": "stream",
          "name": "stdout",
          "text": [
            "Tracking: MOT16-01\n",
            "No GT evaluation data available.\n",
            "Tracks found: 94\n",
            "Runtime for MOT16-01: 3.8 s.\n",
            "Writing predictions to: gdrive/My Drive/Colab Notebooks/cv3dst_exercise/output/MOT16-01.txt\n",
            "Tracking: MOT16-08\n",
            "No GT evaluation data available.\n",
            "Tracks found: 161\n",
            "Runtime for MOT16-08: 5.0 s.\n",
            "Writing predictions to: gdrive/My Drive/Colab Notebooks/cv3dst_exercise/output/MOT16-08.txt\n",
            "Tracking: MOT16-12\n",
            "No GT evaluation data available.\n",
            "Tracks found: 159\n",
            "Runtime for MOT16-12: 5.9 s.\n",
            "Writing predictions to: gdrive/My Drive/Colab Notebooks/cv3dst_exercise/output/MOT16-12.txt\n",
            "Runtime for all sequences: 14.7 s.\n"
          ]
        }
      ],
      "source": [
        "best_ckpt = torch.load(osp.join(root_dir, 'output', 'best_ckpt.pth'))\n",
        "assign_net.load_state_dict(best_ckpt)\n",
        "\n",
        "tracker =  MPNTracker(assign_net=assign_net.eval(), obj_detect=None, patience=MAX_PATIENCE)\n",
        "test_db = torch.load(osp.join(gnn_root_dir, 'data/preprocessed_data_test_2.pth'))\n",
        "val_sequences = MOT16Sequences('MOT16-test', osp.join(root_dir, 'data/MOT16'), vis_threshold=0.)\n",
        "run_tracker(val_sequences, db=test_db, tracker=tracker, output_dir=osp.join(root_dir, 'output'))"
      ]
    }
  ],
  "metadata": {
    "accelerator": "GPU",
    "colab": {
      "machine_shape": "hm",
      "provenance": []
    },
    "kernelspec": {
      "display_name": "Python 3",
      "language": "python",
      "name": "python3"
    },
    "language_info": {
      "codemirror_mode": {
        "name": "ipython",
        "version": 3
      },
      "file_extension": ".py",
      "mimetype": "text/x-python",
      "name": "python",
      "nbconvert_exporter": "python",
      "pygments_lexer": "ipython3",
      "version": "3.6.10"
    },
    "widgets": {
      "application/vnd.jupyter.widget-state+json": {
        "451a3d4355ad4e86880b4bd870259b88": {
          "model_module": "@jupyter-widgets/controls",
          "model_name": "HBoxModel",
          "model_module_version": "1.5.0",
          "state": {
            "_dom_classes": [],
            "_model_module": "@jupyter-widgets/controls",
            "_model_module_version": "1.5.0",
            "_model_name": "HBoxModel",
            "_view_count": null,
            "_view_module": "@jupyter-widgets/controls",
            "_view_module_version": "1.5.0",
            "_view_name": "HBoxView",
            "box_style": "",
            "children": [
              "IPY_MODEL_47476337c5aa4cb0aa1602ed30d5dcc2",
              "IPY_MODEL_cdbe4e88240a4d90b3ecb8e6e3648f28",
              "IPY_MODEL_8d140f0ee5d342a99fdd28a4e119bb32"
            ],
            "layout": "IPY_MODEL_ce179d9903f94cf8800e24a181f55494"
          }
        },
        "47476337c5aa4cb0aa1602ed30d5dcc2": {
          "model_module": "@jupyter-widgets/controls",
          "model_name": "HTMLModel",
          "model_module_version": "1.5.0",
          "state": {
            "_dom_classes": [],
            "_model_module": "@jupyter-widgets/controls",
            "_model_module_version": "1.5.0",
            "_model_name": "HTMLModel",
            "_view_count": null,
            "_view_module": "@jupyter-widgets/controls",
            "_view_module_version": "1.5.0",
            "_view_name": "HTMLView",
            "description": "",
            "description_tooltip": null,
            "layout": "IPY_MODEL_57139e9580bf406c98a0e7bf0bb7f2d9",
            "placeholder": "​",
            "style": "IPY_MODEL_8b77bc4b5339430f99b6a6d75aeaf749",
            "value": "100%"
          }
        },
        "cdbe4e88240a4d90b3ecb8e6e3648f28": {
          "model_module": "@jupyter-widgets/controls",
          "model_name": "FloatProgressModel",
          "model_module_version": "1.5.0",
          "state": {
            "_dom_classes": [],
            "_model_module": "@jupyter-widgets/controls",
            "_model_module_version": "1.5.0",
            "_model_name": "FloatProgressModel",
            "_view_count": null,
            "_view_module": "@jupyter-widgets/controls",
            "_view_module_version": "1.5.0",
            "_view_name": "ProgressView",
            "bar_style": "success",
            "description": "",
            "description_tooltip": null,
            "layout": "IPY_MODEL_b06def36cee8498b894dfa04fa23f503",
            "max": 87306240,
            "min": 0,
            "orientation": "horizontal",
            "style": "IPY_MODEL_a33b51147b6144a09a4eaa4234fa65b9",
            "value": 87306240
          }
        },
        "8d140f0ee5d342a99fdd28a4e119bb32": {
          "model_module": "@jupyter-widgets/controls",
          "model_name": "HTMLModel",
          "model_module_version": "1.5.0",
          "state": {
            "_dom_classes": [],
            "_model_module": "@jupyter-widgets/controls",
            "_model_module_version": "1.5.0",
            "_model_name": "HTMLModel",
            "_view_count": null,
            "_view_module": "@jupyter-widgets/controls",
            "_view_module_version": "1.5.0",
            "_view_name": "HTMLView",
            "description": "",
            "description_tooltip": null,
            "layout": "IPY_MODEL_840141de878a410c99b275859b9cbea5",
            "placeholder": "​",
            "style": "IPY_MODEL_97836a13babe47d2b94556ec875576d8",
            "value": " 83.3M/83.3M [00:02&lt;00:00, 35.4MB/s]"
          }
        },
        "ce179d9903f94cf8800e24a181f55494": {
          "model_module": "@jupyter-widgets/base",
          "model_name": "LayoutModel",
          "model_module_version": "1.2.0",
          "state": {
            "_model_module": "@jupyter-widgets/base",
            "_model_module_version": "1.2.0",
            "_model_name": "LayoutModel",
            "_view_count": null,
            "_view_module": "@jupyter-widgets/base",
            "_view_module_version": "1.2.0",
            "_view_name": "LayoutView",
            "align_content": null,
            "align_items": null,
            "align_self": null,
            "border": null,
            "bottom": null,
            "display": null,
            "flex": null,
            "flex_flow": null,
            "grid_area": null,
            "grid_auto_columns": null,
            "grid_auto_flow": null,
            "grid_auto_rows": null,
            "grid_column": null,
            "grid_gap": null,
            "grid_row": null,
            "grid_template_areas": null,
            "grid_template_columns": null,
            "grid_template_rows": null,
            "height": null,
            "justify_content": null,
            "justify_items": null,
            "left": null,
            "margin": null,
            "max_height": null,
            "max_width": null,
            "min_height": null,
            "min_width": null,
            "object_fit": null,
            "object_position": null,
            "order": null,
            "overflow": null,
            "overflow_x": null,
            "overflow_y": null,
            "padding": null,
            "right": null,
            "top": null,
            "visibility": null,
            "width": null
          }
        },
        "57139e9580bf406c98a0e7bf0bb7f2d9": {
          "model_module": "@jupyter-widgets/base",
          "model_name": "LayoutModel",
          "model_module_version": "1.2.0",
          "state": {
            "_model_module": "@jupyter-widgets/base",
            "_model_module_version": "1.2.0",
            "_model_name": "LayoutModel",
            "_view_count": null,
            "_view_module": "@jupyter-widgets/base",
            "_view_module_version": "1.2.0",
            "_view_name": "LayoutView",
            "align_content": null,
            "align_items": null,
            "align_self": null,
            "border": null,
            "bottom": null,
            "display": null,
            "flex": null,
            "flex_flow": null,
            "grid_area": null,
            "grid_auto_columns": null,
            "grid_auto_flow": null,
            "grid_auto_rows": null,
            "grid_column": null,
            "grid_gap": null,
            "grid_row": null,
            "grid_template_areas": null,
            "grid_template_columns": null,
            "grid_template_rows": null,
            "height": null,
            "justify_content": null,
            "justify_items": null,
            "left": null,
            "margin": null,
            "max_height": null,
            "max_width": null,
            "min_height": null,
            "min_width": null,
            "object_fit": null,
            "object_position": null,
            "order": null,
            "overflow": null,
            "overflow_x": null,
            "overflow_y": null,
            "padding": null,
            "right": null,
            "top": null,
            "visibility": null,
            "width": null
          }
        },
        "8b77bc4b5339430f99b6a6d75aeaf749": {
          "model_module": "@jupyter-widgets/controls",
          "model_name": "DescriptionStyleModel",
          "model_module_version": "1.5.0",
          "state": {
            "_model_module": "@jupyter-widgets/controls",
            "_model_module_version": "1.5.0",
            "_model_name": "DescriptionStyleModel",
            "_view_count": null,
            "_view_module": "@jupyter-widgets/base",
            "_view_module_version": "1.2.0",
            "_view_name": "StyleView",
            "description_width": ""
          }
        },
        "b06def36cee8498b894dfa04fa23f503": {
          "model_module": "@jupyter-widgets/base",
          "model_name": "LayoutModel",
          "model_module_version": "1.2.0",
          "state": {
            "_model_module": "@jupyter-widgets/base",
            "_model_module_version": "1.2.0",
            "_model_name": "LayoutModel",
            "_view_count": null,
            "_view_module": "@jupyter-widgets/base",
            "_view_module_version": "1.2.0",
            "_view_name": "LayoutView",
            "align_content": null,
            "align_items": null,
            "align_self": null,
            "border": null,
            "bottom": null,
            "display": null,
            "flex": null,
            "flex_flow": null,
            "grid_area": null,
            "grid_auto_columns": null,
            "grid_auto_flow": null,
            "grid_auto_rows": null,
            "grid_column": null,
            "grid_gap": null,
            "grid_row": null,
            "grid_template_areas": null,
            "grid_template_columns": null,
            "grid_template_rows": null,
            "height": null,
            "justify_content": null,
            "justify_items": null,
            "left": null,
            "margin": null,
            "max_height": null,
            "max_width": null,
            "min_height": null,
            "min_width": null,
            "object_fit": null,
            "object_position": null,
            "order": null,
            "overflow": null,
            "overflow_x": null,
            "overflow_y": null,
            "padding": null,
            "right": null,
            "top": null,
            "visibility": null,
            "width": null
          }
        },
        "a33b51147b6144a09a4eaa4234fa65b9": {
          "model_module": "@jupyter-widgets/controls",
          "model_name": "ProgressStyleModel",
          "model_module_version": "1.5.0",
          "state": {
            "_model_module": "@jupyter-widgets/controls",
            "_model_module_version": "1.5.0",
            "_model_name": "ProgressStyleModel",
            "_view_count": null,
            "_view_module": "@jupyter-widgets/base",
            "_view_module_version": "1.2.0",
            "_view_name": "StyleView",
            "bar_color": null,
            "description_width": ""
          }
        },
        "840141de878a410c99b275859b9cbea5": {
          "model_module": "@jupyter-widgets/base",
          "model_name": "LayoutModel",
          "model_module_version": "1.2.0",
          "state": {
            "_model_module": "@jupyter-widgets/base",
            "_model_module_version": "1.2.0",
            "_model_name": "LayoutModel",
            "_view_count": null,
            "_view_module": "@jupyter-widgets/base",
            "_view_module_version": "1.2.0",
            "_view_name": "LayoutView",
            "align_content": null,
            "align_items": null,
            "align_self": null,
            "border": null,
            "bottom": null,
            "display": null,
            "flex": null,
            "flex_flow": null,
            "grid_area": null,
            "grid_auto_columns": null,
            "grid_auto_flow": null,
            "grid_auto_rows": null,
            "grid_column": null,
            "grid_gap": null,
            "grid_row": null,
            "grid_template_areas": null,
            "grid_template_columns": null,
            "grid_template_rows": null,
            "height": null,
            "justify_content": null,
            "justify_items": null,
            "left": null,
            "margin": null,
            "max_height": null,
            "max_width": null,
            "min_height": null,
            "min_width": null,
            "object_fit": null,
            "object_position": null,
            "order": null,
            "overflow": null,
            "overflow_x": null,
            "overflow_y": null,
            "padding": null,
            "right": null,
            "top": null,
            "visibility": null,
            "width": null
          }
        },
        "97836a13babe47d2b94556ec875576d8": {
          "model_module": "@jupyter-widgets/controls",
          "model_name": "DescriptionStyleModel",
          "model_module_version": "1.5.0",
          "state": {
            "_model_module": "@jupyter-widgets/controls",
            "_model_module_version": "1.5.0",
            "_model_name": "DescriptionStyleModel",
            "_view_count": null,
            "_view_module": "@jupyter-widgets/base",
            "_view_module_version": "1.2.0",
            "_view_name": "StyleView",
            "description_width": ""
          }
        },
        "0e9f18020a224ca4b4c542a337d47671": {
          "model_module": "@jupyter-widgets/controls",
          "model_name": "HBoxModel",
          "model_module_version": "1.5.0",
          "state": {
            "_dom_classes": [],
            "_model_module": "@jupyter-widgets/controls",
            "_model_module_version": "1.5.0",
            "_model_name": "HBoxModel",
            "_view_count": null,
            "_view_module": "@jupyter-widgets/controls",
            "_view_module_version": "1.5.0",
            "_view_name": "HBoxView",
            "box_style": "",
            "children": [
              "IPY_MODEL_9e3a2ec149e74514b1035abb21dbeb18",
              "IPY_MODEL_6577109378a94909ae1be371886c2776",
              "IPY_MODEL_a7a4a767493e4baaae0206bb4fd2aed2"
            ],
            "layout": "IPY_MODEL_bda1fa4096d84209a5e653e2894ba3e0"
          }
        },
        "9e3a2ec149e74514b1035abb21dbeb18": {
          "model_module": "@jupyter-widgets/controls",
          "model_name": "HTMLModel",
          "model_module_version": "1.5.0",
          "state": {
            "_dom_classes": [],
            "_model_module": "@jupyter-widgets/controls",
            "_model_module_version": "1.5.0",
            "_model_name": "HTMLModel",
            "_view_count": null,
            "_view_module": "@jupyter-widgets/controls",
            "_view_module_version": "1.5.0",
            "_view_name": "HTMLView",
            "description": "",
            "description_tooltip": null,
            "layout": "IPY_MODEL_1b63ec01b489486086bc8ad4c67ac399",
            "placeholder": "​",
            "style": "IPY_MODEL_3cfe98630248406aae0ed569f1aebc81",
            "value": ""
          }
        },
        "6577109378a94909ae1be371886c2776": {
          "model_module": "@jupyter-widgets/controls",
          "model_name": "FloatProgressModel",
          "model_module_version": "1.5.0",
          "state": {
            "_dom_classes": [],
            "_model_module": "@jupyter-widgets/controls",
            "_model_module_version": "1.5.0",
            "_model_name": "FloatProgressModel",
            "_view_count": null,
            "_view_module": "@jupyter-widgets/controls",
            "_view_module_version": "1.5.0",
            "_view_name": "ProgressView",
            "bar_style": "success",
            "description": "",
            "description_tooltip": null,
            "layout": "IPY_MODEL_d98a497ab9e04625a9cd993945b574ec",
            "max": 1,
            "min": 0,
            "orientation": "horizontal",
            "style": "IPY_MODEL_3e49b36bae9945c389294f58806c9148",
            "value": 1
          }
        },
        "a7a4a767493e4baaae0206bb4fd2aed2": {
          "model_module": "@jupyter-widgets/controls",
          "model_name": "HTMLModel",
          "model_module_version": "1.5.0",
          "state": {
            "_dom_classes": [],
            "_model_module": "@jupyter-widgets/controls",
            "_model_module_version": "1.5.0",
            "_model_name": "HTMLModel",
            "_view_count": null,
            "_view_module": "@jupyter-widgets/controls",
            "_view_module_version": "1.5.0",
            "_view_name": "HTMLView",
            "description": "",
            "description_tooltip": null,
            "layout": "IPY_MODEL_f4a54030bfaf45ccbbbc57be4b801f9b",
            "placeholder": "​",
            "style": "IPY_MODEL_1a3254853a49475c94720e19a27b791d",
            "value": " 1050/? [13:30&lt;00:00,  1.15it/s]"
          }
        },
        "bda1fa4096d84209a5e653e2894ba3e0": {
          "model_module": "@jupyter-widgets/base",
          "model_name": "LayoutModel",
          "model_module_version": "1.2.0",
          "state": {
            "_model_module": "@jupyter-widgets/base",
            "_model_module_version": "1.2.0",
            "_model_name": "LayoutModel",
            "_view_count": null,
            "_view_module": "@jupyter-widgets/base",
            "_view_module_version": "1.2.0",
            "_view_name": "LayoutView",
            "align_content": null,
            "align_items": null,
            "align_self": null,
            "border": null,
            "bottom": null,
            "display": null,
            "flex": null,
            "flex_flow": null,
            "grid_area": null,
            "grid_auto_columns": null,
            "grid_auto_flow": null,
            "grid_auto_rows": null,
            "grid_column": null,
            "grid_gap": null,
            "grid_row": null,
            "grid_template_areas": null,
            "grid_template_columns": null,
            "grid_template_rows": null,
            "height": null,
            "justify_content": null,
            "justify_items": null,
            "left": null,
            "margin": null,
            "max_height": null,
            "max_width": null,
            "min_height": null,
            "min_width": null,
            "object_fit": null,
            "object_position": null,
            "order": null,
            "overflow": null,
            "overflow_x": null,
            "overflow_y": null,
            "padding": null,
            "right": null,
            "top": null,
            "visibility": null,
            "width": null
          }
        },
        "1b63ec01b489486086bc8ad4c67ac399": {
          "model_module": "@jupyter-widgets/base",
          "model_name": "LayoutModel",
          "model_module_version": "1.2.0",
          "state": {
            "_model_module": "@jupyter-widgets/base",
            "_model_module_version": "1.2.0",
            "_model_name": "LayoutModel",
            "_view_count": null,
            "_view_module": "@jupyter-widgets/base",
            "_view_module_version": "1.2.0",
            "_view_name": "LayoutView",
            "align_content": null,
            "align_items": null,
            "align_self": null,
            "border": null,
            "bottom": null,
            "display": null,
            "flex": null,
            "flex_flow": null,
            "grid_area": null,
            "grid_auto_columns": null,
            "grid_auto_flow": null,
            "grid_auto_rows": null,
            "grid_column": null,
            "grid_gap": null,
            "grid_row": null,
            "grid_template_areas": null,
            "grid_template_columns": null,
            "grid_template_rows": null,
            "height": null,
            "justify_content": null,
            "justify_items": null,
            "left": null,
            "margin": null,
            "max_height": null,
            "max_width": null,
            "min_height": null,
            "min_width": null,
            "object_fit": null,
            "object_position": null,
            "order": null,
            "overflow": null,
            "overflow_x": null,
            "overflow_y": null,
            "padding": null,
            "right": null,
            "top": null,
            "visibility": null,
            "width": null
          }
        },
        "3cfe98630248406aae0ed569f1aebc81": {
          "model_module": "@jupyter-widgets/controls",
          "model_name": "DescriptionStyleModel",
          "model_module_version": "1.5.0",
          "state": {
            "_model_module": "@jupyter-widgets/controls",
            "_model_module_version": "1.5.0",
            "_model_name": "DescriptionStyleModel",
            "_view_count": null,
            "_view_module": "@jupyter-widgets/base",
            "_view_module_version": "1.2.0",
            "_view_name": "StyleView",
            "description_width": ""
          }
        },
        "d98a497ab9e04625a9cd993945b574ec": {
          "model_module": "@jupyter-widgets/base",
          "model_name": "LayoutModel",
          "model_module_version": "1.2.0",
          "state": {
            "_model_module": "@jupyter-widgets/base",
            "_model_module_version": "1.2.0",
            "_model_name": "LayoutModel",
            "_view_count": null,
            "_view_module": "@jupyter-widgets/base",
            "_view_module_version": "1.2.0",
            "_view_name": "LayoutView",
            "align_content": null,
            "align_items": null,
            "align_self": null,
            "border": null,
            "bottom": null,
            "display": null,
            "flex": null,
            "flex_flow": null,
            "grid_area": null,
            "grid_auto_columns": null,
            "grid_auto_flow": null,
            "grid_auto_rows": null,
            "grid_column": null,
            "grid_gap": null,
            "grid_row": null,
            "grid_template_areas": null,
            "grid_template_columns": null,
            "grid_template_rows": null,
            "height": null,
            "justify_content": null,
            "justify_items": null,
            "left": null,
            "margin": null,
            "max_height": null,
            "max_width": null,
            "min_height": null,
            "min_width": null,
            "object_fit": null,
            "object_position": null,
            "order": null,
            "overflow": null,
            "overflow_x": null,
            "overflow_y": null,
            "padding": null,
            "right": null,
            "top": null,
            "visibility": null,
            "width": "20px"
          }
        },
        "3e49b36bae9945c389294f58806c9148": {
          "model_module": "@jupyter-widgets/controls",
          "model_name": "ProgressStyleModel",
          "model_module_version": "1.5.0",
          "state": {
            "_model_module": "@jupyter-widgets/controls",
            "_model_module_version": "1.5.0",
            "_model_name": "ProgressStyleModel",
            "_view_count": null,
            "_view_module": "@jupyter-widgets/base",
            "_view_module_version": "1.2.0",
            "_view_name": "StyleView",
            "bar_color": null,
            "description_width": ""
          }
        },
        "f4a54030bfaf45ccbbbc57be4b801f9b": {
          "model_module": "@jupyter-widgets/base",
          "model_name": "LayoutModel",
          "model_module_version": "1.2.0",
          "state": {
            "_model_module": "@jupyter-widgets/base",
            "_model_module_version": "1.2.0",
            "_model_name": "LayoutModel",
            "_view_count": null,
            "_view_module": "@jupyter-widgets/base",
            "_view_module_version": "1.2.0",
            "_view_name": "LayoutView",
            "align_content": null,
            "align_items": null,
            "align_self": null,
            "border": null,
            "bottom": null,
            "display": null,
            "flex": null,
            "flex_flow": null,
            "grid_area": null,
            "grid_auto_columns": null,
            "grid_auto_flow": null,
            "grid_auto_rows": null,
            "grid_column": null,
            "grid_gap": null,
            "grid_row": null,
            "grid_template_areas": null,
            "grid_template_columns": null,
            "grid_template_rows": null,
            "height": null,
            "justify_content": null,
            "justify_items": null,
            "left": null,
            "margin": null,
            "max_height": null,
            "max_width": null,
            "min_height": null,
            "min_width": null,
            "object_fit": null,
            "object_position": null,
            "order": null,
            "overflow": null,
            "overflow_x": null,
            "overflow_y": null,
            "padding": null,
            "right": null,
            "top": null,
            "visibility": null,
            "width": null
          }
        },
        "1a3254853a49475c94720e19a27b791d": {
          "model_module": "@jupyter-widgets/controls",
          "model_name": "DescriptionStyleModel",
          "model_module_version": "1.5.0",
          "state": {
            "_model_module": "@jupyter-widgets/controls",
            "_model_module_version": "1.5.0",
            "_model_name": "DescriptionStyleModel",
            "_view_count": null,
            "_view_module": "@jupyter-widgets/base",
            "_view_module_version": "1.2.0",
            "_view_name": "StyleView",
            "description_width": ""
          }
        },
        "d8c216e7d9814d07965a41102cbccb07": {
          "model_module": "@jupyter-widgets/controls",
          "model_name": "HBoxModel",
          "model_module_version": "1.5.0",
          "state": {
            "_dom_classes": [],
            "_model_module": "@jupyter-widgets/controls",
            "_model_module_version": "1.5.0",
            "_model_name": "HBoxModel",
            "_view_count": null,
            "_view_module": "@jupyter-widgets/controls",
            "_view_module_version": "1.5.0",
            "_view_name": "HBoxView",
            "box_style": "",
            "children": [
              "IPY_MODEL_b66a006c326a4c3da4378d4347621933",
              "IPY_MODEL_9732c6186e4a4ee897772c52ab002fe6",
              "IPY_MODEL_0953be1de6f44c35b14098e244280503"
            ],
            "layout": "IPY_MODEL_d116ba208ea54a85b383b765eba14f82"
          }
        },
        "b66a006c326a4c3da4378d4347621933": {
          "model_module": "@jupyter-widgets/controls",
          "model_name": "HTMLModel",
          "model_module_version": "1.5.0",
          "state": {
            "_dom_classes": [],
            "_model_module": "@jupyter-widgets/controls",
            "_model_module_version": "1.5.0",
            "_model_name": "HTMLModel",
            "_view_count": null,
            "_view_module": "@jupyter-widgets/controls",
            "_view_module_version": "1.5.0",
            "_view_name": "HTMLView",
            "description": "",
            "description_tooltip": null,
            "layout": "IPY_MODEL_b26e7e16df5044b79b3430cb1b87c8d8",
            "placeholder": "​",
            "style": "IPY_MODEL_0ca738a1439b45f6bb68748c09588d3d",
            "value": ""
          }
        },
        "9732c6186e4a4ee897772c52ab002fe6": {
          "model_module": "@jupyter-widgets/controls",
          "model_name": "FloatProgressModel",
          "model_module_version": "1.5.0",
          "state": {
            "_dom_classes": [],
            "_model_module": "@jupyter-widgets/controls",
            "_model_module_version": "1.5.0",
            "_model_name": "FloatProgressModel",
            "_view_count": null,
            "_view_module": "@jupyter-widgets/controls",
            "_view_module_version": "1.5.0",
            "_view_name": "ProgressView",
            "bar_style": "success",
            "description": "",
            "description_tooltip": null,
            "layout": "IPY_MODEL_9a9069b648f64c08b3bf167028c364ac",
            "max": 1,
            "min": 0,
            "orientation": "horizontal",
            "style": "IPY_MODEL_21d5c310173b4bbca037c062bd45c64e",
            "value": 1
          }
        },
        "0953be1de6f44c35b14098e244280503": {
          "model_module": "@jupyter-widgets/controls",
          "model_name": "HTMLModel",
          "model_module_version": "1.5.0",
          "state": {
            "_dom_classes": [],
            "_model_module": "@jupyter-widgets/controls",
            "_model_module_version": "1.5.0",
            "_model_name": "HTMLModel",
            "_view_count": null,
            "_view_module": "@jupyter-widgets/controls",
            "_view_module_version": "1.5.0",
            "_view_name": "HTMLView",
            "description": "",
            "description_tooltip": null,
            "layout": "IPY_MODEL_967331227a0a407a9ea7b18c512ff115",
            "placeholder": "​",
            "style": "IPY_MODEL_41611c67dc444174ada0b11c9589c479",
            "value": " 837/? [08:40&lt;00:00,  2.01it/s]"
          }
        },
        "d116ba208ea54a85b383b765eba14f82": {
          "model_module": "@jupyter-widgets/base",
          "model_name": "LayoutModel",
          "model_module_version": "1.2.0",
          "state": {
            "_model_module": "@jupyter-widgets/base",
            "_model_module_version": "1.2.0",
            "_model_name": "LayoutModel",
            "_view_count": null,
            "_view_module": "@jupyter-widgets/base",
            "_view_module_version": "1.2.0",
            "_view_name": "LayoutView",
            "align_content": null,
            "align_items": null,
            "align_self": null,
            "border": null,
            "bottom": null,
            "display": null,
            "flex": null,
            "flex_flow": null,
            "grid_area": null,
            "grid_auto_columns": null,
            "grid_auto_flow": null,
            "grid_auto_rows": null,
            "grid_column": null,
            "grid_gap": null,
            "grid_row": null,
            "grid_template_areas": null,
            "grid_template_columns": null,
            "grid_template_rows": null,
            "height": null,
            "justify_content": null,
            "justify_items": null,
            "left": null,
            "margin": null,
            "max_height": null,
            "max_width": null,
            "min_height": null,
            "min_width": null,
            "object_fit": null,
            "object_position": null,
            "order": null,
            "overflow": null,
            "overflow_x": null,
            "overflow_y": null,
            "padding": null,
            "right": null,
            "top": null,
            "visibility": null,
            "width": null
          }
        },
        "b26e7e16df5044b79b3430cb1b87c8d8": {
          "model_module": "@jupyter-widgets/base",
          "model_name": "LayoutModel",
          "model_module_version": "1.2.0",
          "state": {
            "_model_module": "@jupyter-widgets/base",
            "_model_module_version": "1.2.0",
            "_model_name": "LayoutModel",
            "_view_count": null,
            "_view_module": "@jupyter-widgets/base",
            "_view_module_version": "1.2.0",
            "_view_name": "LayoutView",
            "align_content": null,
            "align_items": null,
            "align_self": null,
            "border": null,
            "bottom": null,
            "display": null,
            "flex": null,
            "flex_flow": null,
            "grid_area": null,
            "grid_auto_columns": null,
            "grid_auto_flow": null,
            "grid_auto_rows": null,
            "grid_column": null,
            "grid_gap": null,
            "grid_row": null,
            "grid_template_areas": null,
            "grid_template_columns": null,
            "grid_template_rows": null,
            "height": null,
            "justify_content": null,
            "justify_items": null,
            "left": null,
            "margin": null,
            "max_height": null,
            "max_width": null,
            "min_height": null,
            "min_width": null,
            "object_fit": null,
            "object_position": null,
            "order": null,
            "overflow": null,
            "overflow_x": null,
            "overflow_y": null,
            "padding": null,
            "right": null,
            "top": null,
            "visibility": null,
            "width": null
          }
        },
        "0ca738a1439b45f6bb68748c09588d3d": {
          "model_module": "@jupyter-widgets/controls",
          "model_name": "DescriptionStyleModel",
          "model_module_version": "1.5.0",
          "state": {
            "_model_module": "@jupyter-widgets/controls",
            "_model_module_version": "1.5.0",
            "_model_name": "DescriptionStyleModel",
            "_view_count": null,
            "_view_module": "@jupyter-widgets/base",
            "_view_module_version": "1.2.0",
            "_view_name": "StyleView",
            "description_width": ""
          }
        },
        "9a9069b648f64c08b3bf167028c364ac": {
          "model_module": "@jupyter-widgets/base",
          "model_name": "LayoutModel",
          "model_module_version": "1.2.0",
          "state": {
            "_model_module": "@jupyter-widgets/base",
            "_model_module_version": "1.2.0",
            "_model_name": "LayoutModel",
            "_view_count": null,
            "_view_module": "@jupyter-widgets/base",
            "_view_module_version": "1.2.0",
            "_view_name": "LayoutView",
            "align_content": null,
            "align_items": null,
            "align_self": null,
            "border": null,
            "bottom": null,
            "display": null,
            "flex": null,
            "flex_flow": null,
            "grid_area": null,
            "grid_auto_columns": null,
            "grid_auto_flow": null,
            "grid_auto_rows": null,
            "grid_column": null,
            "grid_gap": null,
            "grid_row": null,
            "grid_template_areas": null,
            "grid_template_columns": null,
            "grid_template_rows": null,
            "height": null,
            "justify_content": null,
            "justify_items": null,
            "left": null,
            "margin": null,
            "max_height": null,
            "max_width": null,
            "min_height": null,
            "min_width": null,
            "object_fit": null,
            "object_position": null,
            "order": null,
            "overflow": null,
            "overflow_x": null,
            "overflow_y": null,
            "padding": null,
            "right": null,
            "top": null,
            "visibility": null,
            "width": "20px"
          }
        },
        "21d5c310173b4bbca037c062bd45c64e": {
          "model_module": "@jupyter-widgets/controls",
          "model_name": "ProgressStyleModel",
          "model_module_version": "1.5.0",
          "state": {
            "_model_module": "@jupyter-widgets/controls",
            "_model_module_version": "1.5.0",
            "_model_name": "ProgressStyleModel",
            "_view_count": null,
            "_view_module": "@jupyter-widgets/base",
            "_view_module_version": "1.2.0",
            "_view_name": "StyleView",
            "bar_color": null,
            "description_width": ""
          }
        },
        "967331227a0a407a9ea7b18c512ff115": {
          "model_module": "@jupyter-widgets/base",
          "model_name": "LayoutModel",
          "model_module_version": "1.2.0",
          "state": {
            "_model_module": "@jupyter-widgets/base",
            "_model_module_version": "1.2.0",
            "_model_name": "LayoutModel",
            "_view_count": null,
            "_view_module": "@jupyter-widgets/base",
            "_view_module_version": "1.2.0",
            "_view_name": "LayoutView",
            "align_content": null,
            "align_items": null,
            "align_self": null,
            "border": null,
            "bottom": null,
            "display": null,
            "flex": null,
            "flex_flow": null,
            "grid_area": null,
            "grid_auto_columns": null,
            "grid_auto_flow": null,
            "grid_auto_rows": null,
            "grid_column": null,
            "grid_gap": null,
            "grid_row": null,
            "grid_template_areas": null,
            "grid_template_columns": null,
            "grid_template_rows": null,
            "height": null,
            "justify_content": null,
            "justify_items": null,
            "left": null,
            "margin": null,
            "max_height": null,
            "max_width": null,
            "min_height": null,
            "min_width": null,
            "object_fit": null,
            "object_position": null,
            "order": null,
            "overflow": null,
            "overflow_x": null,
            "overflow_y": null,
            "padding": null,
            "right": null,
            "top": null,
            "visibility": null,
            "width": null
          }
        },
        "41611c67dc444174ada0b11c9589c479": {
          "model_module": "@jupyter-widgets/controls",
          "model_name": "DescriptionStyleModel",
          "model_module_version": "1.5.0",
          "state": {
            "_model_module": "@jupyter-widgets/controls",
            "_model_module_version": "1.5.0",
            "_model_name": "DescriptionStyleModel",
            "_view_count": null,
            "_view_module": "@jupyter-widgets/base",
            "_view_module_version": "1.2.0",
            "_view_name": "StyleView",
            "description_width": ""
          }
        },
        "1ca44a96a2594a46bc7d7eae501919c0": {
          "model_module": "@jupyter-widgets/controls",
          "model_name": "HBoxModel",
          "model_module_version": "1.5.0",
          "state": {
            "_dom_classes": [],
            "_model_module": "@jupyter-widgets/controls",
            "_model_module_version": "1.5.0",
            "_model_name": "HBoxModel",
            "_view_count": null,
            "_view_module": "@jupyter-widgets/controls",
            "_view_module_version": "1.5.0",
            "_view_name": "HBoxView",
            "box_style": "",
            "children": [
              "IPY_MODEL_d73a2f6bc5944122ac837ee34363b55a",
              "IPY_MODEL_b58598a51303432e8b64dad0da626726",
              "IPY_MODEL_1f0fe765c26e4e0c8b20aa459559e08c"
            ],
            "layout": "IPY_MODEL_007a2eeb35104cf8b70639547c47f89c"
          }
        },
        "d73a2f6bc5944122ac837ee34363b55a": {
          "model_module": "@jupyter-widgets/controls",
          "model_name": "HTMLModel",
          "model_module_version": "1.5.0",
          "state": {
            "_dom_classes": [],
            "_model_module": "@jupyter-widgets/controls",
            "_model_module_version": "1.5.0",
            "_model_name": "HTMLModel",
            "_view_count": null,
            "_view_module": "@jupyter-widgets/controls",
            "_view_module_version": "1.5.0",
            "_view_name": "HTMLView",
            "description": "",
            "description_tooltip": null,
            "layout": "IPY_MODEL_f100dabc050e4b01aa71f68beec934d2",
            "placeholder": "​",
            "style": "IPY_MODEL_e45e5e1b09af4262a253c920f467ef02",
            "value": ""
          }
        },
        "b58598a51303432e8b64dad0da626726": {
          "model_module": "@jupyter-widgets/controls",
          "model_name": "FloatProgressModel",
          "model_module_version": "1.5.0",
          "state": {
            "_dom_classes": [],
            "_model_module": "@jupyter-widgets/controls",
            "_model_module_version": "1.5.0",
            "_model_name": "FloatProgressModel",
            "_view_count": null,
            "_view_module": "@jupyter-widgets/controls",
            "_view_module_version": "1.5.0",
            "_view_name": "ProgressView",
            "bar_style": "success",
            "description": "",
            "description_tooltip": null,
            "layout": "IPY_MODEL_88d00bf6ed3a4caba227edea321d8e2a",
            "max": 1,
            "min": 0,
            "orientation": "horizontal",
            "style": "IPY_MODEL_0c8dc65675ae490e94656ce27fa75a2f",
            "value": 1
          }
        },
        "1f0fe765c26e4e0c8b20aa459559e08c": {
          "model_module": "@jupyter-widgets/controls",
          "model_name": "HTMLModel",
          "model_module_version": "1.5.0",
          "state": {
            "_dom_classes": [],
            "_model_module": "@jupyter-widgets/controls",
            "_model_module_version": "1.5.0",
            "_model_name": "HTMLModel",
            "_view_count": null,
            "_view_module": "@jupyter-widgets/controls",
            "_view_module_version": "1.5.0",
            "_view_name": "HTMLView",
            "description": "",
            "description_tooltip": null,
            "layout": "IPY_MODEL_7a7634a462b144589ef0fa531f778a19",
            "placeholder": "​",
            "style": "IPY_MODEL_3d4341803eb842dfb9cc036b8bd9fd4b",
            "value": " 525/? [07:06&lt;00:00,  1.41it/s]"
          }
        },
        "007a2eeb35104cf8b70639547c47f89c": {
          "model_module": "@jupyter-widgets/base",
          "model_name": "LayoutModel",
          "model_module_version": "1.2.0",
          "state": {
            "_model_module": "@jupyter-widgets/base",
            "_model_module_version": "1.2.0",
            "_model_name": "LayoutModel",
            "_view_count": null,
            "_view_module": "@jupyter-widgets/base",
            "_view_module_version": "1.2.0",
            "_view_name": "LayoutView",
            "align_content": null,
            "align_items": null,
            "align_self": null,
            "border": null,
            "bottom": null,
            "display": null,
            "flex": null,
            "flex_flow": null,
            "grid_area": null,
            "grid_auto_columns": null,
            "grid_auto_flow": null,
            "grid_auto_rows": null,
            "grid_column": null,
            "grid_gap": null,
            "grid_row": null,
            "grid_template_areas": null,
            "grid_template_columns": null,
            "grid_template_rows": null,
            "height": null,
            "justify_content": null,
            "justify_items": null,
            "left": null,
            "margin": null,
            "max_height": null,
            "max_width": null,
            "min_height": null,
            "min_width": null,
            "object_fit": null,
            "object_position": null,
            "order": null,
            "overflow": null,
            "overflow_x": null,
            "overflow_y": null,
            "padding": null,
            "right": null,
            "top": null,
            "visibility": null,
            "width": null
          }
        },
        "f100dabc050e4b01aa71f68beec934d2": {
          "model_module": "@jupyter-widgets/base",
          "model_name": "LayoutModel",
          "model_module_version": "1.2.0",
          "state": {
            "_model_module": "@jupyter-widgets/base",
            "_model_module_version": "1.2.0",
            "_model_name": "LayoutModel",
            "_view_count": null,
            "_view_module": "@jupyter-widgets/base",
            "_view_module_version": "1.2.0",
            "_view_name": "LayoutView",
            "align_content": null,
            "align_items": null,
            "align_self": null,
            "border": null,
            "bottom": null,
            "display": null,
            "flex": null,
            "flex_flow": null,
            "grid_area": null,
            "grid_auto_columns": null,
            "grid_auto_flow": null,
            "grid_auto_rows": null,
            "grid_column": null,
            "grid_gap": null,
            "grid_row": null,
            "grid_template_areas": null,
            "grid_template_columns": null,
            "grid_template_rows": null,
            "height": null,
            "justify_content": null,
            "justify_items": null,
            "left": null,
            "margin": null,
            "max_height": null,
            "max_width": null,
            "min_height": null,
            "min_width": null,
            "object_fit": null,
            "object_position": null,
            "order": null,
            "overflow": null,
            "overflow_x": null,
            "overflow_y": null,
            "padding": null,
            "right": null,
            "top": null,
            "visibility": null,
            "width": null
          }
        },
        "e45e5e1b09af4262a253c920f467ef02": {
          "model_module": "@jupyter-widgets/controls",
          "model_name": "DescriptionStyleModel",
          "model_module_version": "1.5.0",
          "state": {
            "_model_module": "@jupyter-widgets/controls",
            "_model_module_version": "1.5.0",
            "_model_name": "DescriptionStyleModel",
            "_view_count": null,
            "_view_module": "@jupyter-widgets/base",
            "_view_module_version": "1.2.0",
            "_view_name": "StyleView",
            "description_width": ""
          }
        },
        "88d00bf6ed3a4caba227edea321d8e2a": {
          "model_module": "@jupyter-widgets/base",
          "model_name": "LayoutModel",
          "model_module_version": "1.2.0",
          "state": {
            "_model_module": "@jupyter-widgets/base",
            "_model_module_version": "1.2.0",
            "_model_name": "LayoutModel",
            "_view_count": null,
            "_view_module": "@jupyter-widgets/base",
            "_view_module_version": "1.2.0",
            "_view_name": "LayoutView",
            "align_content": null,
            "align_items": null,
            "align_self": null,
            "border": null,
            "bottom": null,
            "display": null,
            "flex": null,
            "flex_flow": null,
            "grid_area": null,
            "grid_auto_columns": null,
            "grid_auto_flow": null,
            "grid_auto_rows": null,
            "grid_column": null,
            "grid_gap": null,
            "grid_row": null,
            "grid_template_areas": null,
            "grid_template_columns": null,
            "grid_template_rows": null,
            "height": null,
            "justify_content": null,
            "justify_items": null,
            "left": null,
            "margin": null,
            "max_height": null,
            "max_width": null,
            "min_height": null,
            "min_width": null,
            "object_fit": null,
            "object_position": null,
            "order": null,
            "overflow": null,
            "overflow_x": null,
            "overflow_y": null,
            "padding": null,
            "right": null,
            "top": null,
            "visibility": null,
            "width": "20px"
          }
        },
        "0c8dc65675ae490e94656ce27fa75a2f": {
          "model_module": "@jupyter-widgets/controls",
          "model_name": "ProgressStyleModel",
          "model_module_version": "1.5.0",
          "state": {
            "_model_module": "@jupyter-widgets/controls",
            "_model_module_version": "1.5.0",
            "_model_name": "ProgressStyleModel",
            "_view_count": null,
            "_view_module": "@jupyter-widgets/base",
            "_view_module_version": "1.2.0",
            "_view_name": "StyleView",
            "bar_color": null,
            "description_width": ""
          }
        },
        "7a7634a462b144589ef0fa531f778a19": {
          "model_module": "@jupyter-widgets/base",
          "model_name": "LayoutModel",
          "model_module_version": "1.2.0",
          "state": {
            "_model_module": "@jupyter-widgets/base",
            "_model_module_version": "1.2.0",
            "_model_name": "LayoutModel",
            "_view_count": null,
            "_view_module": "@jupyter-widgets/base",
            "_view_module_version": "1.2.0",
            "_view_name": "LayoutView",
            "align_content": null,
            "align_items": null,
            "align_self": null,
            "border": null,
            "bottom": null,
            "display": null,
            "flex": null,
            "flex_flow": null,
            "grid_area": null,
            "grid_auto_columns": null,
            "grid_auto_flow": null,
            "grid_auto_rows": null,
            "grid_column": null,
            "grid_gap": null,
            "grid_row": null,
            "grid_template_areas": null,
            "grid_template_columns": null,
            "grid_template_rows": null,
            "height": null,
            "justify_content": null,
            "justify_items": null,
            "left": null,
            "margin": null,
            "max_height": null,
            "max_width": null,
            "min_height": null,
            "min_width": null,
            "object_fit": null,
            "object_position": null,
            "order": null,
            "overflow": null,
            "overflow_x": null,
            "overflow_y": null,
            "padding": null,
            "right": null,
            "top": null,
            "visibility": null,
            "width": null
          }
        },
        "3d4341803eb842dfb9cc036b8bd9fd4b": {
          "model_module": "@jupyter-widgets/controls",
          "model_name": "DescriptionStyleModel",
          "model_module_version": "1.5.0",
          "state": {
            "_model_module": "@jupyter-widgets/controls",
            "_model_module_version": "1.5.0",
            "_model_name": "DescriptionStyleModel",
            "_view_count": null,
            "_view_module": "@jupyter-widgets/base",
            "_view_module_version": "1.2.0",
            "_view_name": "StyleView",
            "description_width": ""
          }
        },
        "c7e8a05beb364d66a78400f80b0f3882": {
          "model_module": "@jupyter-widgets/controls",
          "model_name": "HBoxModel",
          "model_module_version": "1.5.0",
          "state": {
            "_dom_classes": [],
            "_model_module": "@jupyter-widgets/controls",
            "_model_module_version": "1.5.0",
            "_model_name": "HBoxModel",
            "_view_count": null,
            "_view_module": "@jupyter-widgets/controls",
            "_view_module_version": "1.5.0",
            "_view_name": "HBoxView",
            "box_style": "",
            "children": [
              "IPY_MODEL_8e3ac76cedfd43199d08361129139b9a",
              "IPY_MODEL_fc402e3cb9e647c29ce7166ac7e8c61b",
              "IPY_MODEL_c98af60de79b4ea98507f4049a64284c"
            ],
            "layout": "IPY_MODEL_c90a2fedb7d348548b0dd4a5a70898f2"
          }
        },
        "8e3ac76cedfd43199d08361129139b9a": {
          "model_module": "@jupyter-widgets/controls",
          "model_name": "HTMLModel",
          "model_module_version": "1.5.0",
          "state": {
            "_dom_classes": [],
            "_model_module": "@jupyter-widgets/controls",
            "_model_module_version": "1.5.0",
            "_model_name": "HTMLModel",
            "_view_count": null,
            "_view_module": "@jupyter-widgets/controls",
            "_view_module_version": "1.5.0",
            "_view_name": "HTMLView",
            "description": "",
            "description_tooltip": null,
            "layout": "IPY_MODEL_134c8391ce294df18aae00dfdc5ec573",
            "placeholder": "​",
            "style": "IPY_MODEL_58deea6ed6c9478da47bbd63dde468d7",
            "value": ""
          }
        },
        "fc402e3cb9e647c29ce7166ac7e8c61b": {
          "model_module": "@jupyter-widgets/controls",
          "model_name": "FloatProgressModel",
          "model_module_version": "1.5.0",
          "state": {
            "_dom_classes": [],
            "_model_module": "@jupyter-widgets/controls",
            "_model_module_version": "1.5.0",
            "_model_name": "FloatProgressModel",
            "_view_count": null,
            "_view_module": "@jupyter-widgets/controls",
            "_view_module_version": "1.5.0",
            "_view_name": "ProgressView",
            "bar_style": "success",
            "description": "",
            "description_tooltip": null,
            "layout": "IPY_MODEL_2978595b57f44e46a8cc596008aaf003",
            "max": 1,
            "min": 0,
            "orientation": "horizontal",
            "style": "IPY_MODEL_129694261c1149598ba2619431a45ed6",
            "value": 1
          }
        },
        "c98af60de79b4ea98507f4049a64284c": {
          "model_module": "@jupyter-widgets/controls",
          "model_name": "HTMLModel",
          "model_module_version": "1.5.0",
          "state": {
            "_dom_classes": [],
            "_model_module": "@jupyter-widgets/controls",
            "_model_module_version": "1.5.0",
            "_model_name": "HTMLModel",
            "_view_count": null,
            "_view_module": "@jupyter-widgets/controls",
            "_view_module_version": "1.5.0",
            "_view_name": "HTMLView",
            "description": "",
            "description_tooltip": null,
            "layout": "IPY_MODEL_d541df827a504f618a5349ef9ef007bc",
            "placeholder": "​",
            "style": "IPY_MODEL_740514011f8f4672a3b4af845e757f0e",
            "value": " 900/? [11:05&lt;00:00,  1.42it/s]"
          }
        },
        "c90a2fedb7d348548b0dd4a5a70898f2": {
          "model_module": "@jupyter-widgets/base",
          "model_name": "LayoutModel",
          "model_module_version": "1.2.0",
          "state": {
            "_model_module": "@jupyter-widgets/base",
            "_model_module_version": "1.2.0",
            "_model_name": "LayoutModel",
            "_view_count": null,
            "_view_module": "@jupyter-widgets/base",
            "_view_module_version": "1.2.0",
            "_view_name": "LayoutView",
            "align_content": null,
            "align_items": null,
            "align_self": null,
            "border": null,
            "bottom": null,
            "display": null,
            "flex": null,
            "flex_flow": null,
            "grid_area": null,
            "grid_auto_columns": null,
            "grid_auto_flow": null,
            "grid_auto_rows": null,
            "grid_column": null,
            "grid_gap": null,
            "grid_row": null,
            "grid_template_areas": null,
            "grid_template_columns": null,
            "grid_template_rows": null,
            "height": null,
            "justify_content": null,
            "justify_items": null,
            "left": null,
            "margin": null,
            "max_height": null,
            "max_width": null,
            "min_height": null,
            "min_width": null,
            "object_fit": null,
            "object_position": null,
            "order": null,
            "overflow": null,
            "overflow_x": null,
            "overflow_y": null,
            "padding": null,
            "right": null,
            "top": null,
            "visibility": null,
            "width": null
          }
        },
        "134c8391ce294df18aae00dfdc5ec573": {
          "model_module": "@jupyter-widgets/base",
          "model_name": "LayoutModel",
          "model_module_version": "1.2.0",
          "state": {
            "_model_module": "@jupyter-widgets/base",
            "_model_module_version": "1.2.0",
            "_model_name": "LayoutModel",
            "_view_count": null,
            "_view_module": "@jupyter-widgets/base",
            "_view_module_version": "1.2.0",
            "_view_name": "LayoutView",
            "align_content": null,
            "align_items": null,
            "align_self": null,
            "border": null,
            "bottom": null,
            "display": null,
            "flex": null,
            "flex_flow": null,
            "grid_area": null,
            "grid_auto_columns": null,
            "grid_auto_flow": null,
            "grid_auto_rows": null,
            "grid_column": null,
            "grid_gap": null,
            "grid_row": null,
            "grid_template_areas": null,
            "grid_template_columns": null,
            "grid_template_rows": null,
            "height": null,
            "justify_content": null,
            "justify_items": null,
            "left": null,
            "margin": null,
            "max_height": null,
            "max_width": null,
            "min_height": null,
            "min_width": null,
            "object_fit": null,
            "object_position": null,
            "order": null,
            "overflow": null,
            "overflow_x": null,
            "overflow_y": null,
            "padding": null,
            "right": null,
            "top": null,
            "visibility": null,
            "width": null
          }
        },
        "58deea6ed6c9478da47bbd63dde468d7": {
          "model_module": "@jupyter-widgets/controls",
          "model_name": "DescriptionStyleModel",
          "model_module_version": "1.5.0",
          "state": {
            "_model_module": "@jupyter-widgets/controls",
            "_model_module_version": "1.5.0",
            "_model_name": "DescriptionStyleModel",
            "_view_count": null,
            "_view_module": "@jupyter-widgets/base",
            "_view_module_version": "1.2.0",
            "_view_name": "StyleView",
            "description_width": ""
          }
        },
        "2978595b57f44e46a8cc596008aaf003": {
          "model_module": "@jupyter-widgets/base",
          "model_name": "LayoutModel",
          "model_module_version": "1.2.0",
          "state": {
            "_model_module": "@jupyter-widgets/base",
            "_model_module_version": "1.2.0",
            "_model_name": "LayoutModel",
            "_view_count": null,
            "_view_module": "@jupyter-widgets/base",
            "_view_module_version": "1.2.0",
            "_view_name": "LayoutView",
            "align_content": null,
            "align_items": null,
            "align_self": null,
            "border": null,
            "bottom": null,
            "display": null,
            "flex": null,
            "flex_flow": null,
            "grid_area": null,
            "grid_auto_columns": null,
            "grid_auto_flow": null,
            "grid_auto_rows": null,
            "grid_column": null,
            "grid_gap": null,
            "grid_row": null,
            "grid_template_areas": null,
            "grid_template_columns": null,
            "grid_template_rows": null,
            "height": null,
            "justify_content": null,
            "justify_items": null,
            "left": null,
            "margin": null,
            "max_height": null,
            "max_width": null,
            "min_height": null,
            "min_width": null,
            "object_fit": null,
            "object_position": null,
            "order": null,
            "overflow": null,
            "overflow_x": null,
            "overflow_y": null,
            "padding": null,
            "right": null,
            "top": null,
            "visibility": null,
            "width": "20px"
          }
        },
        "129694261c1149598ba2619431a45ed6": {
          "model_module": "@jupyter-widgets/controls",
          "model_name": "ProgressStyleModel",
          "model_module_version": "1.5.0",
          "state": {
            "_model_module": "@jupyter-widgets/controls",
            "_model_module_version": "1.5.0",
            "_model_name": "ProgressStyleModel",
            "_view_count": null,
            "_view_module": "@jupyter-widgets/base",
            "_view_module_version": "1.2.0",
            "_view_name": "StyleView",
            "bar_color": null,
            "description_width": ""
          }
        },
        "d541df827a504f618a5349ef9ef007bc": {
          "model_module": "@jupyter-widgets/base",
          "model_name": "LayoutModel",
          "model_module_version": "1.2.0",
          "state": {
            "_model_module": "@jupyter-widgets/base",
            "_model_module_version": "1.2.0",
            "_model_name": "LayoutModel",
            "_view_count": null,
            "_view_module": "@jupyter-widgets/base",
            "_view_module_version": "1.2.0",
            "_view_name": "LayoutView",
            "align_content": null,
            "align_items": null,
            "align_self": null,
            "border": null,
            "bottom": null,
            "display": null,
            "flex": null,
            "flex_flow": null,
            "grid_area": null,
            "grid_auto_columns": null,
            "grid_auto_flow": null,
            "grid_auto_rows": null,
            "grid_column": null,
            "grid_gap": null,
            "grid_row": null,
            "grid_template_areas": null,
            "grid_template_columns": null,
            "grid_template_rows": null,
            "height": null,
            "justify_content": null,
            "justify_items": null,
            "left": null,
            "margin": null,
            "max_height": null,
            "max_width": null,
            "min_height": null,
            "min_width": null,
            "object_fit": null,
            "object_position": null,
            "order": null,
            "overflow": null,
            "overflow_x": null,
            "overflow_y": null,
            "padding": null,
            "right": null,
            "top": null,
            "visibility": null,
            "width": null
          }
        },
        "740514011f8f4672a3b4af845e757f0e": {
          "model_module": "@jupyter-widgets/controls",
          "model_name": "DescriptionStyleModel",
          "model_module_version": "1.5.0",
          "state": {
            "_model_module": "@jupyter-widgets/controls",
            "_model_module_version": "1.5.0",
            "_model_name": "DescriptionStyleModel",
            "_view_count": null,
            "_view_module": "@jupyter-widgets/base",
            "_view_module_version": "1.2.0",
            "_view_name": "StyleView",
            "description_width": ""
          }
        },
        "70e3d78e6e534da2b837903c136f2e7e": {
          "model_module": "@jupyter-widgets/controls",
          "model_name": "HBoxModel",
          "model_module_version": "1.5.0",
          "state": {
            "_dom_classes": [],
            "_model_module": "@jupyter-widgets/controls",
            "_model_module_version": "1.5.0",
            "_model_name": "HBoxModel",
            "_view_count": null,
            "_view_module": "@jupyter-widgets/controls",
            "_view_module_version": "1.5.0",
            "_view_name": "HBoxView",
            "box_style": "",
            "children": [
              "IPY_MODEL_39642561d044453f8343ce4694715869",
              "IPY_MODEL_f7d625738851481789049eefbbfdf496",
              "IPY_MODEL_00cd236d966c4141aa725158d454d06e"
            ],
            "layout": "IPY_MODEL_21d9416c6ebc49db84c6056e536c4de9"
          }
        },
        "39642561d044453f8343ce4694715869": {
          "model_module": "@jupyter-widgets/controls",
          "model_name": "HTMLModel",
          "model_module_version": "1.5.0",
          "state": {
            "_dom_classes": [],
            "_model_module": "@jupyter-widgets/controls",
            "_model_module_version": "1.5.0",
            "_model_name": "HTMLModel",
            "_view_count": null,
            "_view_module": "@jupyter-widgets/controls",
            "_view_module_version": "1.5.0",
            "_view_name": "HTMLView",
            "description": "",
            "description_tooltip": null,
            "layout": "IPY_MODEL_d6383ff86a05427d9ce2046e581c5152",
            "placeholder": "​",
            "style": "IPY_MODEL_3a7df5d0a3a4483c95531c47fdfc8384",
            "value": ""
          }
        },
        "f7d625738851481789049eefbbfdf496": {
          "model_module": "@jupyter-widgets/controls",
          "model_name": "FloatProgressModel",
          "model_module_version": "1.5.0",
          "state": {
            "_dom_classes": [],
            "_model_module": "@jupyter-widgets/controls",
            "_model_module_version": "1.5.0",
            "_model_name": "FloatProgressModel",
            "_view_count": null,
            "_view_module": "@jupyter-widgets/controls",
            "_view_module_version": "1.5.0",
            "_view_name": "ProgressView",
            "bar_style": "success",
            "description": "",
            "description_tooltip": null,
            "layout": "IPY_MODEL_cf2ab72714e346ddbe66d1302bb69ca1",
            "max": 1,
            "min": 0,
            "orientation": "horizontal",
            "style": "IPY_MODEL_0ded78cc46164f45a953a57d52df8e54",
            "value": 1
          }
        },
        "00cd236d966c4141aa725158d454d06e": {
          "model_module": "@jupyter-widgets/controls",
          "model_name": "HTMLModel",
          "model_module_version": "1.5.0",
          "state": {
            "_dom_classes": [],
            "_model_module": "@jupyter-widgets/controls",
            "_model_module_version": "1.5.0",
            "_model_name": "HTMLModel",
            "_view_count": null,
            "_view_module": "@jupyter-widgets/controls",
            "_view_module_version": "1.5.0",
            "_view_name": "HTMLView",
            "description": "",
            "description_tooltip": null,
            "layout": "IPY_MODEL_1d8701d969444a488c891d3eaf11bfa3",
            "placeholder": "​",
            "style": "IPY_MODEL_4d6cf24abeb14640b0ab11c14015f3dd",
            "value": " 750/? [09:19&lt;00:00,  1.45it/s]"
          }
        },
        "21d9416c6ebc49db84c6056e536c4de9": {
          "model_module": "@jupyter-widgets/base",
          "model_name": "LayoutModel",
          "model_module_version": "1.2.0",
          "state": {
            "_model_module": "@jupyter-widgets/base",
            "_model_module_version": "1.2.0",
            "_model_name": "LayoutModel",
            "_view_count": null,
            "_view_module": "@jupyter-widgets/base",
            "_view_module_version": "1.2.0",
            "_view_name": "LayoutView",
            "align_content": null,
            "align_items": null,
            "align_self": null,
            "border": null,
            "bottom": null,
            "display": null,
            "flex": null,
            "flex_flow": null,
            "grid_area": null,
            "grid_auto_columns": null,
            "grid_auto_flow": null,
            "grid_auto_rows": null,
            "grid_column": null,
            "grid_gap": null,
            "grid_row": null,
            "grid_template_areas": null,
            "grid_template_columns": null,
            "grid_template_rows": null,
            "height": null,
            "justify_content": null,
            "justify_items": null,
            "left": null,
            "margin": null,
            "max_height": null,
            "max_width": null,
            "min_height": null,
            "min_width": null,
            "object_fit": null,
            "object_position": null,
            "order": null,
            "overflow": null,
            "overflow_x": null,
            "overflow_y": null,
            "padding": null,
            "right": null,
            "top": null,
            "visibility": null,
            "width": null
          }
        },
        "d6383ff86a05427d9ce2046e581c5152": {
          "model_module": "@jupyter-widgets/base",
          "model_name": "LayoutModel",
          "model_module_version": "1.2.0",
          "state": {
            "_model_module": "@jupyter-widgets/base",
            "_model_module_version": "1.2.0",
            "_model_name": "LayoutModel",
            "_view_count": null,
            "_view_module": "@jupyter-widgets/base",
            "_view_module_version": "1.2.0",
            "_view_name": "LayoutView",
            "align_content": null,
            "align_items": null,
            "align_self": null,
            "border": null,
            "bottom": null,
            "display": null,
            "flex": null,
            "flex_flow": null,
            "grid_area": null,
            "grid_auto_columns": null,
            "grid_auto_flow": null,
            "grid_auto_rows": null,
            "grid_column": null,
            "grid_gap": null,
            "grid_row": null,
            "grid_template_areas": null,
            "grid_template_columns": null,
            "grid_template_rows": null,
            "height": null,
            "justify_content": null,
            "justify_items": null,
            "left": null,
            "margin": null,
            "max_height": null,
            "max_width": null,
            "min_height": null,
            "min_width": null,
            "object_fit": null,
            "object_position": null,
            "order": null,
            "overflow": null,
            "overflow_x": null,
            "overflow_y": null,
            "padding": null,
            "right": null,
            "top": null,
            "visibility": null,
            "width": null
          }
        },
        "3a7df5d0a3a4483c95531c47fdfc8384": {
          "model_module": "@jupyter-widgets/controls",
          "model_name": "DescriptionStyleModel",
          "model_module_version": "1.5.0",
          "state": {
            "_model_module": "@jupyter-widgets/controls",
            "_model_module_version": "1.5.0",
            "_model_name": "DescriptionStyleModel",
            "_view_count": null,
            "_view_module": "@jupyter-widgets/base",
            "_view_module_version": "1.2.0",
            "_view_name": "StyleView",
            "description_width": ""
          }
        },
        "cf2ab72714e346ddbe66d1302bb69ca1": {
          "model_module": "@jupyter-widgets/base",
          "model_name": "LayoutModel",
          "model_module_version": "1.2.0",
          "state": {
            "_model_module": "@jupyter-widgets/base",
            "_model_module_version": "1.2.0",
            "_model_name": "LayoutModel",
            "_view_count": null,
            "_view_module": "@jupyter-widgets/base",
            "_view_module_version": "1.2.0",
            "_view_name": "LayoutView",
            "align_content": null,
            "align_items": null,
            "align_self": null,
            "border": null,
            "bottom": null,
            "display": null,
            "flex": null,
            "flex_flow": null,
            "grid_area": null,
            "grid_auto_columns": null,
            "grid_auto_flow": null,
            "grid_auto_rows": null,
            "grid_column": null,
            "grid_gap": null,
            "grid_row": null,
            "grid_template_areas": null,
            "grid_template_columns": null,
            "grid_template_rows": null,
            "height": null,
            "justify_content": null,
            "justify_items": null,
            "left": null,
            "margin": null,
            "max_height": null,
            "max_width": null,
            "min_height": null,
            "min_width": null,
            "object_fit": null,
            "object_position": null,
            "order": null,
            "overflow": null,
            "overflow_x": null,
            "overflow_y": null,
            "padding": null,
            "right": null,
            "top": null,
            "visibility": null,
            "width": "20px"
          }
        },
        "0ded78cc46164f45a953a57d52df8e54": {
          "model_module": "@jupyter-widgets/controls",
          "model_name": "ProgressStyleModel",
          "model_module_version": "1.5.0",
          "state": {
            "_model_module": "@jupyter-widgets/controls",
            "_model_module_version": "1.5.0",
            "_model_name": "ProgressStyleModel",
            "_view_count": null,
            "_view_module": "@jupyter-widgets/base",
            "_view_module_version": "1.2.0",
            "_view_name": "StyleView",
            "bar_color": null,
            "description_width": ""
          }
        },
        "1d8701d969444a488c891d3eaf11bfa3": {
          "model_module": "@jupyter-widgets/base",
          "model_name": "LayoutModel",
          "model_module_version": "1.2.0",
          "state": {
            "_model_module": "@jupyter-widgets/base",
            "_model_module_version": "1.2.0",
            "_model_name": "LayoutModel",
            "_view_count": null,
            "_view_module": "@jupyter-widgets/base",
            "_view_module_version": "1.2.0",
            "_view_name": "LayoutView",
            "align_content": null,
            "align_items": null,
            "align_self": null,
            "border": null,
            "bottom": null,
            "display": null,
            "flex": null,
            "flex_flow": null,
            "grid_area": null,
            "grid_auto_columns": null,
            "grid_auto_flow": null,
            "grid_auto_rows": null,
            "grid_column": null,
            "grid_gap": null,
            "grid_row": null,
            "grid_template_areas": null,
            "grid_template_columns": null,
            "grid_template_rows": null,
            "height": null,
            "justify_content": null,
            "justify_items": null,
            "left": null,
            "margin": null,
            "max_height": null,
            "max_width": null,
            "min_height": null,
            "min_width": null,
            "object_fit": null,
            "object_position": null,
            "order": null,
            "overflow": null,
            "overflow_x": null,
            "overflow_y": null,
            "padding": null,
            "right": null,
            "top": null,
            "visibility": null,
            "width": null
          }
        },
        "4d6cf24abeb14640b0ab11c14015f3dd": {
          "model_module": "@jupyter-widgets/controls",
          "model_name": "DescriptionStyleModel",
          "model_module_version": "1.5.0",
          "state": {
            "_model_module": "@jupyter-widgets/controls",
            "_model_module_version": "1.5.0",
            "_model_name": "DescriptionStyleModel",
            "_view_count": null,
            "_view_module": "@jupyter-widgets/base",
            "_view_module_version": "1.2.0",
            "_view_name": "StyleView",
            "description_width": ""
          }
        },
        "26c1481679f84482ad67188e52876fff": {
          "model_module": "@jupyter-widgets/controls",
          "model_name": "HBoxModel",
          "model_module_version": "1.5.0",
          "state": {
            "_dom_classes": [],
            "_model_module": "@jupyter-widgets/controls",
            "_model_module_version": "1.5.0",
            "_model_name": "HBoxModel",
            "_view_count": null,
            "_view_module": "@jupyter-widgets/controls",
            "_view_module_version": "1.5.0",
            "_view_name": "HBoxView",
            "box_style": "",
            "children": [
              "IPY_MODEL_063deb366c804ef9a2e5b64790a5cd58",
              "IPY_MODEL_37301d39c35241ad89f3b12aafc0bf2d",
              "IPY_MODEL_3eaa44a54efb4177b12d1fb72664e3b0"
            ],
            "layout": "IPY_MODEL_e1ebaa9757424e749d6e54e5a7938afd"
          }
        },
        "063deb366c804ef9a2e5b64790a5cd58": {
          "model_module": "@jupyter-widgets/controls",
          "model_name": "HTMLModel",
          "model_module_version": "1.5.0",
          "state": {
            "_dom_classes": [],
            "_model_module": "@jupyter-widgets/controls",
            "_model_module_version": "1.5.0",
            "_model_name": "HTMLModel",
            "_view_count": null,
            "_view_module": "@jupyter-widgets/controls",
            "_view_module_version": "1.5.0",
            "_view_name": "HTMLView",
            "description": "",
            "description_tooltip": null,
            "layout": "IPY_MODEL_2e28fbf85b204334a11b1776161added",
            "placeholder": "​",
            "style": "IPY_MODEL_935ba3e7a06c4600aafcd566cd767f1d",
            "value": ""
          }
        },
        "37301d39c35241ad89f3b12aafc0bf2d": {
          "model_module": "@jupyter-widgets/controls",
          "model_name": "FloatProgressModel",
          "model_module_version": "1.5.0",
          "state": {
            "_dom_classes": [],
            "_model_module": "@jupyter-widgets/controls",
            "_model_module_version": "1.5.0",
            "_model_name": "FloatProgressModel",
            "_view_count": null,
            "_view_module": "@jupyter-widgets/controls",
            "_view_module_version": "1.5.0",
            "_view_name": "ProgressView",
            "bar_style": "success",
            "description": "",
            "description_tooltip": null,
            "layout": "IPY_MODEL_2da4417d10d340d0a751f39254c475a0",
            "max": 1,
            "min": 0,
            "orientation": "horizontal",
            "style": "IPY_MODEL_7b0c21226427440e9f1ce8af43083c2d",
            "value": 1
          }
        },
        "3eaa44a54efb4177b12d1fb72664e3b0": {
          "model_module": "@jupyter-widgets/controls",
          "model_name": "HTMLModel",
          "model_module_version": "1.5.0",
          "state": {
            "_dom_classes": [],
            "_model_module": "@jupyter-widgets/controls",
            "_model_module_version": "1.5.0",
            "_model_name": "HTMLModel",
            "_view_count": null,
            "_view_module": "@jupyter-widgets/controls",
            "_view_module_version": "1.5.0",
            "_view_name": "HTMLView",
            "description": "",
            "description_tooltip": null,
            "layout": "IPY_MODEL_4dd25d55984c4a5dab1b4ba9d687a356",
            "placeholder": "​",
            "style": "IPY_MODEL_a134ce3d1e91410f944881131797f899",
            "value": " 654/? [08:09&lt;00:00,  1.31it/s]"
          }
        },
        "e1ebaa9757424e749d6e54e5a7938afd": {
          "model_module": "@jupyter-widgets/base",
          "model_name": "LayoutModel",
          "model_module_version": "1.2.0",
          "state": {
            "_model_module": "@jupyter-widgets/base",
            "_model_module_version": "1.2.0",
            "_model_name": "LayoutModel",
            "_view_count": null,
            "_view_module": "@jupyter-widgets/base",
            "_view_module_version": "1.2.0",
            "_view_name": "LayoutView",
            "align_content": null,
            "align_items": null,
            "align_self": null,
            "border": null,
            "bottom": null,
            "display": null,
            "flex": null,
            "flex_flow": null,
            "grid_area": null,
            "grid_auto_columns": null,
            "grid_auto_flow": null,
            "grid_auto_rows": null,
            "grid_column": null,
            "grid_gap": null,
            "grid_row": null,
            "grid_template_areas": null,
            "grid_template_columns": null,
            "grid_template_rows": null,
            "height": null,
            "justify_content": null,
            "justify_items": null,
            "left": null,
            "margin": null,
            "max_height": null,
            "max_width": null,
            "min_height": null,
            "min_width": null,
            "object_fit": null,
            "object_position": null,
            "order": null,
            "overflow": null,
            "overflow_x": null,
            "overflow_y": null,
            "padding": null,
            "right": null,
            "top": null,
            "visibility": null,
            "width": null
          }
        },
        "2e28fbf85b204334a11b1776161added": {
          "model_module": "@jupyter-widgets/base",
          "model_name": "LayoutModel",
          "model_module_version": "1.2.0",
          "state": {
            "_model_module": "@jupyter-widgets/base",
            "_model_module_version": "1.2.0",
            "_model_name": "LayoutModel",
            "_view_count": null,
            "_view_module": "@jupyter-widgets/base",
            "_view_module_version": "1.2.0",
            "_view_name": "LayoutView",
            "align_content": null,
            "align_items": null,
            "align_self": null,
            "border": null,
            "bottom": null,
            "display": null,
            "flex": null,
            "flex_flow": null,
            "grid_area": null,
            "grid_auto_columns": null,
            "grid_auto_flow": null,
            "grid_auto_rows": null,
            "grid_column": null,
            "grid_gap": null,
            "grid_row": null,
            "grid_template_areas": null,
            "grid_template_columns": null,
            "grid_template_rows": null,
            "height": null,
            "justify_content": null,
            "justify_items": null,
            "left": null,
            "margin": null,
            "max_height": null,
            "max_width": null,
            "min_height": null,
            "min_width": null,
            "object_fit": null,
            "object_position": null,
            "order": null,
            "overflow": null,
            "overflow_x": null,
            "overflow_y": null,
            "padding": null,
            "right": null,
            "top": null,
            "visibility": null,
            "width": null
          }
        },
        "935ba3e7a06c4600aafcd566cd767f1d": {
          "model_module": "@jupyter-widgets/controls",
          "model_name": "DescriptionStyleModel",
          "model_module_version": "1.5.0",
          "state": {
            "_model_module": "@jupyter-widgets/controls",
            "_model_module_version": "1.5.0",
            "_model_name": "DescriptionStyleModel",
            "_view_count": null,
            "_view_module": "@jupyter-widgets/base",
            "_view_module_version": "1.2.0",
            "_view_name": "StyleView",
            "description_width": ""
          }
        },
        "2da4417d10d340d0a751f39254c475a0": {
          "model_module": "@jupyter-widgets/base",
          "model_name": "LayoutModel",
          "model_module_version": "1.2.0",
          "state": {
            "_model_module": "@jupyter-widgets/base",
            "_model_module_version": "1.2.0",
            "_model_name": "LayoutModel",
            "_view_count": null,
            "_view_module": "@jupyter-widgets/base",
            "_view_module_version": "1.2.0",
            "_view_name": "LayoutView",
            "align_content": null,
            "align_items": null,
            "align_self": null,
            "border": null,
            "bottom": null,
            "display": null,
            "flex": null,
            "flex_flow": null,
            "grid_area": null,
            "grid_auto_columns": null,
            "grid_auto_flow": null,
            "grid_auto_rows": null,
            "grid_column": null,
            "grid_gap": null,
            "grid_row": null,
            "grid_template_areas": null,
            "grid_template_columns": null,
            "grid_template_rows": null,
            "height": null,
            "justify_content": null,
            "justify_items": null,
            "left": null,
            "margin": null,
            "max_height": null,
            "max_width": null,
            "min_height": null,
            "min_width": null,
            "object_fit": null,
            "object_position": null,
            "order": null,
            "overflow": null,
            "overflow_x": null,
            "overflow_y": null,
            "padding": null,
            "right": null,
            "top": null,
            "visibility": null,
            "width": "20px"
          }
        },
        "7b0c21226427440e9f1ce8af43083c2d": {
          "model_module": "@jupyter-widgets/controls",
          "model_name": "ProgressStyleModel",
          "model_module_version": "1.5.0",
          "state": {
            "_model_module": "@jupyter-widgets/controls",
            "_model_module_version": "1.5.0",
            "_model_name": "ProgressStyleModel",
            "_view_count": null,
            "_view_module": "@jupyter-widgets/base",
            "_view_module_version": "1.2.0",
            "_view_name": "StyleView",
            "bar_color": null,
            "description_width": ""
          }
        },
        "4dd25d55984c4a5dab1b4ba9d687a356": {
          "model_module": "@jupyter-widgets/base",
          "model_name": "LayoutModel",
          "model_module_version": "1.2.0",
          "state": {
            "_model_module": "@jupyter-widgets/base",
            "_model_module_version": "1.2.0",
            "_model_name": "LayoutModel",
            "_view_count": null,
            "_view_module": "@jupyter-widgets/base",
            "_view_module_version": "1.2.0",
            "_view_name": "LayoutView",
            "align_content": null,
            "align_items": null,
            "align_self": null,
            "border": null,
            "bottom": null,
            "display": null,
            "flex": null,
            "flex_flow": null,
            "grid_area": null,
            "grid_auto_columns": null,
            "grid_auto_flow": null,
            "grid_auto_rows": null,
            "grid_column": null,
            "grid_gap": null,
            "grid_row": null,
            "grid_template_areas": null,
            "grid_template_columns": null,
            "grid_template_rows": null,
            "height": null,
            "justify_content": null,
            "justify_items": null,
            "left": null,
            "margin": null,
            "max_height": null,
            "max_width": null,
            "min_height": null,
            "min_width": null,
            "object_fit": null,
            "object_position": null,
            "order": null,
            "overflow": null,
            "overflow_x": null,
            "overflow_y": null,
            "padding": null,
            "right": null,
            "top": null,
            "visibility": null,
            "width": null
          }
        },
        "a134ce3d1e91410f944881131797f899": {
          "model_module": "@jupyter-widgets/controls",
          "model_name": "DescriptionStyleModel",
          "model_module_version": "1.5.0",
          "state": {
            "_model_module": "@jupyter-widgets/controls",
            "_model_module_version": "1.5.0",
            "_model_name": "DescriptionStyleModel",
            "_view_count": null,
            "_view_module": "@jupyter-widgets/base",
            "_view_module_version": "1.2.0",
            "_view_name": "StyleView",
            "description_width": ""
          }
        },
        "34d407b640ba46b5a5351663923fb37b": {
          "model_module": "@jupyter-widgets/controls",
          "model_name": "HBoxModel",
          "model_module_version": "1.5.0",
          "state": {
            "_dom_classes": [],
            "_model_module": "@jupyter-widgets/controls",
            "_model_module_version": "1.5.0",
            "_model_name": "HBoxModel",
            "_view_count": null,
            "_view_module": "@jupyter-widgets/controls",
            "_view_module_version": "1.5.0",
            "_view_name": "HBoxView",
            "box_style": "",
            "children": [
              "IPY_MODEL_adda4d57d5904508996f81d566a8e9a1",
              "IPY_MODEL_4503fd54661847069dabbda801ca1927",
              "IPY_MODEL_1f3fbcb990044ee68b91646a789e8cda"
            ],
            "layout": "IPY_MODEL_3108c47fdb904fe6b1ac99f58538d56a"
          }
        },
        "adda4d57d5904508996f81d566a8e9a1": {
          "model_module": "@jupyter-widgets/controls",
          "model_name": "HTMLModel",
          "model_module_version": "1.5.0",
          "state": {
            "_dom_classes": [],
            "_model_module": "@jupyter-widgets/controls",
            "_model_module_version": "1.5.0",
            "_model_name": "HTMLModel",
            "_view_count": null,
            "_view_module": "@jupyter-widgets/controls",
            "_view_module_version": "1.5.0",
            "_view_name": "HTMLView",
            "description": "",
            "description_tooltip": null,
            "layout": "IPY_MODEL_b7c3de961eed46829ebe3440987e2759",
            "placeholder": "​",
            "style": "IPY_MODEL_b2ae7772f71f408f86b31cee7e208283",
            "value": ""
          }
        },
        "4503fd54661847069dabbda801ca1927": {
          "model_module": "@jupyter-widgets/controls",
          "model_name": "FloatProgressModel",
          "model_module_version": "1.5.0",
          "state": {
            "_dom_classes": [],
            "_model_module": "@jupyter-widgets/controls",
            "_model_module_version": "1.5.0",
            "_model_name": "FloatProgressModel",
            "_view_count": null,
            "_view_module": "@jupyter-widgets/controls",
            "_view_module_version": "1.5.0",
            "_view_name": "ProgressView",
            "bar_style": "success",
            "description": "",
            "description_tooltip": null,
            "layout": "IPY_MODEL_e78ae4c98fd9418086c3d058259d54f1",
            "max": 1,
            "min": 0,
            "orientation": "horizontal",
            "style": "IPY_MODEL_f62a157dffe3443b941248faa7999eea",
            "value": 1
          }
        },
        "1f3fbcb990044ee68b91646a789e8cda": {
          "model_module": "@jupyter-widgets/controls",
          "model_name": "HTMLModel",
          "model_module_version": "1.5.0",
          "state": {
            "_dom_classes": [],
            "_model_module": "@jupyter-widgets/controls",
            "_model_module_version": "1.5.0",
            "_model_name": "HTMLModel",
            "_view_count": null,
            "_view_module": "@jupyter-widgets/controls",
            "_view_module_version": "1.5.0",
            "_view_name": "HTMLView",
            "description": "",
            "description_tooltip": null,
            "layout": "IPY_MODEL_e507cbea386d4386a4945cda6cd1ccc4",
            "placeholder": "​",
            "style": "IPY_MODEL_a6ecb2a8289f4969b5a4c25f64c4c1c3",
            "value": " 600/? [07:27&lt;00:00,  1.44it/s]"
          }
        },
        "3108c47fdb904fe6b1ac99f58538d56a": {
          "model_module": "@jupyter-widgets/base",
          "model_name": "LayoutModel",
          "model_module_version": "1.2.0",
          "state": {
            "_model_module": "@jupyter-widgets/base",
            "_model_module_version": "1.2.0",
            "_model_name": "LayoutModel",
            "_view_count": null,
            "_view_module": "@jupyter-widgets/base",
            "_view_module_version": "1.2.0",
            "_view_name": "LayoutView",
            "align_content": null,
            "align_items": null,
            "align_self": null,
            "border": null,
            "bottom": null,
            "display": null,
            "flex": null,
            "flex_flow": null,
            "grid_area": null,
            "grid_auto_columns": null,
            "grid_auto_flow": null,
            "grid_auto_rows": null,
            "grid_column": null,
            "grid_gap": null,
            "grid_row": null,
            "grid_template_areas": null,
            "grid_template_columns": null,
            "grid_template_rows": null,
            "height": null,
            "justify_content": null,
            "justify_items": null,
            "left": null,
            "margin": null,
            "max_height": null,
            "max_width": null,
            "min_height": null,
            "min_width": null,
            "object_fit": null,
            "object_position": null,
            "order": null,
            "overflow": null,
            "overflow_x": null,
            "overflow_y": null,
            "padding": null,
            "right": null,
            "top": null,
            "visibility": null,
            "width": null
          }
        },
        "b7c3de961eed46829ebe3440987e2759": {
          "model_module": "@jupyter-widgets/base",
          "model_name": "LayoutModel",
          "model_module_version": "1.2.0",
          "state": {
            "_model_module": "@jupyter-widgets/base",
            "_model_module_version": "1.2.0",
            "_model_name": "LayoutModel",
            "_view_count": null,
            "_view_module": "@jupyter-widgets/base",
            "_view_module_version": "1.2.0",
            "_view_name": "LayoutView",
            "align_content": null,
            "align_items": null,
            "align_self": null,
            "border": null,
            "bottom": null,
            "display": null,
            "flex": null,
            "flex_flow": null,
            "grid_area": null,
            "grid_auto_columns": null,
            "grid_auto_flow": null,
            "grid_auto_rows": null,
            "grid_column": null,
            "grid_gap": null,
            "grid_row": null,
            "grid_template_areas": null,
            "grid_template_columns": null,
            "grid_template_rows": null,
            "height": null,
            "justify_content": null,
            "justify_items": null,
            "left": null,
            "margin": null,
            "max_height": null,
            "max_width": null,
            "min_height": null,
            "min_width": null,
            "object_fit": null,
            "object_position": null,
            "order": null,
            "overflow": null,
            "overflow_x": null,
            "overflow_y": null,
            "padding": null,
            "right": null,
            "top": null,
            "visibility": null,
            "width": null
          }
        },
        "b2ae7772f71f408f86b31cee7e208283": {
          "model_module": "@jupyter-widgets/controls",
          "model_name": "DescriptionStyleModel",
          "model_module_version": "1.5.0",
          "state": {
            "_model_module": "@jupyter-widgets/controls",
            "_model_module_version": "1.5.0",
            "_model_name": "DescriptionStyleModel",
            "_view_count": null,
            "_view_module": "@jupyter-widgets/base",
            "_view_module_version": "1.2.0",
            "_view_name": "StyleView",
            "description_width": ""
          }
        },
        "e78ae4c98fd9418086c3d058259d54f1": {
          "model_module": "@jupyter-widgets/base",
          "model_name": "LayoutModel",
          "model_module_version": "1.2.0",
          "state": {
            "_model_module": "@jupyter-widgets/base",
            "_model_module_version": "1.2.0",
            "_model_name": "LayoutModel",
            "_view_count": null,
            "_view_module": "@jupyter-widgets/base",
            "_view_module_version": "1.2.0",
            "_view_name": "LayoutView",
            "align_content": null,
            "align_items": null,
            "align_self": null,
            "border": null,
            "bottom": null,
            "display": null,
            "flex": null,
            "flex_flow": null,
            "grid_area": null,
            "grid_auto_columns": null,
            "grid_auto_flow": null,
            "grid_auto_rows": null,
            "grid_column": null,
            "grid_gap": null,
            "grid_row": null,
            "grid_template_areas": null,
            "grid_template_columns": null,
            "grid_template_rows": null,
            "height": null,
            "justify_content": null,
            "justify_items": null,
            "left": null,
            "margin": null,
            "max_height": null,
            "max_width": null,
            "min_height": null,
            "min_width": null,
            "object_fit": null,
            "object_position": null,
            "order": null,
            "overflow": null,
            "overflow_x": null,
            "overflow_y": null,
            "padding": null,
            "right": null,
            "top": null,
            "visibility": null,
            "width": "20px"
          }
        },
        "f62a157dffe3443b941248faa7999eea": {
          "model_module": "@jupyter-widgets/controls",
          "model_name": "ProgressStyleModel",
          "model_module_version": "1.5.0",
          "state": {
            "_model_module": "@jupyter-widgets/controls",
            "_model_module_version": "1.5.0",
            "_model_name": "ProgressStyleModel",
            "_view_count": null,
            "_view_module": "@jupyter-widgets/base",
            "_view_module_version": "1.2.0",
            "_view_name": "StyleView",
            "bar_color": null,
            "description_width": ""
          }
        },
        "e507cbea386d4386a4945cda6cd1ccc4": {
          "model_module": "@jupyter-widgets/base",
          "model_name": "LayoutModel",
          "model_module_version": "1.2.0",
          "state": {
            "_model_module": "@jupyter-widgets/base",
            "_model_module_version": "1.2.0",
            "_model_name": "LayoutModel",
            "_view_count": null,
            "_view_module": "@jupyter-widgets/base",
            "_view_module_version": "1.2.0",
            "_view_name": "LayoutView",
            "align_content": null,
            "align_items": null,
            "align_self": null,
            "border": null,
            "bottom": null,
            "display": null,
            "flex": null,
            "flex_flow": null,
            "grid_area": null,
            "grid_auto_columns": null,
            "grid_auto_flow": null,
            "grid_auto_rows": null,
            "grid_column": null,
            "grid_gap": null,
            "grid_row": null,
            "grid_template_areas": null,
            "grid_template_columns": null,
            "grid_template_rows": null,
            "height": null,
            "justify_content": null,
            "justify_items": null,
            "left": null,
            "margin": null,
            "max_height": null,
            "max_width": null,
            "min_height": null,
            "min_width": null,
            "object_fit": null,
            "object_position": null,
            "order": null,
            "overflow": null,
            "overflow_x": null,
            "overflow_y": null,
            "padding": null,
            "right": null,
            "top": null,
            "visibility": null,
            "width": null
          }
        },
        "a6ecb2a8289f4969b5a4c25f64c4c1c3": {
          "model_module": "@jupyter-widgets/controls",
          "model_name": "DescriptionStyleModel",
          "model_module_version": "1.5.0",
          "state": {
            "_model_module": "@jupyter-widgets/controls",
            "_model_module_version": "1.5.0",
            "_model_name": "DescriptionStyleModel",
            "_view_count": null,
            "_view_module": "@jupyter-widgets/base",
            "_view_module_version": "1.2.0",
            "_view_name": "StyleView",
            "description_width": ""
          }
        },
        "d70200d061364d14bed462c2d72b6409": {
          "model_module": "@jupyter-widgets/controls",
          "model_name": "HBoxModel",
          "model_module_version": "1.5.0",
          "state": {
            "_dom_classes": [],
            "_model_module": "@jupyter-widgets/controls",
            "_model_module_version": "1.5.0",
            "_model_name": "HBoxModel",
            "_view_count": null,
            "_view_module": "@jupyter-widgets/controls",
            "_view_module_version": "1.5.0",
            "_view_name": "HBoxView",
            "box_style": "",
            "children": [
              "IPY_MODEL_8bfcc01ef6d044f1bf5358b48512ac6b",
              "IPY_MODEL_1dddef09136341029a8e07cb5e220254",
              "IPY_MODEL_06f182066545406c863f4aa7b0eb4707"
            ],
            "layout": "IPY_MODEL_d7242be894674cfa89567c54fec94d10"
          }
        },
        "8bfcc01ef6d044f1bf5358b48512ac6b": {
          "model_module": "@jupyter-widgets/controls",
          "model_name": "HTMLModel",
          "model_module_version": "1.5.0",
          "state": {
            "_dom_classes": [],
            "_model_module": "@jupyter-widgets/controls",
            "_model_module_version": "1.5.0",
            "_model_name": "HTMLModel",
            "_view_count": null,
            "_view_module": "@jupyter-widgets/controls",
            "_view_module_version": "1.5.0",
            "_view_name": "HTMLView",
            "description": "",
            "description_tooltip": null,
            "layout": "IPY_MODEL_b39cc52e3d614ada98c170e4117a21b2",
            "placeholder": "​",
            "style": "IPY_MODEL_56b68e46ad5b477994878135b52b5fac",
            "value": ""
          }
        },
        "1dddef09136341029a8e07cb5e220254": {
          "model_module": "@jupyter-widgets/controls",
          "model_name": "FloatProgressModel",
          "model_module_version": "1.5.0",
          "state": {
            "_dom_classes": [],
            "_model_module": "@jupyter-widgets/controls",
            "_model_module_version": "1.5.0",
            "_model_name": "FloatProgressModel",
            "_view_count": null,
            "_view_module": "@jupyter-widgets/controls",
            "_view_module_version": "1.5.0",
            "_view_name": "ProgressView",
            "bar_style": "success",
            "description": "",
            "description_tooltip": null,
            "layout": "IPY_MODEL_b3191b5c1c2c46fbb92e20aebcff6640",
            "max": 1,
            "min": 0,
            "orientation": "horizontal",
            "style": "IPY_MODEL_0fb13c7e17264409af1dc3ba14300868",
            "value": 1
          }
        },
        "06f182066545406c863f4aa7b0eb4707": {
          "model_module": "@jupyter-widgets/controls",
          "model_name": "HTMLModel",
          "model_module_version": "1.5.0",
          "state": {
            "_dom_classes": [],
            "_model_module": "@jupyter-widgets/controls",
            "_model_module_version": "1.5.0",
            "_model_name": "HTMLModel",
            "_view_count": null,
            "_view_module": "@jupyter-widgets/controls",
            "_view_module_version": "1.5.0",
            "_view_name": "HTMLView",
            "description": "",
            "description_tooltip": null,
            "layout": "IPY_MODEL_f0c5afcde0e241b7857c1b14e4773306",
            "placeholder": "​",
            "style": "IPY_MODEL_9910ff146c8c474a8f4e82f676298301",
            "value": " 450/? [04:52&lt;00:00,  1.62it/s]"
          }
        },
        "d7242be894674cfa89567c54fec94d10": {
          "model_module": "@jupyter-widgets/base",
          "model_name": "LayoutModel",
          "model_module_version": "1.2.0",
          "state": {
            "_model_module": "@jupyter-widgets/base",
            "_model_module_version": "1.2.0",
            "_model_name": "LayoutModel",
            "_view_count": null,
            "_view_module": "@jupyter-widgets/base",
            "_view_module_version": "1.2.0",
            "_view_name": "LayoutView",
            "align_content": null,
            "align_items": null,
            "align_self": null,
            "border": null,
            "bottom": null,
            "display": null,
            "flex": null,
            "flex_flow": null,
            "grid_area": null,
            "grid_auto_columns": null,
            "grid_auto_flow": null,
            "grid_auto_rows": null,
            "grid_column": null,
            "grid_gap": null,
            "grid_row": null,
            "grid_template_areas": null,
            "grid_template_columns": null,
            "grid_template_rows": null,
            "height": null,
            "justify_content": null,
            "justify_items": null,
            "left": null,
            "margin": null,
            "max_height": null,
            "max_width": null,
            "min_height": null,
            "min_width": null,
            "object_fit": null,
            "object_position": null,
            "order": null,
            "overflow": null,
            "overflow_x": null,
            "overflow_y": null,
            "padding": null,
            "right": null,
            "top": null,
            "visibility": null,
            "width": null
          }
        },
        "b39cc52e3d614ada98c170e4117a21b2": {
          "model_module": "@jupyter-widgets/base",
          "model_name": "LayoutModel",
          "model_module_version": "1.2.0",
          "state": {
            "_model_module": "@jupyter-widgets/base",
            "_model_module_version": "1.2.0",
            "_model_name": "LayoutModel",
            "_view_count": null,
            "_view_module": "@jupyter-widgets/base",
            "_view_module_version": "1.2.0",
            "_view_name": "LayoutView",
            "align_content": null,
            "align_items": null,
            "align_self": null,
            "border": null,
            "bottom": null,
            "display": null,
            "flex": null,
            "flex_flow": null,
            "grid_area": null,
            "grid_auto_columns": null,
            "grid_auto_flow": null,
            "grid_auto_rows": null,
            "grid_column": null,
            "grid_gap": null,
            "grid_row": null,
            "grid_template_areas": null,
            "grid_template_columns": null,
            "grid_template_rows": null,
            "height": null,
            "justify_content": null,
            "justify_items": null,
            "left": null,
            "margin": null,
            "max_height": null,
            "max_width": null,
            "min_height": null,
            "min_width": null,
            "object_fit": null,
            "object_position": null,
            "order": null,
            "overflow": null,
            "overflow_x": null,
            "overflow_y": null,
            "padding": null,
            "right": null,
            "top": null,
            "visibility": null,
            "width": null
          }
        },
        "56b68e46ad5b477994878135b52b5fac": {
          "model_module": "@jupyter-widgets/controls",
          "model_name": "DescriptionStyleModel",
          "model_module_version": "1.5.0",
          "state": {
            "_model_module": "@jupyter-widgets/controls",
            "_model_module_version": "1.5.0",
            "_model_name": "DescriptionStyleModel",
            "_view_count": null,
            "_view_module": "@jupyter-widgets/base",
            "_view_module_version": "1.2.0",
            "_view_name": "StyleView",
            "description_width": ""
          }
        },
        "b3191b5c1c2c46fbb92e20aebcff6640": {
          "model_module": "@jupyter-widgets/base",
          "model_name": "LayoutModel",
          "model_module_version": "1.2.0",
          "state": {
            "_model_module": "@jupyter-widgets/base",
            "_model_module_version": "1.2.0",
            "_model_name": "LayoutModel",
            "_view_count": null,
            "_view_module": "@jupyter-widgets/base",
            "_view_module_version": "1.2.0",
            "_view_name": "LayoutView",
            "align_content": null,
            "align_items": null,
            "align_self": null,
            "border": null,
            "bottom": null,
            "display": null,
            "flex": null,
            "flex_flow": null,
            "grid_area": null,
            "grid_auto_columns": null,
            "grid_auto_flow": null,
            "grid_auto_rows": null,
            "grid_column": null,
            "grid_gap": null,
            "grid_row": null,
            "grid_template_areas": null,
            "grid_template_columns": null,
            "grid_template_rows": null,
            "height": null,
            "justify_content": null,
            "justify_items": null,
            "left": null,
            "margin": null,
            "max_height": null,
            "max_width": null,
            "min_height": null,
            "min_width": null,
            "object_fit": null,
            "object_position": null,
            "order": null,
            "overflow": null,
            "overflow_x": null,
            "overflow_y": null,
            "padding": null,
            "right": null,
            "top": null,
            "visibility": null,
            "width": "20px"
          }
        },
        "0fb13c7e17264409af1dc3ba14300868": {
          "model_module": "@jupyter-widgets/controls",
          "model_name": "ProgressStyleModel",
          "model_module_version": "1.5.0",
          "state": {
            "_model_module": "@jupyter-widgets/controls",
            "_model_module_version": "1.5.0",
            "_model_name": "ProgressStyleModel",
            "_view_count": null,
            "_view_module": "@jupyter-widgets/base",
            "_view_module_version": "1.2.0",
            "_view_name": "StyleView",
            "bar_color": null,
            "description_width": ""
          }
        },
        "f0c5afcde0e241b7857c1b14e4773306": {
          "model_module": "@jupyter-widgets/base",
          "model_name": "LayoutModel",
          "model_module_version": "1.2.0",
          "state": {
            "_model_module": "@jupyter-widgets/base",
            "_model_module_version": "1.2.0",
            "_model_name": "LayoutModel",
            "_view_count": null,
            "_view_module": "@jupyter-widgets/base",
            "_view_module_version": "1.2.0",
            "_view_name": "LayoutView",
            "align_content": null,
            "align_items": null,
            "align_self": null,
            "border": null,
            "bottom": null,
            "display": null,
            "flex": null,
            "flex_flow": null,
            "grid_area": null,
            "grid_auto_columns": null,
            "grid_auto_flow": null,
            "grid_auto_rows": null,
            "grid_column": null,
            "grid_gap": null,
            "grid_row": null,
            "grid_template_areas": null,
            "grid_template_columns": null,
            "grid_template_rows": null,
            "height": null,
            "justify_content": null,
            "justify_items": null,
            "left": null,
            "margin": null,
            "max_height": null,
            "max_width": null,
            "min_height": null,
            "min_width": null,
            "object_fit": null,
            "object_position": null,
            "order": null,
            "overflow": null,
            "overflow_x": null,
            "overflow_y": null,
            "padding": null,
            "right": null,
            "top": null,
            "visibility": null,
            "width": null
          }
        },
        "9910ff146c8c474a8f4e82f676298301": {
          "model_module": "@jupyter-widgets/controls",
          "model_name": "DescriptionStyleModel",
          "model_module_version": "1.5.0",
          "state": {
            "_model_module": "@jupyter-widgets/controls",
            "_model_module_version": "1.5.0",
            "_model_name": "DescriptionStyleModel",
            "_view_count": null,
            "_view_module": "@jupyter-widgets/base",
            "_view_module_version": "1.2.0",
            "_view_name": "StyleView",
            "description_width": ""
          }
        },
        "12f45e7960bf4d109b365e6908fab9b7": {
          "model_module": "@jupyter-widgets/controls",
          "model_name": "HBoxModel",
          "model_module_version": "1.5.0",
          "state": {
            "_dom_classes": [],
            "_model_module": "@jupyter-widgets/controls",
            "_model_module_version": "1.5.0",
            "_model_name": "HBoxModel",
            "_view_count": null,
            "_view_module": "@jupyter-widgets/controls",
            "_view_module_version": "1.5.0",
            "_view_name": "HBoxView",
            "box_style": "",
            "children": [
              "IPY_MODEL_f4e0f2cfe0ac46219b9094c908121b76",
              "IPY_MODEL_1a17c4c67cbf443d85a6af8c2e5bfdf0",
              "IPY_MODEL_73823a09fab347989b2e5afca6704dd8"
            ],
            "layout": "IPY_MODEL_90f0286fb9c844508e45e582b82b07e2"
          }
        },
        "f4e0f2cfe0ac46219b9094c908121b76": {
          "model_module": "@jupyter-widgets/controls",
          "model_name": "HTMLModel",
          "model_module_version": "1.5.0",
          "state": {
            "_dom_classes": [],
            "_model_module": "@jupyter-widgets/controls",
            "_model_module_version": "1.5.0",
            "_model_name": "HTMLModel",
            "_view_count": null,
            "_view_module": "@jupyter-widgets/controls",
            "_view_module_version": "1.5.0",
            "_view_name": "HTMLView",
            "description": "",
            "description_tooltip": null,
            "layout": "IPY_MODEL_c2adb6d4b54b44f0bab6245a62cb232a",
            "placeholder": "​",
            "style": "IPY_MODEL_66e72ea020124fda8732a4347afad693",
            "value": ""
          }
        },
        "1a17c4c67cbf443d85a6af8c2e5bfdf0": {
          "model_module": "@jupyter-widgets/controls",
          "model_name": "FloatProgressModel",
          "model_module_version": "1.5.0",
          "state": {
            "_dom_classes": [],
            "_model_module": "@jupyter-widgets/controls",
            "_model_module_version": "1.5.0",
            "_model_name": "FloatProgressModel",
            "_view_count": null,
            "_view_module": "@jupyter-widgets/controls",
            "_view_module_version": "1.5.0",
            "_view_name": "ProgressView",
            "bar_style": "success",
            "description": "",
            "description_tooltip": null,
            "layout": "IPY_MODEL_e9abb02b81674c7693c29c25bb3c963a",
            "max": 1,
            "min": 0,
            "orientation": "horizontal",
            "style": "IPY_MODEL_ec535b0b899d439eb463c992309d9db1",
            "value": 1
          }
        },
        "73823a09fab347989b2e5afca6704dd8": {
          "model_module": "@jupyter-widgets/controls",
          "model_name": "HTMLModel",
          "model_module_version": "1.5.0",
          "state": {
            "_dom_classes": [],
            "_model_module": "@jupyter-widgets/controls",
            "_model_module_version": "1.5.0",
            "_model_name": "HTMLModel",
            "_view_count": null,
            "_view_module": "@jupyter-widgets/controls",
            "_view_module_version": "1.5.0",
            "_view_name": "HTMLView",
            "description": "",
            "description_tooltip": null,
            "layout": "IPY_MODEL_f5fc0382cfb34a1e952972a8e22cce96",
            "placeholder": "​",
            "style": "IPY_MODEL_52ec1ebbaa494d80b471666fd56e4619",
            "value": " 625/? [07:09&lt;00:00,  1.11it/s]"
          }
        },
        "90f0286fb9c844508e45e582b82b07e2": {
          "model_module": "@jupyter-widgets/base",
          "model_name": "LayoutModel",
          "model_module_version": "1.2.0",
          "state": {
            "_model_module": "@jupyter-widgets/base",
            "_model_module_version": "1.2.0",
            "_model_name": "LayoutModel",
            "_view_count": null,
            "_view_module": "@jupyter-widgets/base",
            "_view_module_version": "1.2.0",
            "_view_name": "LayoutView",
            "align_content": null,
            "align_items": null,
            "align_self": null,
            "border": null,
            "bottom": null,
            "display": null,
            "flex": null,
            "flex_flow": null,
            "grid_area": null,
            "grid_auto_columns": null,
            "grid_auto_flow": null,
            "grid_auto_rows": null,
            "grid_column": null,
            "grid_gap": null,
            "grid_row": null,
            "grid_template_areas": null,
            "grid_template_columns": null,
            "grid_template_rows": null,
            "height": null,
            "justify_content": null,
            "justify_items": null,
            "left": null,
            "margin": null,
            "max_height": null,
            "max_width": null,
            "min_height": null,
            "min_width": null,
            "object_fit": null,
            "object_position": null,
            "order": null,
            "overflow": null,
            "overflow_x": null,
            "overflow_y": null,
            "padding": null,
            "right": null,
            "top": null,
            "visibility": null,
            "width": null
          }
        },
        "c2adb6d4b54b44f0bab6245a62cb232a": {
          "model_module": "@jupyter-widgets/base",
          "model_name": "LayoutModel",
          "model_module_version": "1.2.0",
          "state": {
            "_model_module": "@jupyter-widgets/base",
            "_model_module_version": "1.2.0",
            "_model_name": "LayoutModel",
            "_view_count": null,
            "_view_module": "@jupyter-widgets/base",
            "_view_module_version": "1.2.0",
            "_view_name": "LayoutView",
            "align_content": null,
            "align_items": null,
            "align_self": null,
            "border": null,
            "bottom": null,
            "display": null,
            "flex": null,
            "flex_flow": null,
            "grid_area": null,
            "grid_auto_columns": null,
            "grid_auto_flow": null,
            "grid_auto_rows": null,
            "grid_column": null,
            "grid_gap": null,
            "grid_row": null,
            "grid_template_areas": null,
            "grid_template_columns": null,
            "grid_template_rows": null,
            "height": null,
            "justify_content": null,
            "justify_items": null,
            "left": null,
            "margin": null,
            "max_height": null,
            "max_width": null,
            "min_height": null,
            "min_width": null,
            "object_fit": null,
            "object_position": null,
            "order": null,
            "overflow": null,
            "overflow_x": null,
            "overflow_y": null,
            "padding": null,
            "right": null,
            "top": null,
            "visibility": null,
            "width": null
          }
        },
        "66e72ea020124fda8732a4347afad693": {
          "model_module": "@jupyter-widgets/controls",
          "model_name": "DescriptionStyleModel",
          "model_module_version": "1.5.0",
          "state": {
            "_model_module": "@jupyter-widgets/controls",
            "_model_module_version": "1.5.0",
            "_model_name": "DescriptionStyleModel",
            "_view_count": null,
            "_view_module": "@jupyter-widgets/base",
            "_view_module_version": "1.2.0",
            "_view_name": "StyleView",
            "description_width": ""
          }
        },
        "e9abb02b81674c7693c29c25bb3c963a": {
          "model_module": "@jupyter-widgets/base",
          "model_name": "LayoutModel",
          "model_module_version": "1.2.0",
          "state": {
            "_model_module": "@jupyter-widgets/base",
            "_model_module_version": "1.2.0",
            "_model_name": "LayoutModel",
            "_view_count": null,
            "_view_module": "@jupyter-widgets/base",
            "_view_module_version": "1.2.0",
            "_view_name": "LayoutView",
            "align_content": null,
            "align_items": null,
            "align_self": null,
            "border": null,
            "bottom": null,
            "display": null,
            "flex": null,
            "flex_flow": null,
            "grid_area": null,
            "grid_auto_columns": null,
            "grid_auto_flow": null,
            "grid_auto_rows": null,
            "grid_column": null,
            "grid_gap": null,
            "grid_row": null,
            "grid_template_areas": null,
            "grid_template_columns": null,
            "grid_template_rows": null,
            "height": null,
            "justify_content": null,
            "justify_items": null,
            "left": null,
            "margin": null,
            "max_height": null,
            "max_width": null,
            "min_height": null,
            "min_width": null,
            "object_fit": null,
            "object_position": null,
            "order": null,
            "overflow": null,
            "overflow_x": null,
            "overflow_y": null,
            "padding": null,
            "right": null,
            "top": null,
            "visibility": null,
            "width": "20px"
          }
        },
        "ec535b0b899d439eb463c992309d9db1": {
          "model_module": "@jupyter-widgets/controls",
          "model_name": "ProgressStyleModel",
          "model_module_version": "1.5.0",
          "state": {
            "_model_module": "@jupyter-widgets/controls",
            "_model_module_version": "1.5.0",
            "_model_name": "ProgressStyleModel",
            "_view_count": null,
            "_view_module": "@jupyter-widgets/base",
            "_view_module_version": "1.2.0",
            "_view_name": "StyleView",
            "bar_color": null,
            "description_width": ""
          }
        },
        "f5fc0382cfb34a1e952972a8e22cce96": {
          "model_module": "@jupyter-widgets/base",
          "model_name": "LayoutModel",
          "model_module_version": "1.2.0",
          "state": {
            "_model_module": "@jupyter-widgets/base",
            "_model_module_version": "1.2.0",
            "_model_name": "LayoutModel",
            "_view_count": null,
            "_view_module": "@jupyter-widgets/base",
            "_view_module_version": "1.2.0",
            "_view_name": "LayoutView",
            "align_content": null,
            "align_items": null,
            "align_self": null,
            "border": null,
            "bottom": null,
            "display": null,
            "flex": null,
            "flex_flow": null,
            "grid_area": null,
            "grid_auto_columns": null,
            "grid_auto_flow": null,
            "grid_auto_rows": null,
            "grid_column": null,
            "grid_gap": null,
            "grid_row": null,
            "grid_template_areas": null,
            "grid_template_columns": null,
            "grid_template_rows": null,
            "height": null,
            "justify_content": null,
            "justify_items": null,
            "left": null,
            "margin": null,
            "max_height": null,
            "max_width": null,
            "min_height": null,
            "min_width": null,
            "object_fit": null,
            "object_position": null,
            "order": null,
            "overflow": null,
            "overflow_x": null,
            "overflow_y": null,
            "padding": null,
            "right": null,
            "top": null,
            "visibility": null,
            "width": null
          }
        },
        "52ec1ebbaa494d80b471666fd56e4619": {
          "model_module": "@jupyter-widgets/controls",
          "model_name": "DescriptionStyleModel",
          "model_module_version": "1.5.0",
          "state": {
            "_model_module": "@jupyter-widgets/controls",
            "_model_module_version": "1.5.0",
            "_model_name": "DescriptionStyleModel",
            "_view_count": null,
            "_view_module": "@jupyter-widgets/base",
            "_view_module_version": "1.2.0",
            "_view_name": "StyleView",
            "description_width": ""
          }
        },
        "1e1e8b4cbf3b41febc2b6adeb5ff961e": {
          "model_module": "@jupyter-widgets/controls",
          "model_name": "HBoxModel",
          "model_module_version": "1.5.0",
          "state": {
            "_dom_classes": [],
            "_model_module": "@jupyter-widgets/controls",
            "_model_module_version": "1.5.0",
            "_model_name": "HBoxModel",
            "_view_count": null,
            "_view_module": "@jupyter-widgets/controls",
            "_view_module_version": "1.5.0",
            "_view_name": "HBoxView",
            "box_style": "",
            "children": [
              "IPY_MODEL_18ba938225b0483e9a2aa7f6be15e585",
              "IPY_MODEL_0018ee984e6342789c24927145a8387c",
              "IPY_MODEL_2a7205e84e0f42b8922b3e95bfcd29fd"
            ],
            "layout": "IPY_MODEL_7143a6ce5a72479aafad358bd69ba13b"
          }
        },
        "18ba938225b0483e9a2aa7f6be15e585": {
          "model_module": "@jupyter-widgets/controls",
          "model_name": "HTMLModel",
          "model_module_version": "1.5.0",
          "state": {
            "_dom_classes": [],
            "_model_module": "@jupyter-widgets/controls",
            "_model_module_version": "1.5.0",
            "_model_name": "HTMLModel",
            "_view_count": null,
            "_view_module": "@jupyter-widgets/controls",
            "_view_module_version": "1.5.0",
            "_view_name": "HTMLView",
            "description": "",
            "description_tooltip": null,
            "layout": "IPY_MODEL_821bd975c1734f3faa1d0b7c28ae4faa",
            "placeholder": "​",
            "style": "IPY_MODEL_f2bb473b386243018adc8538f1b9e3cb",
            "value": ""
          }
        },
        "0018ee984e6342789c24927145a8387c": {
          "model_module": "@jupyter-widgets/controls",
          "model_name": "FloatProgressModel",
          "model_module_version": "1.5.0",
          "state": {
            "_dom_classes": [],
            "_model_module": "@jupyter-widgets/controls",
            "_model_module_version": "1.5.0",
            "_model_name": "FloatProgressModel",
            "_view_count": null,
            "_view_module": "@jupyter-widgets/controls",
            "_view_module_version": "1.5.0",
            "_view_name": "ProgressView",
            "bar_style": "success",
            "description": "",
            "description_tooltip": null,
            "layout": "IPY_MODEL_202343787c0d49acb1fec44e20814ef5",
            "max": 1,
            "min": 0,
            "orientation": "horizontal",
            "style": "IPY_MODEL_f5b076745f48421fabeeae2035c9dfae",
            "value": 1
          }
        },
        "2a7205e84e0f42b8922b3e95bfcd29fd": {
          "model_module": "@jupyter-widgets/controls",
          "model_name": "HTMLModel",
          "model_module_version": "1.5.0",
          "state": {
            "_dom_classes": [],
            "_model_module": "@jupyter-widgets/controls",
            "_model_module_version": "1.5.0",
            "_model_name": "HTMLModel",
            "_view_count": null,
            "_view_module": "@jupyter-widgets/controls",
            "_view_module_version": "1.5.0",
            "_view_name": "HTMLView",
            "description": "",
            "description_tooltip": null,
            "layout": "IPY_MODEL_6191859aa4df45699b44290cf74ab4b6",
            "placeholder": "​",
            "style": "IPY_MODEL_f0b69503941e41b29955fd154e4a564b",
            "value": " 900/? [09:50&lt;00:00,  1.49it/s]"
          }
        },
        "7143a6ce5a72479aafad358bd69ba13b": {
          "model_module": "@jupyter-widgets/base",
          "model_name": "LayoutModel",
          "model_module_version": "1.2.0",
          "state": {
            "_model_module": "@jupyter-widgets/base",
            "_model_module_version": "1.2.0",
            "_model_name": "LayoutModel",
            "_view_count": null,
            "_view_module": "@jupyter-widgets/base",
            "_view_module_version": "1.2.0",
            "_view_name": "LayoutView",
            "align_content": null,
            "align_items": null,
            "align_self": null,
            "border": null,
            "bottom": null,
            "display": null,
            "flex": null,
            "flex_flow": null,
            "grid_area": null,
            "grid_auto_columns": null,
            "grid_auto_flow": null,
            "grid_auto_rows": null,
            "grid_column": null,
            "grid_gap": null,
            "grid_row": null,
            "grid_template_areas": null,
            "grid_template_columns": null,
            "grid_template_rows": null,
            "height": null,
            "justify_content": null,
            "justify_items": null,
            "left": null,
            "margin": null,
            "max_height": null,
            "max_width": null,
            "min_height": null,
            "min_width": null,
            "object_fit": null,
            "object_position": null,
            "order": null,
            "overflow": null,
            "overflow_x": null,
            "overflow_y": null,
            "padding": null,
            "right": null,
            "top": null,
            "visibility": null,
            "width": null
          }
        },
        "821bd975c1734f3faa1d0b7c28ae4faa": {
          "model_module": "@jupyter-widgets/base",
          "model_name": "LayoutModel",
          "model_module_version": "1.2.0",
          "state": {
            "_model_module": "@jupyter-widgets/base",
            "_model_module_version": "1.2.0",
            "_model_name": "LayoutModel",
            "_view_count": null,
            "_view_module": "@jupyter-widgets/base",
            "_view_module_version": "1.2.0",
            "_view_name": "LayoutView",
            "align_content": null,
            "align_items": null,
            "align_self": null,
            "border": null,
            "bottom": null,
            "display": null,
            "flex": null,
            "flex_flow": null,
            "grid_area": null,
            "grid_auto_columns": null,
            "grid_auto_flow": null,
            "grid_auto_rows": null,
            "grid_column": null,
            "grid_gap": null,
            "grid_row": null,
            "grid_template_areas": null,
            "grid_template_columns": null,
            "grid_template_rows": null,
            "height": null,
            "justify_content": null,
            "justify_items": null,
            "left": null,
            "margin": null,
            "max_height": null,
            "max_width": null,
            "min_height": null,
            "min_width": null,
            "object_fit": null,
            "object_position": null,
            "order": null,
            "overflow": null,
            "overflow_x": null,
            "overflow_y": null,
            "padding": null,
            "right": null,
            "top": null,
            "visibility": null,
            "width": null
          }
        },
        "f2bb473b386243018adc8538f1b9e3cb": {
          "model_module": "@jupyter-widgets/controls",
          "model_name": "DescriptionStyleModel",
          "model_module_version": "1.5.0",
          "state": {
            "_model_module": "@jupyter-widgets/controls",
            "_model_module_version": "1.5.0",
            "_model_name": "DescriptionStyleModel",
            "_view_count": null,
            "_view_module": "@jupyter-widgets/base",
            "_view_module_version": "1.2.0",
            "_view_name": "StyleView",
            "description_width": ""
          }
        },
        "202343787c0d49acb1fec44e20814ef5": {
          "model_module": "@jupyter-widgets/base",
          "model_name": "LayoutModel",
          "model_module_version": "1.2.0",
          "state": {
            "_model_module": "@jupyter-widgets/base",
            "_model_module_version": "1.2.0",
            "_model_name": "LayoutModel",
            "_view_count": null,
            "_view_module": "@jupyter-widgets/base",
            "_view_module_version": "1.2.0",
            "_view_name": "LayoutView",
            "align_content": null,
            "align_items": null,
            "align_self": null,
            "border": null,
            "bottom": null,
            "display": null,
            "flex": null,
            "flex_flow": null,
            "grid_area": null,
            "grid_auto_columns": null,
            "grid_auto_flow": null,
            "grid_auto_rows": null,
            "grid_column": null,
            "grid_gap": null,
            "grid_row": null,
            "grid_template_areas": null,
            "grid_template_columns": null,
            "grid_template_rows": null,
            "height": null,
            "justify_content": null,
            "justify_items": null,
            "left": null,
            "margin": null,
            "max_height": null,
            "max_width": null,
            "min_height": null,
            "min_width": null,
            "object_fit": null,
            "object_position": null,
            "order": null,
            "overflow": null,
            "overflow_x": null,
            "overflow_y": null,
            "padding": null,
            "right": null,
            "top": null,
            "visibility": null,
            "width": "20px"
          }
        },
        "f5b076745f48421fabeeae2035c9dfae": {
          "model_module": "@jupyter-widgets/controls",
          "model_name": "ProgressStyleModel",
          "model_module_version": "1.5.0",
          "state": {
            "_model_module": "@jupyter-widgets/controls",
            "_model_module_version": "1.5.0",
            "_model_name": "ProgressStyleModel",
            "_view_count": null,
            "_view_module": "@jupyter-widgets/base",
            "_view_module_version": "1.2.0",
            "_view_name": "StyleView",
            "bar_color": null,
            "description_width": ""
          }
        },
        "6191859aa4df45699b44290cf74ab4b6": {
          "model_module": "@jupyter-widgets/base",
          "model_name": "LayoutModel",
          "model_module_version": "1.2.0",
          "state": {
            "_model_module": "@jupyter-widgets/base",
            "_model_module_version": "1.2.0",
            "_model_name": "LayoutModel",
            "_view_count": null,
            "_view_module": "@jupyter-widgets/base",
            "_view_module_version": "1.2.0",
            "_view_name": "LayoutView",
            "align_content": null,
            "align_items": null,
            "align_self": null,
            "border": null,
            "bottom": null,
            "display": null,
            "flex": null,
            "flex_flow": null,
            "grid_area": null,
            "grid_auto_columns": null,
            "grid_auto_flow": null,
            "grid_auto_rows": null,
            "grid_column": null,
            "grid_gap": null,
            "grid_row": null,
            "grid_template_areas": null,
            "grid_template_columns": null,
            "grid_template_rows": null,
            "height": null,
            "justify_content": null,
            "justify_items": null,
            "left": null,
            "margin": null,
            "max_height": null,
            "max_width": null,
            "min_height": null,
            "min_width": null,
            "object_fit": null,
            "object_position": null,
            "order": null,
            "overflow": null,
            "overflow_x": null,
            "overflow_y": null,
            "padding": null,
            "right": null,
            "top": null,
            "visibility": null,
            "width": null
          }
        },
        "f0b69503941e41b29955fd154e4a564b": {
          "model_module": "@jupyter-widgets/controls",
          "model_name": "DescriptionStyleModel",
          "model_module_version": "1.5.0",
          "state": {
            "_model_module": "@jupyter-widgets/controls",
            "_model_module_version": "1.5.0",
            "_model_name": "DescriptionStyleModel",
            "_view_count": null,
            "_view_module": "@jupyter-widgets/base",
            "_view_module_version": "1.2.0",
            "_view_name": "StyleView",
            "description_width": ""
          }
        }
      }
    }
  },
  "nbformat": 4,
  "nbformat_minor": 0
}